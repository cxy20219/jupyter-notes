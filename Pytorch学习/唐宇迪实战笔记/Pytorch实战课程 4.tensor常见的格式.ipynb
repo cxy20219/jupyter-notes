{
 "cells": [
  {
   "cell_type": "markdown",
   "id": "381a6f8a",
   "metadata": {},
   "source": [
    "## Tensor常见的形式\n",
    "* scalar\n",
    "* vechor\n",
    "* matrix\n",
    "* n-dimensional tensor"
   ]
  },
  {
   "cell_type": "code",
   "execution_count": 1,
   "id": "240dc549",
   "metadata": {},
   "outputs": [],
   "source": [
    "import torch\n",
    "from torch import tensor"
   ]
  },
  {
   "cell_type": "markdown",
   "id": "5f69803b",
   "metadata": {},
   "source": [
    "## Scalar\n",
    "通常是一个数值"
   ]
  },
  {
   "cell_type": "code",
   "execution_count": 9,
   "id": "9500c1a7",
   "metadata": {},
   "outputs": [
    {
     "data": {
      "text/plain": [
       "tensor(42.)"
      ]
     },
     "execution_count": 9,
     "metadata": {},
     "output_type": "execute_result"
    }
   ],
   "source": [
    "x=tensor(42.)\n",
    "x"
   ]
  },
  {
   "cell_type": "markdown",
   "id": "6d20c623",
   "metadata": {},
   "source": [
    "*.dim()获取维度*"
   ]
  },
  {
   "cell_type": "code",
   "execution_count": 10,
   "id": "50c55f15",
   "metadata": {},
   "outputs": [
    {
     "data": {
      "text/plain": [
       "0"
      ]
     },
     "execution_count": 10,
     "metadata": {},
     "output_type": "execute_result"
    }
   ],
   "source": [
    "x.dim()"
   ]
  },
  {
   "cell_type": "code",
   "execution_count": 11,
   "id": "f9c0c49c",
   "metadata": {},
   "outputs": [
    {
     "data": {
      "text/plain": [
       "tensor(84.)"
      ]
     },
     "execution_count": 11,
     "metadata": {},
     "output_type": "execute_result"
    }
   ],
   "source": [
    "2*x"
   ]
  },
  {
   "cell_type": "markdown",
   "id": "a74a5e27",
   "metadata": {},
   "source": [
    "*pytorch中，.item()方法 是得到一个元素张量里面的元素值  \n",
    "具体就是 用于将一个零维张量转换成浮点数，比如计算loss，accuracy的值*"
   ]
  },
  {
   "cell_type": "code",
   "execution_count": 12,
   "id": "8ba2e8d8",
   "metadata": {},
   "outputs": [
    {
     "data": {
      "text/plain": [
       "42.0"
      ]
     },
     "execution_count": 12,
     "metadata": {},
     "output_type": "execute_result"
    }
   ],
   "source": [
    "x.item()"
   ]
  },
  {
   "cell_type": "markdown",
   "id": "b3b86e8c",
   "metadata": {},
   "source": [
    "## Vector\n",
    "例如：[-5.,2.,0.]，在深度学习中通常是指特征，例如词向量特征，某一维度特征等"
   ]
  },
  {
   "cell_type": "code",
   "execution_count": 13,
   "id": "65db1228",
   "metadata": {},
   "outputs": [
    {
     "data": {
      "text/plain": [
       "tensor([ 1.4000, -0.5000,  3.0000])"
      ]
     },
     "execution_count": 13,
     "metadata": {},
     "output_type": "execute_result"
    }
   ],
   "source": [
    "v=tensor([1.4,-0.5,3.0])\n",
    "v"
   ]
  },
  {
   "cell_type": "code",
   "execution_count": 14,
   "id": "860db5f6",
   "metadata": {},
   "outputs": [
    {
     "data": {
      "text/plain": [
       "1"
      ]
     },
     "execution_count": 14,
     "metadata": {},
     "output_type": "execute_result"
    }
   ],
   "source": [
    "v.dim()"
   ]
  },
  {
   "cell_type": "markdown",
   "id": "53cb4fec",
   "metadata": {},
   "source": [
    "*.size()获取每个维度数量*"
   ]
  },
  {
   "cell_type": "code",
   "execution_count": 20,
   "id": "225e149b",
   "metadata": {},
   "outputs": [
    {
     "data": {
      "text/plain": [
       "torch.Size([3])"
      ]
     },
     "execution_count": 20,
     "metadata": {},
     "output_type": "execute_result"
    }
   ],
   "source": [
    "v.size()"
   ]
  },
  {
   "cell_type": "markdown",
   "id": "7f9aa4ab",
   "metadata": {},
   "source": [
    "## Matrix\n",
    "* 一般计算的都是矩阵，通常都是多维的"
   ]
  },
  {
   "cell_type": "code",
   "execution_count": 21,
   "id": "d1996148",
   "metadata": {},
   "outputs": [
    {
     "data": {
      "text/plain": [
       "tensor([[1., 2.],\n",
       "        [3., 4.]])"
      ]
     },
     "execution_count": 21,
     "metadata": {},
     "output_type": "execute_result"
    }
   ],
   "source": [
    "M=tensor([[1.,2.],[3.,4.]])\n",
    "M"
   ]
  },
  {
   "cell_type": "markdown",
   "id": "02580f9b",
   "metadata": {},
   "source": [
    "*.matmul()矩阵乘法*"
   ]
  },
  {
   "cell_type": "code",
   "execution_count": 22,
   "id": "4a133635",
   "metadata": {},
   "outputs": [
    {
     "data": {
      "text/plain": [
       "tensor([[ 7., 10.],\n",
       "        [15., 22.]])"
      ]
     },
     "execution_count": 22,
     "metadata": {},
     "output_type": "execute_result"
    }
   ],
   "source": [
    "M.matmul(M)"
   ]
  },
  {
   "cell_type": "code",
   "execution_count": 23,
   "id": "158953f9",
   "metadata": {},
   "outputs": [
    {
     "data": {
      "text/plain": [
       "tensor([[ 1.,  4.],\n",
       "        [ 9., 16.]])"
      ]
     },
     "execution_count": 23,
     "metadata": {},
     "output_type": "execute_result"
    }
   ],
   "source": [
    "M*M"
   ]
  },
  {
   "cell_type": "markdown",
   "id": "eabba76c",
   "metadata": {},
   "source": [
    "## n-dimensional tensor\n",
    "多维矩阵"
   ]
  }
 ],
 "metadata": {
  "kernelspec": {
   "display_name": "Python 3 (ipykernel)",
   "language": "python",
   "name": "python3"
  },
  "language_info": {
   "codemirror_mode": {
    "name": "ipython",
    "version": 3
   },
   "file_extension": ".py",
   "mimetype": "text/x-python",
   "name": "python",
   "nbconvert_exporter": "python",
   "pygments_lexer": "ipython3",
   "version": "3.9.7"
  }
 },
 "nbformat": 4,
 "nbformat_minor": 5
}
