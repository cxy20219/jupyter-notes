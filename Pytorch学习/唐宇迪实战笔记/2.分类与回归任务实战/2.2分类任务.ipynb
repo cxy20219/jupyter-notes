{
 "cells": [
  {
   "cell_type": "markdown",
   "metadata": {},
   "source": [
    "### Mnist分类任务：\n",
    "\n",
    "- 网络基本构建与训练方法，常用函数解析\n",
    "\n",
    "- torch.nn.functional模块\n",
    "\n",
    "- nn.Module模块\n"
   ]
  },
  {
   "cell_type": "markdown",
   "metadata": {},
   "source": [
    "### 获取Mnist数据集\n",
    "- 会自动进行下载"
   ]
  },
  {
   "cell_type": "code",
   "execution_count": 1,
   "metadata": {
    "collapsed": true
   },
   "outputs": [],
   "source": [
    "%matplotlib inline"
   ]
  },
  {
   "cell_type": "code",
   "execution_count": 2,
   "metadata": {
    "collapsed": true
   },
   "outputs": [],
   "source": [
    "import torch\n",
    "import torchvision"
   ]
  },
  {
   "cell_type": "code",
   "execution_count": 3,
   "metadata": {},
   "outputs": [],
   "source": [
    "train_data = torchvision.datasets.MNIST(\n",
    "    root = \"../../../../datas/minist\",\n",
    "    train = True,\n",
    "    download = True,\n",
    ") "
   ]
  },
  {
   "cell_type": "code",
   "execution_count": 4,
   "metadata": {},
   "outputs": [],
   "source": [
    "test_data = torchvision.datasets.MNIST(\n",
    "    root = \"../../../../datas/minist\",\n",
    "    train = False,\n",
    "    download = True,\n",
    ") "
   ]
  },
  {
   "cell_type": "code",
   "execution_count": 5,
   "metadata": {},
   "outputs": [
    {
     "data": {
      "text/plain": [
       "(-0.5, 27.5, 27.5, -0.5)"
      ]
     },
     "execution_count": 5,
     "metadata": {},
     "output_type": "execute_result"
    },
    {
     "data": {
      "image/png": "[encoded data removed]",
      "text/plain": [
       "<Figure size 640x480 with 1 Axes>"
      ]
     },
     "metadata": {},
     "output_type": "display_data"
    }
   ],
   "source": [
    "import cv2\n",
    "import numpy as np\n",
    "from matplotlib import pyplot as plt\n",
    "img = np.array(train_data.data[0])\n",
    "plt.imshow(img,cmap=\"gray\")\n",
    "plt.axis(\"off\")"
   ]
  },
  {
   "cell_type": "markdown",
   "metadata": {},
   "source": [
    "784是mnist数据集每个样本的像素点个数"
   ]
  },
  {
   "cell_type": "code",
   "execution_count": 6,
   "metadata": {},
   "outputs": [
    {
     "data": {
      "text/plain": [
       "tensor([5, 0, 4,  ..., 5, 6, 8])"
      ]
     },
     "execution_count": 6,
     "metadata": {},
     "output_type": "execute_result"
    }
   ],
   "source": [
    "train_data.targets"
   ]
  },
  {
   "cell_type": "code",
   "execution_count": 7,
   "metadata": {},
   "outputs": [
    {
     "data": {
      "text/plain": [
       "torch.Size([60000, 28, 28])"
      ]
     },
     "execution_count": 7,
     "metadata": {},
     "output_type": "execute_result"
    }
   ],
   "source": [
    "train_data.data.shape"
   ]
  },
  {
   "cell_type": "code",
   "execution_count": 8,
   "metadata": {},
   "outputs": [
    {
     "data": {
      "text/plain": [
       "torch.Size([10000, 28, 28])"
      ]
     },
     "execution_count": 8,
     "metadata": {},
     "output_type": "execute_result"
    }
   ],
   "source": [
    "test_data.data.shape"
   ]
  },
  {
   "cell_type": "markdown",
   "metadata": {},
   "source": [
    "### 创建一个model来简化代码"
   ]
  },
  {
   "cell_type": "markdown",
   "metadata": {},
   "source": [
    "- 必须继承nn.Module且在其构造函数中需调用nn.Module的构造函数\n",
    "- 无需写反向传播函数，nn.Module能够利用autograd自动实现反向传播\n",
    "- Module中的可学习参数可以通过named_parameters()或者parameters()返回迭代器"
   ]
  },
  {
   "cell_type": "code",
   "execution_count": 9,
   "metadata": {
    "collapsed": true
   },
   "outputs": [],
   "source": [
    "from torch import nn\n",
    "\n",
    "class Mnist_NN(nn.Module):\n",
    "    def __init__(self):\n",
    "        super(Mnist_NN,self).__init__()\n",
    "        self.hidden1 = nn.Linear(784, 128)\n",
    "        self.hidden2 = nn.Linear(128, 256)\n",
    "        self.out  = nn.Linear(256, 10)\n",
    "        self.relu = nn.ReLU()\n",
    "\n",
    "    def forward(self, x):\n",
    "        x = x.view(-1,784).float()\n",
    "        x = self.relu(self.hidden1(x))\n",
    "        x = self.relu(self.hidden2(x))\n",
    "        x = self.out(x)\n",
    "        return x\n",
    "        "
   ]
  },
  {
   "cell_type": "code",
   "execution_count": 10,
   "metadata": {},
   "outputs": [
    {
     "name": "stdout",
     "output_type": "stream",
     "text": [
      "Mnist_NN(\n",
      "  (hidden1): Linear(in_features=784, out_features=128, bias=True)\n",
      "  (hidden2): Linear(in_features=128, out_features=256, bias=True)\n",
      "  (out): Linear(in_features=256, out_features=10, bias=True)\n",
      "  (relu): ReLU()\n",
      ")\n"
     ]
    }
   ],
   "source": [
    "net = Mnist_NN()\n",
    "print(net)"
   ]
  },
  {
   "cell_type": "markdown",
   "metadata": {},
   "source": [
    "可以打印我们定义好名字里的权重和偏置项"
   ]
  },
  {
   "cell_type": "code",
   "execution_count": 11,
   "metadata": {},
   "outputs": [
    {
     "name": "stdout",
     "output_type": "stream",
     "text": [
      "hidden1.weight Parameter containing:\n",
      "tensor([[-0.0040, -0.0097,  0.0085,  ..., -0.0269,  0.0322,  0.0353],\n",
      "        [ 0.0078,  0.0161,  0.0235,  ..., -0.0204,  0.0207, -0.0185],\n",
      "        [ 0.0170, -0.0173, -0.0086,  ..., -0.0352, -0.0167, -0.0014],\n",
      "        ...,\n",
      "        [ 0.0098, -0.0191,  0.0134,  ..., -0.0157, -0.0311,  0.0075],\n",
      "        [-0.0334, -0.0153,  0.0130,  ...,  0.0193,  0.0140,  0.0232],\n",
      "        [ 0.0232, -0.0143,  0.0119,  ...,  0.0022,  0.0161, -0.0227]],\n",
      "       requires_grad=True) torch.Size([128, 784])\n",
      "hidden1.bias Parameter containing:\n",
      "tensor([-3.3642e-02,  2.5441e-02,  3.3381e-02, -5.6116e-03,  3.4238e-02,\n",
      "         2.8001e-02,  1.4710e-02,  1.9611e-02, -2.3240e-02, -8.1089e-03,\n",
      "        -2.1296e-02, -3.3289e-02, -7.3214e-03,  3.0792e-02,  3.8931e-03,\n",
      "         6.3274e-03, -2.6595e-02, -1.3284e-02, -2.2624e-03, -2.6035e-02,\n",
      "         3.2228e-02,  2.8781e-02, -2.9554e-03, -2.0021e-02, -2.8798e-03,\n",
      "        -1.1618e-02, -5.7124e-03, -1.6995e-03, -2.3038e-02,  3.1471e-02,\n",
      "        -2.1390e-03,  1.8857e-02, -2.6483e-02,  1.2908e-02,  1.6995e-02,\n",
      "         2.7223e-02, -1.6010e-02,  1.9331e-02, -7.7478e-03, -1.5091e-02,\n",
      "        -3.2176e-03, -7.0474e-03,  6.9248e-03, -2.8668e-02,  2.4674e-02,\n",
      "         2.0689e-02,  1.0016e-02,  3.1607e-03,  8.9225e-03,  2.3867e-02,\n",
      "        -3.1393e-03,  3.0710e-02,  3.2191e-02, -1.3195e-02, -2.7869e-02,\n",
      "        -5.6248e-03, -2.9446e-02, -4.9043e-03,  3.2952e-02, -3.3464e-03,\n",
      "         1.8649e-03,  2.4059e-02,  3.4912e-02, -3.4983e-02,  2.9332e-02,\n",
      "        -1.2088e-02, -5.8356e-03,  1.2589e-02, -2.8229e-02, -8.0686e-03,\n",
      "        -3.3827e-02, -2.5474e-02,  1.6459e-02,  2.5173e-02, -3.4876e-02,\n",
      "         3.1881e-02,  3.2152e-02,  3.4071e-02, -2.7501e-02, -1.6330e-02,\n",
      "         1.9079e-02, -2.0796e-02, -2.1172e-02,  1.6916e-02, -1.4179e-02,\n",
      "        -4.8439e-03, -1.0804e-02,  2.6708e-02,  2.5079e-02,  7.8767e-03,\n",
      "        -4.9283e-03,  2.8752e-02,  1.1167e-02, -4.8876e-05,  1.8549e-02,\n",
      "        -1.7052e-02, -3.4518e-02, -3.1447e-02, -3.0590e-02,  1.1195e-02,\n",
      "         3.4108e-02, -2.7220e-02, -1.8558e-03,  5.8080e-04,  2.0773e-02,\n",
      "        -2.4752e-02, -3.7355e-03,  3.1358e-02,  1.8187e-02, -2.7693e-03,\n",
      "         2.9012e-02,  2.5632e-02, -1.2549e-02,  2.8135e-02, -4.0582e-03,\n",
      "        -1.5225e-02, -2.7486e-02,  1.1203e-03, -3.4874e-02,  3.2032e-02,\n",
      "        -3.2568e-02, -1.3163e-02,  5.4228e-03,  3.9891e-03,  3.2108e-02,\n",
      "         2.9815e-02, -1.0243e-02,  3.3170e-02], requires_grad=True) torch.Size([128])\n",
      "hidden2.weight Parameter containing:\n",
      "tensor([[ 0.0420, -0.0573,  0.0056,  ..., -0.0097, -0.0551,  0.0371],\n",
      "        [ 0.0208,  0.0078,  0.0497,  ...,  0.0180,  0.0270,  0.0841],\n",
      "        [ 0.0620, -0.0344,  0.0419,  ..., -0.0503, -0.0679, -0.0303],\n",
      "        ...,\n",
      "        [-0.0705, -0.0491,  0.0866,  ...,  0.0319,  0.0866,  0.0265],\n",
      "        [-0.0742,  0.0070,  0.0493,  ...,  0.0436, -0.0328, -0.0814],\n",
      "        [-0.0663, -0.0591,  0.0406,  ..., -0.0472, -0.0509,  0.0839]],\n",
      "       requires_grad=True) torch.Size([256, 128])\n",
      "hidden2.bias Parameter containing:\n",
      "tensor([-0.0852, -0.0383, -0.0757,  0.0438, -0.0139, -0.0145, -0.0016, -0.0058,\n",
      "         0.0231,  0.0228, -0.0606,  0.0744,  0.0188, -0.0166, -0.0473,  0.0723,\n",
      "         0.0280, -0.0042, -0.0222,  0.0663,  0.0213,  0.0834, -0.0856, -0.0526,\n",
      "        -0.0532, -0.0231,  0.0209, -0.0742, -0.0496, -0.0507,  0.0318, -0.0360,\n",
      "        -0.0853, -0.0736, -0.0134, -0.0211, -0.0834, -0.0570,  0.0190,  0.0430,\n",
      "        -0.0495, -0.0122,  0.0127, -0.0190,  0.0562, -0.0472,  0.0747, -0.0843,\n",
      "         0.0135, -0.0155, -0.0356, -0.0717,  0.0262,  0.0624, -0.0846,  0.0242,\n",
      "        -0.0541, -0.0346, -0.0556, -0.0773, -0.0489,  0.0444,  0.0307,  0.0538,\n",
      "        -0.0403,  0.0722,  0.0866,  0.0397, -0.0486, -0.0813, -0.0697,  0.0532,\n",
      "         0.0155,  0.0696, -0.0152,  0.0114,  0.0011, -0.0561, -0.0057,  0.0155,\n",
      "        -0.0853, -0.0101, -0.0466, -0.0809,  0.0305, -0.0813, -0.0451, -0.0840,\n",
      "         0.0586,  0.0613, -0.0391,  0.0845, -0.0354,  0.0668,  0.0242,  0.0592,\n",
      "         0.0258, -0.0291, -0.0835,  0.0602,  0.0840,  0.0274,  0.0509,  0.0167,\n",
      "        -0.0067,  0.0577,  0.0757,  0.0003, -0.0394, -0.0038,  0.0463,  0.0338,\n",
      "        -0.0474, -0.0587, -0.0542, -0.0785, -0.0645,  0.0730,  0.0577,  0.0060,\n",
      "        -0.0361, -0.0465, -0.0438,  0.0875, -0.0182,  0.0712,  0.0520, -0.0145,\n",
      "         0.0337,  0.0754,  0.0189, -0.0233,  0.0564, -0.0398, -0.0565, -0.0820,\n",
      "         0.0481,  0.0629,  0.0756, -0.0855, -0.0278, -0.0705,  0.0486, -0.0156,\n",
      "         0.0723,  0.0063, -0.0672,  0.0175,  0.0445, -0.0082, -0.0215, -0.0398,\n",
      "        -0.0552, -0.0593,  0.0693,  0.0520, -0.0275, -0.0136, -0.0850, -0.0389,\n",
      "        -0.0780,  0.0356, -0.0530,  0.0567, -0.0616,  0.0644, -0.0530,  0.0597,\n",
      "         0.0501, -0.0651,  0.0083, -0.0779, -0.0572,  0.0268,  0.0245, -0.0779,\n",
      "         0.0822, -0.0334, -0.0122, -0.0731, -0.0699,  0.0453,  0.0155,  0.0181,\n",
      "        -0.0734,  0.0855,  0.0414, -0.0265, -0.0351, -0.0479,  0.0813,  0.0436,\n",
      "         0.0182, -0.0462, -0.0605, -0.0520, -0.0365,  0.0752, -0.0433, -0.0446,\n",
      "         0.0402,  0.0369, -0.0330,  0.0229,  0.0555, -0.0807,  0.0255,  0.0594,\n",
      "         0.0155, -0.0275,  0.0360, -0.0558,  0.0880, -0.0200,  0.0232, -0.0403,\n",
      "        -0.0004, -0.0261,  0.0174, -0.0824,  0.0021, -0.0579, -0.0287,  0.0130,\n",
      "        -0.0672,  0.0544, -0.0864, -0.0256, -0.0080,  0.0740,  0.0655, -0.0737,\n",
      "        -0.0770, -0.0247, -0.0690,  0.0711,  0.0141,  0.0009,  0.0160, -0.0283,\n",
      "         0.0532,  0.0223, -0.0587, -0.0312,  0.0018, -0.0225,  0.0210, -0.0757,\n",
      "        -0.0763,  0.0638, -0.0831,  0.0193,  0.0060, -0.0019, -0.0530,  0.0874],\n",
      "       requires_grad=True) torch.Size([256])\n",
      "out.weight Parameter containing:\n",
      "tensor([[-0.0047, -0.0037, -0.0224,  ...,  0.0286, -0.0590,  0.0390],\n",
      "        [ 0.0519, -0.0531, -0.0215,  ..., -0.0547, -0.0598, -0.0135],\n",
      "        [ 0.0517, -0.0568,  0.0401,  ...,  0.0286,  0.0205, -0.0189],\n",
      "        ...,\n",
      "        [ 0.0331, -0.0177, -0.0093,  ..., -0.0294, -0.0519, -0.0173],\n",
      "        [ 0.0035,  0.0617, -0.0567,  ...,  0.0158,  0.0409, -0.0200],\n",
      "        [-0.0111, -0.0362, -0.0492,  ...,  0.0541, -0.0243,  0.0339]],\n",
      "       requires_grad=True) torch.Size([10, 256])\n",
      "out.bias Parameter containing:\n",
      "tensor([ 0.0125, -0.0420, -0.0366,  0.0272,  0.0063, -0.0327, -0.0351, -0.0082,\n",
      "        -0.0101, -0.0526], requires_grad=True) torch.Size([10])\n"
     ]
    }
   ],
   "source": [
    "for name, parameter in net.named_parameters():\n",
    "    print(name, parameter,parameter.size())"
   ]
  },
  {
   "cell_type": "markdown",
   "metadata": {},
   "source": [
    "### 使用TensorDataset和DataLoader来简化"
   ]
  },
  {
   "cell_type": "code",
   "execution_count": 12,
   "metadata": {
    "collapsed": true
   },
   "outputs": [],
   "source": [
    "from torch.utils.data import TensorDataset\n",
    "from torch.utils.data import DataLoader\n",
    "\n",
    "train_ds = TensorDataset(train_data.data, train_data.targets)\n",
    "train_dl = DataLoader(train_ds, batch_size=64, shuffle=True)\n",
    "\n",
    "test_ds = TensorDataset(test_data.data, test_data.targets)\n",
    "test_dl = DataLoader(test_ds, batch_size=64)"
   ]
  },
  {
   "cell_type": "code",
   "execution_count": 13,
   "metadata": {
    "collapsed": true
   },
   "outputs": [],
   "source": [
    "loss_fn = torch.nn.CrossEntropyLoss()\n",
    "epoch = 10\n",
    "test_data_size = len(test_data)\n",
    "device = torch.device(\"cuda\" if torch.cuda.is_available() else \"cpu\")\n",
    "model = Mnist_NN()\n",
    "model.to(device)\n",
    "loss_fn.to(device)\n",
    "optimizer = torch.optim.Adam(model.parameters(),lr=0.01)"
   ]
  },
  {
   "cell_type": "markdown",
   "metadata": {},
   "source": [
    "- 一般在训练模型时加上model.train()，这样会正常使用Batch Normalization和 Dropout\n",
    "- 测试的时候一般选择model.eval()，这样就不会使用Batch Normalization和 Dropout"
   ]
  },
  {
   "cell_type": "code",
   "execution_count": 15,
   "metadata": {
    "collapsed": true
   },
   "outputs": [
    {
     "name": "stdout",
     "output_type": "stream",
     "text": [
      "-------------第1轮训练开始------------\n",
      "训练轮数：0,loss:1.6495147943496704\n",
      "整体测试集上的loss:214.42943215370178\n",
      "整体测试集上的正确率:0.4185999929904938\n",
      "-------------第2轮训练开始------------\n",
      "训练轮数：1,loss:1.5054289102554321\n",
      "整体测试集上的loss:250.82718515396118\n",
      "整体测试集上的正确率:0.3027999997138977\n",
      "-------------第3轮训练开始------------\n",
      "训练轮数：2,loss:1.5917181968688965\n",
      "整体测试集上的loss:248.75842916965485\n",
      "整体测试集上的正确率:0.3005000054836273\n",
      "-------------第4轮训练开始------------\n",
      "训练轮数：3,loss:1.5193969011306763\n",
      "整体测试集上的loss:248.14816570281982\n",
      "整体测试集上的正确率:0.3019999861717224\n",
      "-------------第5轮训练开始------------\n",
      "训练轮数：4,loss:1.3976194858551025\n",
      "整体测试集上的loss:248.40034306049347\n",
      "整体测试集上的正确率:0.3073999881744385\n",
      "-------------第6轮训练开始------------\n",
      "训练轮数：5,loss:1.6058297157287598\n",
      "整体测试集上的loss:247.24207997322083\n",
      "整体测试集上的正确率:0.3075000047683716\n",
      "-------------第7轮训练开始------------\n",
      "训练轮数：6,loss:1.2807888984680176\n",
      "整体测试集上的loss:249.8283532857895\n",
      "整体测试集上的正确率:0.3061999976634979\n",
      "-------------第8轮训练开始------------\n",
      "训练轮数：7,loss:2.2376046180725098\n",
      "整体测试集上的loss:320.39920461177826\n",
      "整体测试集上的正确率:0.19679999351501465\n",
      "-------------第9轮训练开始------------\n",
      "训练轮数：8,loss:1.8324518203735352\n",
      "整体测试集上的loss:289.19209837913513\n",
      "整体测试集上的正确率:0.2093999981880188\n",
      "-------------第10轮训练开始------------\n",
      "训练轮数：9,loss:1.9502053260803223\n",
      "整体测试集上的loss:286.29578602313995\n",
      "整体测试集上的正确率:0.20919999480247498\n"
     ]
    }
   ],
   "source": [
    "for i in range(epoch):\n",
    "    print(\"-------------第{}轮训练开始------------\".format(i+1))\n",
    "    # 训练步骤开始\n",
    "    model.train()\n",
    "    for data in train_dl:\n",
    "        imgs,targets = data\n",
    "        imgs = imgs.to(device)\n",
    "        targets = targets.to(device)\n",
    "        outputs = model(imgs)\n",
    "        loss = loss_fn(outputs,targets)\n",
    "        \n",
    "        # 优化器优化模型\n",
    "        optimizer.zero_grad()\n",
    "        loss.backward()\n",
    "        optimizer.step()\n",
    "        \n",
    "    print(\"训练轮数：{},loss:{}\".format(i,loss.item()))\n",
    "        \n",
    "    # 测试步骤\n",
    "    model.eval()\n",
    "    total_test_loss = 0\n",
    "    total_accuracy = 0\n",
    "    with torch.no_grad():\n",
    "        for data in test_dl:\n",
    "            imgs,targets = data\n",
    "            imgs = imgs.to(device)\n",
    "            targets = targets.to(device)\n",
    "            outputs = model(imgs)\n",
    "            loss = loss_fn(outputs,targets)\n",
    "            total_test_loss += loss.item()\n",
    "            accuracy = (outputs.argmax(1) == targets).sum()\n",
    "            total_accuracy+=accuracy\n",
    "    print(\"整体测试集上的loss:{}\".format(total_test_loss))\n",
    "    print(\"整体测试集上的正确率:{}\".format(total_accuracy/test_data_size))\n"
   ]
  },
  {
   "cell_type": "code",
   "execution_count": null,
   "metadata": {},
   "outputs": [],
   "source": []
  }
 ],
 "metadata": {
  "kernelspec": {
   "display_name": "Python 3.8.13 ('AI')",
   "language": "python",
   "name": "python3"
  },
  "language_info": {
   "codemirror_mode": {
    "name": "ipython",
    "version": 3
   },
   "file_extension": ".py",
   "mimetype": "text/x-python",
   "name": "python",
   "nbconvert_exporter": "python",
   "pygments_lexer": "ipython3",
   "version": "3.8.13"
  },
  "vscode": {
   "interpreter": {
    "hash": "edff09c04b0b8f151f1a23da0f1d81b4651050c2abc772ada3fce2895b2777a0"
   }
  }
 },
 "nbformat": 4,
 "nbformat_minor": 1
}
