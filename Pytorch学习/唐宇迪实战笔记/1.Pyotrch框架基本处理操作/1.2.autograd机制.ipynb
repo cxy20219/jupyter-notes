{
 "cells": [
  {
   "cell_type": "code",
   "execution_count": 18,
   "id": "dbaa38a5",
   "metadata": {},
   "outputs": [],
   "source": [
    "import torch"
   ]
  },
  {
   "cell_type": "markdown",
   "id": "a89a4a0d",
   "metadata": {},
   "source": [
    "求导,设置记录梯度"
   ]
  },
  {
   "cell_type": "code",
   "execution_count": 19,
   "id": "5e7b3d23",
   "metadata": {},
   "outputs": [
    {
     "data": {
      "text/plain": [
       "tensor([[-1.4001, -0.7287,  0.7482,  0.5315],\n",
       "        [-0.6022,  0.9874,  0.4093, -1.4547],\n",
       "        [-0.3030,  0.8827, -0.0161,  0.3327]], requires_grad=True)"
      ]
     },
     "execution_count": 19,
     "metadata": {},
     "output_type": "execute_result"
    }
   ],
   "source": [
    "#方法一：\n",
    "x=torch.randn(3,4,requires_grad=True)\n",
    "x"
   ]
  },
  {
   "cell_type": "code",
   "execution_count": 20,
   "id": "4be1b27b",
   "metadata": {},
   "outputs": [
    {
     "data": {
      "text/plain": [
       "tensor([[-0.9313,  1.1730,  0.2375,  1.4344],\n",
       "        [-0.5414,  0.0356, -0.5664, -0.1289],\n",
       "        [ 0.0110, -0.2295, -1.3376,  0.5138]], requires_grad=True)"
      ]
     },
     "execution_count": 20,
     "metadata": {},
     "output_type": "execute_result"
    }
   ],
   "source": [
    "#方法二：\n",
    "x=torch.randn(3,4)\n",
    "x.requires_grad=True\n",
    "x"
   ]
  },
  {
   "cell_type": "markdown",
   "id": "72064d74",
   "metadata": {},
   "source": [
    "求导"
   ]
  },
  {
   "cell_type": "code",
   "execution_count": 21,
   "id": "4cfb12af",
   "metadata": {},
   "outputs": [
    {
     "data": {
      "text/plain": [
       "tensor(6.1005, grad_fn=<SumBackward0>)"
      ]
     },
     "execution_count": 21,
     "metadata": {},
     "output_type": "execute_result"
    }
   ],
   "source": [
    "b=torch.randn(3,4,requires_grad=True)\n",
    "t=x+b\n",
    "#.sum()所有元素求和\n",
    "y=t.sum()\n",
    "y"
   ]
  },
  {
   "cell_type": "code",
   "execution_count": 22,
   "id": "c7359102",
   "metadata": {},
   "outputs": [
    {
     "data": {
      "text/plain": [
       "tensor([[1., 1., 1., 1.],\n",
       "        [1., 1., 1., 1.],\n",
       "        [1., 1., 1., 1.]])"
      ]
     },
     "execution_count": 22,
     "metadata": {},
     "output_type": "execute_result"
    }
   ],
   "source": [
    "y.backward()\n",
    "b.grad"
   ]
  },
  {
   "cell_type": "code",
   "execution_count": 23,
   "id": "02556b69",
   "metadata": {},
   "outputs": [
    {
     "data": {
      "text/plain": [
       "(True, True, True)"
      ]
     },
     "execution_count": 23,
     "metadata": {},
     "output_type": "execute_result"
    }
   ],
   "source": [
    "x.requires_grad,y.requires_grad,t.requires_grad"
   ]
  },
  {
   "cell_type": "code",
   "execution_count": 24,
   "id": "afc8f327",
   "metadata": {},
   "outputs": [],
   "source": [
    "x=torch.rand(1)\n",
    "b=torch.rand(1,requires_grad=True)\n",
    "w=torch.rand(1,requires_grad=True)\n",
    "y=w*x\n",
    "z=y+b"
   ]
  },
  {
   "cell_type": "code",
   "execution_count": 25,
   "id": "7fa77eef",
   "metadata": {},
   "outputs": [
    {
     "data": {
      "text/plain": [
       "(False, True, True, True)"
      ]
     },
     "execution_count": 25,
     "metadata": {},
     "output_type": "execute_result"
    }
   ],
   "source": [
    "x.requires_grad,b.requires_grad,y.requires_grad,z.requires_grad"
   ]
  },
  {
   "cell_type": "markdown",
   "id": "5cad5105",
   "metadata": {},
   "source": [
    "查看是不是叶子"
   ]
  },
  {
   "cell_type": "code",
   "execution_count": 26,
   "id": "cbd19bd0",
   "metadata": {},
   "outputs": [
    {
     "data": {
      "text/plain": [
       "(True, True, False, True, False)"
      ]
     },
     "execution_count": 26,
     "metadata": {},
     "output_type": "execute_result"
    }
   ],
   "source": [
    "x.is_leaf,w.is_leaf,y.is_leaf,b.is_leaf,z.is_leaf"
   ]
  },
  {
   "cell_type": "markdown",
   "id": "b109c33e",
   "metadata": {},
   "source": [
    "反向传播计算"
   ]
  },
  {
   "cell_type": "code",
   "execution_count": 27,
   "id": "410ec998",
   "metadata": {},
   "outputs": [],
   "source": [
    "#retain_graph==True后,会累加起来，如果为False则销毁结点，不能再backward\n",
    "z.backward(retain_graph=True)"
   ]
  },
  {
   "cell_type": "code",
   "execution_count": 28,
   "id": "b2a18476",
   "metadata": {},
   "outputs": [
    {
     "data": {
      "text/plain": [
       "tensor([0.9561])"
      ]
     },
     "execution_count": 28,
     "metadata": {},
     "output_type": "execute_result"
    }
   ],
   "source": [
    "w.grad"
   ]
  },
  {
   "cell_type": "code",
   "execution_count": 29,
   "id": "c2faeb7e",
   "metadata": {},
   "outputs": [
    {
     "data": {
      "text/plain": [
       "tensor([1.])"
      ]
     },
     "execution_count": 29,
     "metadata": {},
     "output_type": "execute_result"
    }
   ],
   "source": [
    "b.grad"
   ]
  },
  {
   "cell_type": "markdown",
   "id": "a35fefe2",
   "metadata": {},
   "source": [
    "梯度不清零会累加"
   ]
  }
 ],
 "metadata": {
  "kernelspec": {
   "display_name": "Python 3.8.13 ('AI')",
   "language": "python",
   "name": "python3"
  },
  "language_info": {
   "codemirror_mode": {
    "name": "ipython",
    "version": 3
   },
   "file_extension": ".py",
   "mimetype": "text/x-python",
   "name": "python",
   "nbconvert_exporter": "python",
   "pygments_lexer": "ipython3",
   "version": "3.8.13"
  },
  "vscode": {
   "interpreter": {
    "hash": "edff09c04b0b8f151f1a23da0f1d81b4651050c2abc772ada3fce2895b2777a0"
   }
  }
 },
 "nbformat": 4,
 "nbformat_minor": 5
}
