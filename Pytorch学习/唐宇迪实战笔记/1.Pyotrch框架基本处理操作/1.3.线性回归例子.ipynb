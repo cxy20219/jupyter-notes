{
 "cells": [
  {
   "cell_type": "markdown",
   "id": "0f4e95b1",
   "metadata": {},
   "source": [
    "构造一组输入数据X和其对应的标签y"
   ]
  },
  {
   "cell_type": "code",
   "execution_count": 1,
   "id": "a37df164",
   "metadata": {},
   "outputs": [],
   "source": [
    "import numpy"
   ]
  },
  {
   "cell_type": "markdown",
   "id": "3db62548",
   "metadata": {},
   "source": [
    "numpy里面**reshape**使用"
   ]
  },
  {
   "cell_type": "code",
   "execution_count": 2,
   "id": "ceaf9154",
   "metadata": {},
   "outputs": [
    {
     "name": "stdout",
     "output_type": "stream",
     "text": [
      "[0, 1, 2, 3, 4, 5, 6, 7, 8, 9, 10]\n",
      "[ 0.  1.  2.  3.  4.  5.  6.  7.  8.  9. 10.]\n",
      "(11,)\n",
      "[[ 0.]\n",
      " [ 1.]\n",
      " [ 2.]\n",
      " [ 3.]\n",
      " [ 4.]\n",
      " [ 5.]\n",
      " [ 6.]\n",
      " [ 7.]\n",
      " [ 8.]\n",
      " [ 9.]\n",
      " [10.]]\n"
     ]
    },
    {
     "data": {
      "text/plain": [
       "(11, 1)"
      ]
     },
     "execution_count": 2,
     "metadata": {},
     "output_type": "execute_result"
    }
   ],
   "source": [
    "\n",
    "x_values=[i for i in range(11)]\n",
    "print(x_values)\n",
    "x_train=numpy.array(x_values,dtype=numpy.float32)\n",
    "print(x_train)\n",
    "print(x_train.shape)\n",
    "x_train=x_train.reshape(-1,1)\n",
    "print(x_train)\n",
    "x_train.shape"
   ]
  },
  {
   "cell_type": "code",
   "execution_count": 3,
   "id": "e1b26c42",
   "metadata": {},
   "outputs": [
    {
     "name": "stdout",
     "output_type": "stream",
     "text": [
      "[1, 3, 5, 7, 9, 11, 13, 15, 17, 19, 21]\n",
      "[ 1.  3.  5.  7.  9. 11. 13. 15. 17. 19. 21.]\n",
      "(11,)\n",
      "[[ 1.]\n",
      " [ 3.]\n",
      " [ 5.]\n",
      " [ 7.]\n",
      " [ 9.]\n",
      " [11.]\n",
      " [13.]\n",
      " [15.]\n",
      " [17.]\n",
      " [19.]\n",
      " [21.]]\n"
     ]
    },
    {
     "data": {
      "text/plain": [
       "(11, 1)"
      ]
     },
     "execution_count": 3,
     "metadata": {},
     "output_type": "execute_result"
    }
   ],
   "source": [
    "\n",
    "y_values=[2*i+1 for i in x_values]\n",
    "print(y_values)\n",
    "y_train=numpy.array(y_values,dtype=numpy.float32)\n",
    "print(y_train)\n",
    "print(y_train.shape)\n",
    "y_train=y_train.reshape(-1,1)\n",
    "print(y_train)\n",
    "y_train.shape"
   ]
  },
  {
   "cell_type": "code",
   "execution_count": 4,
   "id": "36c91e3d",
   "metadata": {},
   "outputs": [],
   "source": [
    "import torch\n",
    "import torch.nn as nn"
   ]
  },
  {
   "cell_type": "markdown",
   "id": "34b66757",
   "metadata": {},
   "source": [
    "**线性回归模型**\n",
    "* 子类定义了构造函数父类的构造函数不会调用，如果要调用父类构造函数  需要使用super的方法调用\n",
    "* 线性回归是一个不加激活函数的全连接层"
   ]
  },
  {
   "cell_type": "code",
   "execution_count": 5,
   "id": "d9c1525d",
   "metadata": {},
   "outputs": [],
   "source": [
    "class LinearRegressionMode(nn.Module):\n",
    "    def __init__(self,input_dim,output_dim):\n",
    "        super(LinearRegressionMode,self).__init__()\n",
    "        self.linear=nn.Linear(input_dim,output_dim)\n",
    "    def forward(self,x):\n",
    "        out=self.linear(x)\n",
    "        return out"
   ]
  },
  {
   "cell_type": "code",
   "execution_count": 6,
   "id": "a19328d5",
   "metadata": {},
   "outputs": [
    {
     "data": {
      "text/plain": [
       "LinearRegressionMode(\n",
       "  (linear): Linear(in_features=1, out_features=1, bias=True)\n",
       ")"
      ]
     },
     "execution_count": 6,
     "metadata": {},
     "output_type": "execute_result"
    }
   ],
   "source": [
    "input_dim=1\n",
    "output_dim=1\n",
    "model=LinearRegressionMode(input_dim,output_dim)\n",
    "model"
   ]
  },
  {
   "cell_type": "markdown",
   "id": "5b52f97d",
   "metadata": {},
   "source": [
    "learning rate：\n",
    "* 学习率较小时，收敛到极值的速度较慢。\n",
    "* 学习率较大时，容易在搜索过程中发生震荡。"
   ]
  },
  {
   "cell_type": "code",
   "execution_count": 7,
   "id": "9f83157f",
   "metadata": {},
   "outputs": [],
   "source": [
    "#训练轮数\n",
    "epochs=1000\n",
    "learning_rate=0.01\n",
    "# SGD 随机梯度下降优化器\n",
    "optimizer =torch.optim.SGD(model.parameters(),lr=learning_rate)\n",
    "criterion=nn.MSELoss()"
   ]
  },
  {
   "cell_type": "markdown",
   "id": "1675a946",
   "metadata": {},
   "source": [
    "训练模型"
   ]
  },
  {
   "cell_type": "code",
   "execution_count": 8,
   "id": "b802e56e",
   "metadata": {},
   "outputs": [
    {
     "name": "stdout",
     "output_type": "stream",
     "text": [
      "epoch100,loss0.056658338755369186\n",
      "epoch200,loss0.01843164674937725\n",
      "epoch300,loss0.005996090359985828\n",
      "epoch400,loss0.001950611942447722\n",
      "epoch500,loss0.0006345593137666583\n",
      "epoch600,loss0.00020643332391045988\n",
      "epoch700,loss6.715828203596175e-05\n",
      "epoch800,loss2.1848474716534838e-05\n",
      "epoch900,loss7.107049441401614e-06\n",
      "epoch1000,loss2.312574451934779e-06\n"
     ]
    }
   ],
   "source": [
    "for epoch in range(epochs):\n",
    "    epoch +=1\n",
    "    #将数据转化为tensor格式\n",
    "    inputs=torch.from_numpy(x_train)\n",
    "    labels=torch.from_numpy(y_train)\n",
    "    \n",
    "    #梯度需要清零每一次迭代 否则会累加\n",
    "    optimizer.zero_grad()\n",
    "    \n",
    "    #向前传播\n",
    "    outputs=model(inputs)\n",
    "    \n",
    "    #计算损失\n",
    "    loss=criterion(outputs,labels)\n",
    "    \n",
    "    #反向传播\n",
    "    loss.backward()\n",
    "    \n",
    "    #更新权重参数\n",
    "    optimizer.step()\n",
    "    if epoch%100==0:\n",
    "        print(\"epoch{},loss{}\".format(epoch,loss.item()))\n",
    "    "
   ]
  },
  {
   "cell_type": "markdown",
   "id": "1d3d1195",
   "metadata": {},
   "source": [
    "使用GPU训练\n",
    "* 把数据与模型传到cuda里面"
   ]
  },
  {
   "cell_type": "code",
   "execution_count": 9,
   "id": "4dd33b51",
   "metadata": {},
   "outputs": [
    {
     "name": "stdout",
     "output_type": "stream",
     "text": [
      "epoch100,loss7.519403197875363e-07\n",
      "epoch200,loss2.4467618686685455e-07\n",
      "epoch300,loss7.959179271210814e-08\n",
      "epoch400,loss2.5915053214475847e-08\n",
      "epoch500,loss8.417626595758065e-09\n",
      "epoch600,loss2.7453437301261374e-09\n",
      "epoch700,loss9.067562256603878e-10\n",
      "epoch800,loss3.0156757646615517e-10\n",
      "epoch900,loss1.0099041047872959e-10\n",
      "epoch1000,loss4.062237698998494e-11\n"
     ]
    }
   ],
   "source": [
    "# 1.模型传入\n",
    "device=torch.device(\"cuda:0\" if torch.cuda.is_available() else \"cpu\")\n",
    "#print(device)\n",
    "model.to(device)\n",
    "# 2.损失函数传入\n",
    "criterion.to(device)\n",
    "# 3.数据传入\n",
    "inputs=torch.from_numpy(x_train).to(device)\n",
    "labels=torch.from_numpy(y_train).to(device)\n",
    "\n",
    "for epoch in range(epochs):\n",
    "    epoch +=1\n",
    "    \n",
    "    #梯度需要清零每一次迭代 否则会累加\n",
    "    optimizer.zero_grad()\n",
    "    \n",
    "    #向前传播\n",
    "    outputs=model(inputs)\n",
    "    \n",
    "    #计算损失\n",
    "    loss=criterion(outputs,labels)\n",
    "    \n",
    "    #反向传播\n",
    "    loss.backward()\n",
    "    \n",
    "    #更新权重参数\n",
    "    optimizer.step()\n",
    "    if epoch%100==0:\n",
    "        print(\"epoch{},loss{}\".format(epoch,loss.item()))"
   ]
  },
  {
   "cell_type": "markdown",
   "id": "818cc7bb",
   "metadata": {},
   "source": [
    "模型的保存与读取"
   ]
  },
  {
   "cell_type": "code",
   "execution_count": 10,
   "id": "02067ca8",
   "metadata": {},
   "outputs": [],
   "source": [
    "#保存\n",
    "torch.save(model.state_dict(),'model.pth')"
   ]
  },
  {
   "cell_type": "code",
   "execution_count": 11,
   "id": "067c03c9",
   "metadata": {},
   "outputs": [
    {
     "data": {
      "text/plain": [
       "<All keys matched successfully>"
      ]
     },
     "execution_count": 11,
     "metadata": {},
     "output_type": "execute_result"
    }
   ],
   "source": [
    "#读取\n",
    "model.load_state_dict(torch.load('model.pth'))"
   ]
  },
  {
   "cell_type": "code",
   "execution_count": 12,
   "id": "750e1f80",
   "metadata": {},
   "outputs": [
    {
     "data": {
      "text/plain": [
       "tensor([[ 1.0000],\n",
       "        [ 3.0000],\n",
       "        [ 5.0000],\n",
       "        [ 7.0000],\n",
       "        [ 9.0000],\n",
       "        [11.0000],\n",
       "        [13.0000],\n",
       "        [15.0000],\n",
       "        [17.0000],\n",
       "        [19.0000],\n",
       "        [21.0000]], device='cuda:0', grad_fn=<AddmmBackward0>)"
      ]
     },
     "execution_count": 12,
     "metadata": {},
     "output_type": "execute_result"
    }
   ],
   "source": [
    "model(torch.from_numpy(x_train).to(device))"
   ]
  },
  {
   "cell_type": "code",
   "execution_count": null,
   "id": "e0ac7135",
   "metadata": {},
   "outputs": [],
   "source": []
  }
 ],
 "metadata": {
  "kernelspec": {
   "display_name": "Python 3.8.13 ('AI')",
   "language": "python",
   "name": "python3"
  },
  "language_info": {
   "codemirror_mode": {
    "name": "ipython",
    "version": 3
   },
   "file_extension": ".py",
   "mimetype": "text/x-python",
   "name": "python",
   "nbconvert_exporter": "python",
   "pygments_lexer": "ipython3",
   "version": "3.8.13"
  },
  "vscode": {
   "interpreter": {
    "hash": "edff09c04b0b8f151f1a23da0f1d81b4651050c2abc772ada3fce2895b2777a0"
   }
  }
 },
 "nbformat": 4,
 "nbformat_minor": 5
}
