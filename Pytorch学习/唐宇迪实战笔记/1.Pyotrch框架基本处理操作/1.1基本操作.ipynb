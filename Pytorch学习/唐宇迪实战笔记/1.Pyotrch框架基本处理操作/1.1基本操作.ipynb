{
 "cells": [
  {
   "cell_type": "markdown",
   "id": "bab868c0",
   "metadata": {},
   "source": [
    "查看Pytorch版本"
   ]
  },
  {
   "cell_type": "code",
   "execution_count": 1,
   "id": "0d921edd",
   "metadata": {},
   "outputs": [
    {
     "data": {
      "text/plain": [
       "'1.12.1+cu113'"
      ]
     },
     "execution_count": 1,
     "metadata": {},
     "output_type": "execute_result"
    }
   ],
   "source": [
    "import torch\n",
    "torch.__version__"
   ]
  },
  {
   "cell_type": "markdown",
   "id": "633b91fd",
   "metadata": {},
   "source": [
    "创建一个矩阵"
   ]
  },
  {
   "cell_type": "code",
   "execution_count": 2,
   "id": "239763de",
   "metadata": {},
   "outputs": [
    {
     "data": {
      "text/plain": [
       "tensor([[-3.6899e-18,  5.0867e-43, -3.6899e-18],\n",
       "        [ 5.0867e-43, -3.6899e-18,  5.0867e-43],\n",
       "        [-3.6899e-18,  5.0867e-43, -3.6899e-18],\n",
       "        [ 5.0867e-43, -3.6899e-18,  5.0867e-43],\n",
       "        [-3.6899e-18,  5.0867e-43, -3.6899e-18]])"
      ]
     },
     "execution_count": 2,
     "metadata": {},
     "output_type": "execute_result"
    }
   ],
   "source": [
    "x=torch.empty(5,3)\n",
    "x"
   ]
  },
  {
   "cell_type": "markdown",
   "id": "cda456bc",
   "metadata": {},
   "source": [
    "创建随机矩阵"
   ]
  },
  {
   "cell_type": "code",
   "execution_count": 3,
   "id": "3041f906",
   "metadata": {},
   "outputs": [
    {
     "data": {
      "text/plain": [
       "tensor([[0.2921, 0.7177, 0.8859],\n",
       "        [0.0557, 0.2752, 0.4578],\n",
       "        [0.1084, 0.2498, 0.2182],\n",
       "        [0.1561, 0.9114, 0.7252],\n",
       "        [0.0864, 0.0049, 0.4055]])"
      ]
     },
     "execution_count": 3,
     "metadata": {},
     "output_type": "execute_result"
    }
   ],
   "source": [
    "x=torch.rand(5,3)\n",
    "x"
   ]
  },
  {
   "cell_type": "markdown",
   "id": "200beb99",
   "metadata": {},
   "source": [
    "创建全零矩阵"
   ]
  },
  {
   "cell_type": "code",
   "execution_count": 4,
   "id": "08570b6b",
   "metadata": {},
   "outputs": [
    {
     "data": {
      "text/plain": [
       "tensor([[0., 0., 0.],\n",
       "        [0., 0., 0.],\n",
       "        [0., 0., 0.],\n",
       "        [0., 0., 0.],\n",
       "        [0., 0., 0.]])"
      ]
     },
     "execution_count": 4,
     "metadata": {},
     "output_type": "execute_result"
    }
   ],
   "source": [
    "x=torch.zeros(5,3)\n",
    "x"
   ]
  },
  {
   "cell_type": "markdown",
   "id": "47dfcc1f",
   "metadata": {},
   "source": [
    "直接创建矩阵"
   ]
  },
  {
   "cell_type": "code",
   "execution_count": 5,
   "id": "ad99b41b",
   "metadata": {},
   "outputs": [
    {
     "data": {
      "text/plain": [
       "tensor([5.5000, 6.0000])"
      ]
     },
     "execution_count": 5,
     "metadata": {},
     "output_type": "execute_result"
    }
   ],
   "source": [
    "torch.tensor([5.5,6])"
   ]
  },
  {
   "cell_type": "markdown",
   "id": "8cbc5c99",
   "metadata": {},
   "source": [
    "展示矩阵大小"
   ]
  },
  {
   "cell_type": "code",
   "execution_count": 6,
   "id": "d74f86bb",
   "metadata": {},
   "outputs": [
    {
     "data": {
      "text/plain": [
       "torch.Size([5, 3])"
      ]
     },
     "execution_count": 6,
     "metadata": {},
     "output_type": "execute_result"
    }
   ],
   "source": [
    "x.shape"
   ]
  },
  {
   "cell_type": "code",
   "execution_count": 7,
   "id": "40213caa",
   "metadata": {},
   "outputs": [
    {
     "data": {
      "text/plain": [
       "torch.Size([5, 3])"
      ]
     },
     "execution_count": 7,
     "metadata": {},
     "output_type": "execute_result"
    }
   ],
   "source": [
    "x.size()"
   ]
  },
  {
   "cell_type": "markdown",
   "id": "fe0dd960",
   "metadata": {},
   "source": [
    "基本计算方法"
   ]
  },
  {
   "cell_type": "code",
   "execution_count": 8,
   "id": "e250a16d",
   "metadata": {},
   "outputs": [
    {
     "name": "stdout",
     "output_type": "stream",
     "text": [
      "tensor([[0., 0., 0.],\n",
      "        [0., 0., 0.],\n",
      "        [0., 0., 0.],\n",
      "        [0., 0., 0.],\n",
      "        [0., 0., 0.]])\n",
      "tensor([[0.9980, 0.3633, 0.3511],\n",
      "        [0.2977, 0.7337, 0.3576],\n",
      "        [0.3951, 0.2728, 0.6807],\n",
      "        [0.9268, 0.4716, 0.8123],\n",
      "        [0.1069, 0.2722, 0.7626]])\n",
      "tensor([[0.9980, 0.3633, 0.3511],\n",
      "        [0.2977, 0.7337, 0.3576],\n",
      "        [0.3951, 0.2728, 0.6807],\n",
      "        [0.9268, 0.4716, 0.8123],\n",
      "        [0.1069, 0.2722, 0.7626]])\n"
     ]
    },
    {
     "data": {
      "text/plain": [
       "tensor([[0.9980, 0.3633, 0.3511],\n",
       "        [0.2977, 0.7337, 0.3576],\n",
       "        [0.3951, 0.2728, 0.6807],\n",
       "        [0.9268, 0.4716, 0.8123],\n",
       "        [0.1069, 0.2722, 0.7626]])"
      ]
     },
     "execution_count": 8,
     "metadata": {},
     "output_type": "execute_result"
    }
   ],
   "source": [
    "y=torch.rand(5,3)\n",
    "print(x)\n",
    "print(y)\n",
    "print(x+y)\n",
    "torch.add(x,y)"
   ]
  },
  {
   "cell_type": "markdown",
   "id": "a0f28e6f",
   "metadata": {},
   "source": [
    "索引"
   ]
  },
  {
   "cell_type": "code",
   "execution_count": 9,
   "id": "50ec3a9e",
   "metadata": {},
   "outputs": [
    {
     "name": "stdout",
     "output_type": "stream",
     "text": [
      "tensor([[0.9980, 0.3633, 0.3511],\n",
      "        [0.2977, 0.7337, 0.3576],\n",
      "        [0.3951, 0.2728, 0.6807],\n",
      "        [0.9268, 0.4716, 0.8123],\n",
      "        [0.1069, 0.2722, 0.7626]])\n"
     ]
    },
    {
     "data": {
      "text/plain": [
       "tensor([0.3633, 0.7337, 0.2728, 0.4716, 0.2722])"
      ]
     },
     "execution_count": 9,
     "metadata": {},
     "output_type": "execute_result"
    }
   ],
   "source": [
    "print(y)\n",
    "y[:,1]"
   ]
  },
  {
   "cell_type": "markdown",
   "id": "ef7d3d54",
   "metadata": {},
   "source": [
    "view操作改变举证维度"
   ]
  },
  {
   "cell_type": "code",
   "execution_count": 10,
   "id": "af7c1208",
   "metadata": {},
   "outputs": [
    {
     "name": "stdout",
     "output_type": "stream",
     "text": [
      "tensor([[-0.3466,  2.1478,  0.5054, -0.8719],\n",
      "        [ 0.4411,  0.5535, -0.8940,  0.4281],\n",
      "        [-0.2212, -0.4165, -0.1465,  0.7729],\n",
      "        [-0.2295, -0.3552,  0.8396, -0.1295]])\n",
      "tensor([-0.3466,  2.1478,  0.5054, -0.8719,  0.4411,  0.5535, -0.8940,  0.4281,\n",
      "        -0.2212, -0.4165, -0.1465,  0.7729, -0.2295, -0.3552,  0.8396, -0.1295])\n",
      "tensor([[-0.3466,  2.1478,  0.5054, -0.8719,  0.4411,  0.5535, -0.8940,  0.4281],\n",
      "        [-0.2212, -0.4165, -0.1465,  0.7729, -0.2295, -0.3552,  0.8396, -0.1295]])\n"
     ]
    },
    {
     "data": {
      "text/plain": [
       "torch.Size([2, 8])"
      ]
     },
     "execution_count": 10,
     "metadata": {},
     "output_type": "execute_result"
    }
   ],
   "source": [
    "#randn随机抽取0~1符合正态分布\n",
    "x=torch.randn(4,4)\n",
    "print(x)\n",
    "y=x.view(16)\n",
    "print(y)\n",
    "#-1表示自动计算\n",
    "z=x.view(-1,8)\n",
    "print(z)\n",
    "z.size()"
   ]
  },
  {
   "cell_type": "markdown",
   "id": "1ad2542a",
   "metadata": {},
   "source": [
    "与Numpy协同"
   ]
  },
  {
   "cell_type": "code",
   "execution_count": 11,
   "id": "70d78e5e",
   "metadata": {},
   "outputs": [
    {
     "name": "stdout",
     "output_type": "stream",
     "text": [
      "tensor([1., 1., 1., 1., 1.])\n"
     ]
    },
    {
     "data": {
      "text/plain": [
       "array([1., 1., 1., 1., 1.], dtype=float32)"
      ]
     },
     "execution_count": 11,
     "metadata": {},
     "output_type": "execute_result"
    }
   ],
   "source": [
    "a=torch.ones(5)\n",
    "print(a)\n",
    "b=a.numpy()\n",
    "b"
   ]
  },
  {
   "cell_type": "code",
   "execution_count": 12,
   "id": "e0ad1513",
   "metadata": {},
   "outputs": [
    {
     "name": "stdout",
     "output_type": "stream",
     "text": [
      "[1. 1. 1. 1. 1.]\n"
     ]
    },
    {
     "data": {
      "text/plain": [
       "tensor([1., 1., 1., 1., 1.], dtype=torch.float64)"
      ]
     },
     "execution_count": 12,
     "metadata": {},
     "output_type": "execute_result"
    }
   ],
   "source": [
    "import numpy\n",
    "a=numpy.ones(5)\n",
    "print(a)\n",
    "a=torch.from_numpy(a)\n",
    "a"
   ]
  },
  {
   "cell_type": "code",
   "execution_count": null,
   "id": "9b305faa",
   "metadata": {},
   "outputs": [],
   "source": []
  }
 ],
 "metadata": {
  "kernelspec": {
   "display_name": "Python 3.8.13 ('AI')",
   "language": "python",
   "name": "python3"
  },
  "language_info": {
   "codemirror_mode": {
    "name": "ipython",
    "version": 3
   },
   "file_extension": ".py",
   "mimetype": "text/x-python",
   "name": "python",
   "nbconvert_exporter": "python",
   "pygments_lexer": "ipython3",
   "version": "3.8.13"
  },
  "vscode": {
   "interpreter": {
    "hash": "edff09c04b0b8f151f1a23da0f1d81b4651050c2abc772ada3fce2895b2777a0"
   }
  }
 },
 "nbformat": 4,
 "nbformat_minor": 5
}
