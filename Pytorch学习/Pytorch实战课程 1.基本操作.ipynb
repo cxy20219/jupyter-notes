{
 "cells": [
  {
   "cell_type": "markdown",
   "id": "bab868c0",
   "metadata": {},
   "source": [
    "查看Pytorch版本"
   ]
  },
  {
   "cell_type": "code",
   "execution_count": 3,
   "id": "0d921edd",
   "metadata": {},
   "outputs": [
    {
     "data": {
      "text/plain": [
       "'1.10.0'"
      ]
     },
     "execution_count": 3,
     "metadata": {},
     "output_type": "execute_result"
    }
   ],
   "source": [
    "import torch\n",
    "torch.__version__"
   ]
  },
  {
   "cell_type": "markdown",
   "id": "633b91fd",
   "metadata": {},
   "source": [
    "创建一个矩阵"
   ]
  },
  {
   "cell_type": "code",
   "execution_count": 22,
   "id": "239763de",
   "metadata": {},
   "outputs": [
    {
     "data": {
      "text/plain": [
       "tensor([[9.2755e-39, 8.4490e-39, 8.9082e-39],\n",
       "        [9.1837e-39, 1.0561e-38, 9.0918e-39],\n",
       "        [1.0469e-38, 8.4490e-39, 1.0469e-38],\n",
       "        [8.9082e-39, 1.0561e-38, 1.0561e-38],\n",
       "        [8.9082e-39, 1.0561e-38, 8.4490e-39]])"
      ]
     },
     "execution_count": 22,
     "metadata": {},
     "output_type": "execute_result"
    }
   ],
   "source": [
    "x=torch.empty(5,3)\n",
    "x"
   ]
  },
  {
   "cell_type": "markdown",
   "id": "cda456bc",
   "metadata": {},
   "source": [
    "随机值"
   ]
  },
  {
   "cell_type": "code",
   "execution_count": 25,
   "id": "3041f906",
   "metadata": {},
   "outputs": [
    {
     "data": {
      "text/plain": [
       "tensor([[0.1257, 0.0366, 0.6893],\n",
       "        [0.4640, 0.9283, 0.8454],\n",
       "        [0.7797, 0.0531, 0.0716],\n",
       "        [0.3599, 0.8169, 0.7366],\n",
       "        [0.8598, 0.3150, 0.3625]])"
      ]
     },
     "execution_count": 25,
     "metadata": {},
     "output_type": "execute_result"
    }
   ],
   "source": [
    "x=torch.rand(5,3)\n",
    "x"
   ]
  },
  {
   "cell_type": "markdown",
   "id": "200beb99",
   "metadata": {},
   "source": [
    "初始化全零矩阵"
   ]
  },
  {
   "cell_type": "code",
   "execution_count": 29,
   "id": "08570b6b",
   "metadata": {},
   "outputs": [
    {
     "data": {
      "text/plain": [
       "tensor([[0., 0., 0.],\n",
       "        [0., 0., 0.],\n",
       "        [0., 0., 0.],\n",
       "        [0., 0., 0.],\n",
       "        [0., 0., 0.]])"
      ]
     },
     "execution_count": 29,
     "metadata": {},
     "output_type": "execute_result"
    }
   ],
   "source": [
    "x=torch.zeros(5,3)\n",
    "x"
   ]
  },
  {
   "cell_type": "markdown",
   "id": "8cbc5c99",
   "metadata": {},
   "source": [
    "展示矩阵大小"
   ]
  },
  {
   "cell_type": "code",
   "execution_count": 31,
   "id": "40213caa",
   "metadata": {},
   "outputs": [
    {
     "data": {
      "text/plain": [
       "torch.Size([5, 3])"
      ]
     },
     "execution_count": 31,
     "metadata": {},
     "output_type": "execute_result"
    }
   ],
   "source": [
    "x.size()"
   ]
  },
  {
   "cell_type": "markdown",
   "id": "fe0dd960",
   "metadata": {},
   "source": [
    "## 基本计算方法"
   ]
  },
  {
   "cell_type": "code",
   "execution_count": 35,
   "id": "e250a16d",
   "metadata": {},
   "outputs": [
    {
     "name": "stdout",
     "output_type": "stream",
     "text": [
      "tensor([[0., 0., 0.],\n",
      "        [0., 0., 0.],\n",
      "        [0., 0., 0.],\n",
      "        [0., 0., 0.],\n",
      "        [0., 0., 0.]])\n",
      "tensor([[0.0646, 0.9645, 0.3827],\n",
      "        [0.7828, 0.5056, 0.0586],\n",
      "        [0.4464, 0.3433, 0.8438],\n",
      "        [0.2937, 0.4613, 0.4555],\n",
      "        [0.6152, 0.0818, 0.7641]])\n",
      "tensor([[0.0646, 0.9645, 0.3827],\n",
      "        [0.7828, 0.5056, 0.0586],\n",
      "        [0.4464, 0.3433, 0.8438],\n",
      "        [0.2937, 0.4613, 0.4555],\n",
      "        [0.6152, 0.0818, 0.7641]])\n"
     ]
    },
    {
     "data": {
      "text/plain": [
       "tensor([[0.0646, 0.9645, 0.3827],\n",
       "        [0.7828, 0.5056, 0.0586],\n",
       "        [0.4464, 0.3433, 0.8438],\n",
       "        [0.2937, 0.4613, 0.4555],\n",
       "        [0.6152, 0.0818, 0.7641]])"
      ]
     },
     "execution_count": 35,
     "metadata": {},
     "output_type": "execute_result"
    }
   ],
   "source": [
    "y=torch.rand(5,3)\n",
    "print(x)\n",
    "print(y)\n",
    "print(x+y)\n",
    "torch.add(x,y)"
   ]
  },
  {
   "cell_type": "markdown",
   "id": "a0f28e6f",
   "metadata": {},
   "source": [
    "索引"
   ]
  },
  {
   "cell_type": "code",
   "execution_count": 37,
   "id": "50ec3a9e",
   "metadata": {},
   "outputs": [
    {
     "name": "stdout",
     "output_type": "stream",
     "text": [
      "tensor([[0.0646, 0.9645, 0.3827],\n",
      "        [0.7828, 0.5056, 0.0586],\n",
      "        [0.4464, 0.3433, 0.8438],\n",
      "        [0.2937, 0.4613, 0.4555],\n",
      "        [0.6152, 0.0818, 0.7641]])\n"
     ]
    },
    {
     "data": {
      "text/plain": [
       "tensor([0.9645, 0.5056, 0.3433, 0.4613, 0.0818])"
      ]
     },
     "execution_count": 37,
     "metadata": {},
     "output_type": "execute_result"
    }
   ],
   "source": [
    "print(y)\n",
    "y[:,1]"
   ]
  },
  {
   "cell_type": "markdown",
   "id": "ef7d3d54",
   "metadata": {},
   "source": [
    "### view操作改变举证维度"
   ]
  },
  {
   "cell_type": "code",
   "execution_count": 43,
   "id": "af7c1208",
   "metadata": {},
   "outputs": [
    {
     "name": "stdout",
     "output_type": "stream",
     "text": [
      "tensor([[ 0.0548,  0.1954, -0.1048, -0.0717],\n",
      "        [-2.1984, -0.5006,  0.3224,  1.4273],\n",
      "        [ 2.3016,  0.2484,  0.0952,  0.0919],\n",
      "        [ 1.1520,  0.7749, -1.2090,  0.9059]])\n",
      "tensor([ 0.0548,  0.1954, -0.1048, -0.0717, -2.1984, -0.5006,  0.3224,  1.4273,\n",
      "         2.3016,  0.2484,  0.0952,  0.0919,  1.1520,  0.7749, -1.2090,  0.9059])\n",
      "tensor([[ 0.0548,  0.1954, -0.1048, -0.0717, -2.1984, -0.5006,  0.3224,  1.4273],\n",
      "        [ 2.3016,  0.2484,  0.0952,  0.0919,  1.1520,  0.7749, -1.2090,  0.9059]])\n"
     ]
    },
    {
     "data": {
      "text/plain": [
       "torch.Size([2, 8])"
      ]
     },
     "execution_count": 43,
     "metadata": {},
     "output_type": "execute_result"
    }
   ],
   "source": [
    "#randn随机抽取0~1符合正态分布\n",
    "x=torch.randn(4,4)\n",
    "print(x)\n",
    "y=x.view(16)\n",
    "print(y)\n",
    "#-1表示自动计算\n",
    "z=x.view(-1,8)\n",
    "print(z)\n",
    "z.size()"
   ]
  },
  {
   "cell_type": "markdown",
   "id": "1ad2542a",
   "metadata": {},
   "source": [
    "## 与Numpy协同"
   ]
  },
  {
   "cell_type": "code",
   "execution_count": 47,
   "id": "70d78e5e",
   "metadata": {},
   "outputs": [
    {
     "name": "stdout",
     "output_type": "stream",
     "text": [
      "tensor([1., 1., 1., 1., 1.])\n"
     ]
    },
    {
     "data": {
      "text/plain": [
       "array([1., 1., 1., 1., 1.], dtype=float32)"
      ]
     },
     "execution_count": 47,
     "metadata": {},
     "output_type": "execute_result"
    }
   ],
   "source": [
    "a=torch.ones(5)\n",
    "print(a)\n",
    "b=a.numpy()\n",
    "b"
   ]
  },
  {
   "cell_type": "code",
   "execution_count": 49,
   "id": "e0ad1513",
   "metadata": {},
   "outputs": [
    {
     "name": "stdout",
     "output_type": "stream",
     "text": [
      "[1. 1. 1. 1. 1.]\n"
     ]
    },
    {
     "data": {
      "text/plain": [
       "tensor([1., 1., 1., 1., 1.], dtype=torch.float64)"
      ]
     },
     "execution_count": 49,
     "metadata": {},
     "output_type": "execute_result"
    }
   ],
   "source": [
    "import numpy\n",
    "a=numpy.ones(5)\n",
    "print(a)\n",
    "a=torch.from_numpy(a)\n",
    "a"
   ]
  },
  {
   "cell_type": "code",
   "execution_count": null,
   "id": "9b305faa",
   "metadata": {},
   "outputs": [],
   "source": []
  }
 ],
 "metadata": {
  "kernelspec": {
   "display_name": "Python 3 (ipykernel)",
   "language": "python",
   "name": "python3"
  },
  "language_info": {
   "codemirror_mode": {
    "name": "ipython",
    "version": 3
   },
   "file_extension": ".py",
   "mimetype": "text/x-python",
   "name": "python",
   "nbconvert_exporter": "python",
   "pygments_lexer": "ipython3",
   "version": "3.9.7"
  }
 },
 "nbformat": 4,
 "nbformat_minor": 5
}
