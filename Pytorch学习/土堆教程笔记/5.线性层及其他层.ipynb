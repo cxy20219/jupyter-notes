{
 "cells": [
  {
   "cell_type": "markdown",
   "id": "d489933f",
   "metadata": {},
   "source": [
    "### 线性层"
   ]
  },
  {
   "cell_type": "code",
   "execution_count": 1,
   "id": "1199313c",
   "metadata": {},
   "outputs": [],
   "source": [
    "import torchvision\n",
    "import torch\n",
    "from torch.utils.data import DataLoader"
   ]
  },
  {
   "cell_type": "code",
   "execution_count": 2,
   "id": "f784d4ce",
   "metadata": {},
   "outputs": [
    {
     "name": "stdout",
     "output_type": "stream",
     "text": [
      "Files already downloaded and verified\n"
     ]
    }
   ],
   "source": [
    "dataset =torchvision.datasets.CIFAR10(\n",
    "    root = \"../../../datas\",\n",
    "    train = False,\n",
    "    download = True,\n",
    "    transform = torchvision.transforms.ToTensor()\n",
    ")"
   ]
  },
  {
   "cell_type": "code",
   "execution_count": 3,
   "id": "843b243c",
   "metadata": {},
   "outputs": [],
   "source": [
    "dataloader = DataLoader(dataset,batch_size=64)"
   ]
  },
  {
   "cell_type": "code",
   "execution_count": 4,
   "id": "9b7a79f0",
   "metadata": {},
   "outputs": [
    {
     "name": "stdout",
     "output_type": "stream",
     "text": [
      "torch.Size([64, 3, 32, 32])\n",
      "torch.Size([1, 1, 1, 196608])\n"
     ]
    }
   ],
   "source": [
    "for data in dataloader:\n",
    "    imgs,targets = data\n",
    "    print(imgs.shape)\n",
    "    output = torch.reshape(imgs,(1,1,1,-1))\n",
    "    print(output.shape)\n",
    "    break\n",
    "    "
   ]
  },
  {
   "cell_type": "code",
   "execution_count": 5,
   "id": "ff489836",
   "metadata": {},
   "outputs": [],
   "source": [
    "import  torch\n",
    "class Model(torch.nn.Module):\n",
    "    def __init__(self):\n",
    "        super(Model,self).__init__()\n",
    "        self.linear1 = torch.nn.Linear(196608,10)\n",
    "        \n",
    "    def forward(self,input):\n",
    "        output = self.linear1(input)\n",
    "        return output"
   ]
  },
  {
   "cell_type": "code",
   "execution_count": 6,
   "id": "c829a317",
   "metadata": {},
   "outputs": [],
   "source": [
    "model = Model()"
   ]
  },
  {
   "cell_type": "code",
   "execution_count": 7,
   "id": "3d59e3bd",
   "metadata": {},
   "outputs": [
    {
     "name": "stdout",
     "output_type": "stream",
     "text": [
      "原数据:\n",
      " torch.Size([64, 3, 32, 32])\n",
      "展平的数据:\n",
      " torch.Size([196608])\n",
      "重置后的数据:\n",
      " torch.Size([1, 1, 1, 196608])\n",
      "重置后数据经过线性层后的数据：\n",
      " torch.Size([1, 1, 1, 10])\n",
      "展平后数据经过线性层后的数据：\n",
      " torch.Size([10])\n"
     ]
    }
   ],
   "source": [
    "for data in dataloader:\n",
    "    imgs,targets = data\n",
    "    print(\"原数据:\\n\",imgs.shape)\n",
    "    \n",
    "    print(\"展平的数据:\\n\",torch.flatten(imgs).shape)\n",
    "    \n",
    "    output = torch.reshape(imgs,(1,1,1,-1))\n",
    "    print(\"重置后的数据:\\n\",output.shape)\n",
    "    \n",
    "    output = model(output)\n",
    "    print(\"重置后数据经过线性层后的数据：\\n\",output.shape)\n",
    "    \n",
    "    print(\"展平后数据经过线性层后的数据：\\n\",model(torch.flatten(imgs)).shape)\n",
    "    break"
   ]
  },
  {
   "cell_type": "code",
   "execution_count": null,
   "id": "19ffbd82",
   "metadata": {},
   "outputs": [],
   "source": []
  }
 ],
 "metadata": {
  "kernelspec": {
   "display_name": "Python 3.8.0 ('AI')",
   "language": "python",
   "name": "python3"
  },
  "language_info": {
   "codemirror_mode": {
    "name": "ipython",
    "version": 3
   },
   "file_extension": ".py",
   "mimetype": "text/x-python",
   "name": "python",
   "nbconvert_exporter": "python",
   "pygments_lexer": "ipython3",
   "version": "3.8.0"
  },
  "vscode": {
   "interpreter": {
    "hash": "1fc88a04995420d2df0799a6ef2676002003e21a0dcb473869432b6fbf2056bb"
   }
  }
 },
 "nbformat": 4,
 "nbformat_minor": 5
}
