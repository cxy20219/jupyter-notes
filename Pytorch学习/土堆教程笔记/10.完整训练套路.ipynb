{
 "cells": [
  {
   "cell_type": "code",
   "execution_count": 1,
   "id": "e23706de",
   "metadata": {},
   "outputs": [],
   "source": [
    "import torchvision\n",
    "import torch"
   ]
  },
  {
   "cell_type": "markdown",
   "id": "6ac4cf6d",
   "metadata": {},
   "source": [
    "## 1. 准备数据集 "
   ]
  },
  {
   "cell_type": "code",
   "execution_count": 2,
   "id": "8ba1fcd4",
   "metadata": {},
   "outputs": [
    {
     "name": "stdout",
     "output_type": "stream",
     "text": [
      "Files already downloaded and verified\n"
     ]
    }
   ],
   "source": [
    "train_data = torchvision.datasets.CIFAR10(\n",
    "    root = \"../../../datas\",\n",
    "    train = True,\n",
    "    transform = torchvision.transforms.ToTensor(),\n",
    "    download = True\n",
    ")"
   ]
  },
  {
   "cell_type": "code",
   "execution_count": 3,
   "id": "541cf817",
   "metadata": {},
   "outputs": [
    {
     "name": "stdout",
     "output_type": "stream",
     "text": [
      "Files already downloaded and verified\n"
     ]
    }
   ],
   "source": [
    "test_data = torchvision.datasets.CIFAR10(\n",
    "    root = \"../../../datas\",\n",
    "    train = False,\n",
    "    transform = torchvision.transforms.ToTensor(),\n",
    "    download = True\n",
    ")"
   ]
  },
  {
   "cell_type": "code",
   "execution_count": 4,
   "id": "50dc1b35",
   "metadata": {},
   "outputs": [
    {
     "data": {
      "text/plain": [
       "50000"
      ]
     },
     "execution_count": 4,
     "metadata": {},
     "output_type": "execute_result"
    }
   ],
   "source": [
    "train_data_size = len(train_data)\n",
    "train_data_size"
   ]
  },
  {
   "cell_type": "code",
   "execution_count": 5,
   "id": "5f05ba08",
   "metadata": {},
   "outputs": [
    {
     "data": {
      "text/plain": [
       "10000"
      ]
     },
     "execution_count": 5,
     "metadata": {},
     "output_type": "execute_result"
    }
   ],
   "source": [
    "test_data_size = len(test_data)\n",
    "test_data_size"
   ]
  },
  {
   "cell_type": "markdown",
   "id": "f4b7de72",
   "metadata": {},
   "source": [
    "## 2. 加载数据集 "
   ]
  },
  {
   "cell_type": "code",
   "execution_count": 6,
   "id": "7212da4f",
   "metadata": {},
   "outputs": [],
   "source": [
    "train_dataloader = torch.utils.data.DataLoader(\n",
    "    train_data,\n",
    "    batch_size = 64,\n",
    "    shuffle = True,\n",
    "    num_workers = 2\n",
    ")"
   ]
  },
  {
   "cell_type": "code",
   "execution_count": 7,
   "id": "e1b0ff4d",
   "metadata": {},
   "outputs": [],
   "source": [
    "teat_dataloader = torch.utils.data.DataLoader(\n",
    "    test_data,\n",
    "    batch_size = 64,\n",
    "    shuffle = True,\n",
    "    num_workers = 2\n",
    ")"
   ]
  },
  {
   "cell_type": "markdown",
   "id": "6a3e457d",
   "metadata": {},
   "source": [
    "## 3. 搭建神经网络 \n",
    "\n",
    "一般放在单独的python文件"
   ]
  },
  {
   "cell_type": "code",
   "execution_count": 8,
   "id": "dff1f496",
   "metadata": {},
   "outputs": [],
   "source": [
    "class Model(torch.nn.Module):\n",
    "    def __init__(self):\n",
    "        super(Model,self).__init__()\n",
    "        self.model = torch.nn.Sequential(\n",
    "            torch.nn.Conv2d(in_channels=3,out_channels=32,kernel_size=5,stride=1,padding=2),\n",
    "            torch.nn.MaxPool2d(kernel_size=2),\n",
    "            torch.nn.Conv2d(32,32,5,1,2),\n",
    "            torch.nn.MaxPool2d(2),\n",
    "            torch.nn.Conv2d(32,64,5,1,2),\n",
    "            torch.nn.MaxPool2d(2),\n",
    "            torch.nn.Flatten(),\n",
    "            torch.nn.Linear(64*4*4,64),\n",
    "            torch.nn.Linear(64,10)\n",
    "        )\n",
    "        \n",
    "    def forward(self,x):\n",
    "        x = self.model(x)\n",
    "        return x"
   ]
  },
  {
   "cell_type": "markdown",
   "id": "49335d2e",
   "metadata": {},
   "source": [
    "## 4. 创建网络模型 "
   ]
  },
  {
   "cell_type": "code",
   "execution_count": 9,
   "id": "06080485",
   "metadata": {},
   "outputs": [
    {
     "name": "stdout",
     "output_type": "stream",
     "text": [
      "torch.Size([64, 3, 32, 32])\n",
      "torch.Size([64, 10])\n"
     ]
    }
   ],
   "source": [
    "model = Model()\n",
    "input = torch.ones((64,3,32,32))\n",
    "output = model(input)\n",
    "print(input.shape)\n",
    "print(output.shape)"
   ]
  },
  {
   "cell_type": "markdown",
   "id": "6259cecd",
   "metadata": {},
   "source": [
    "## 5. 损失函数 "
   ]
  },
  {
   "cell_type": "code",
   "execution_count": 10,
   "id": "8988a351",
   "metadata": {},
   "outputs": [],
   "source": [
    "loss_fn = torch.nn.CrossEntropyLoss()"
   ]
  },
  {
   "cell_type": "markdown",
   "id": "7a02047a",
   "metadata": {},
   "source": [
    "## 6. 优化器 "
   ]
  },
  {
   "cell_type": "code",
   "execution_count": 11,
   "id": "b08682b2",
   "metadata": {},
   "outputs": [],
   "source": [
    "optimizer = torch.optim.SGD(model.parameters(),lr=0.01)"
   ]
  },
  {
   "cell_type": "markdown",
   "id": "1ce44065",
   "metadata": {},
   "source": [
    "## 7. 设置训练网络的参数 "
   ]
  },
  {
   "cell_type": "markdown",
   "id": "a0fcb724",
   "metadata": {},
   "source": [
    "### 7.1 训练的次数"
   ]
  },
  {
   "cell_type": "code",
   "execution_count": 12,
   "id": "edc89741",
   "metadata": {},
   "outputs": [],
   "source": [
    "total_train_step = 0"
   ]
  },
  {
   "cell_type": "markdown",
   "id": "e5301bc9",
   "metadata": {},
   "source": [
    "### 7.2 测试的次数"
   ]
  },
  {
   "cell_type": "code",
   "execution_count": 13,
   "id": "dedfb4fb",
   "metadata": {},
   "outputs": [],
   "source": [
    "total_test_step = 0"
   ]
  },
  {
   "cell_type": "markdown",
   "id": "09cfeca8",
   "metadata": {},
   "source": [
    "### 7.3 训练的轮数 "
   ]
  },
  {
   "cell_type": "code",
   "execution_count": 14,
   "id": "13d46347",
   "metadata": {},
   "outputs": [],
   "source": [
    "epoch = 10"
   ]
  },
  {
   "cell_type": "markdown",
   "id": "00ed1b07",
   "metadata": {},
   "source": [
    "---"
   ]
  },
  {
   "cell_type": "code",
   "execution_count": 15,
   "id": "e2a67f23",
   "metadata": {},
   "outputs": [],
   "source": [
    "from torch.utils.tensorboard import SummaryWriter\n",
    "writer = SummaryWriter(\"./project_logs\")"
   ]
  },
  {
   "cell_type": "code",
   "execution_count": 1,
   "id": "04a3a3aa",
   "metadata": {},
   "outputs": [
    {
     "ename": "NameError",
     "evalue": "name 'epoch' is not defined",
     "output_type": "error",
     "traceback": [
      "\u001b[1;31m---------------------------------------------------------------------------\u001b[0m",
      "\u001b[1;31mNameError\u001b[0m                                 Traceback (most recent call last)",
      "\u001b[1;32m~\\AppData\\Local\\Temp\\ipykernel_19220\\215190854.py\u001b[0m in \u001b[0;36m<module>\u001b[1;34m\u001b[0m\n\u001b[1;32m----> 1\u001b[1;33m \u001b[1;32mfor\u001b[0m \u001b[0mi\u001b[0m \u001b[1;32min\u001b[0m \u001b[0mrange\u001b[0m\u001b[1;33m(\u001b[0m\u001b[0mepoch\u001b[0m\u001b[1;33m)\u001b[0m\u001b[1;33m:\u001b[0m\u001b[1;33m\u001b[0m\u001b[1;33m\u001b[0m\u001b[0m\n\u001b[0m\u001b[0;32m      2\u001b[0m     \u001b[0mprint\u001b[0m\u001b[1;33m(\u001b[0m\u001b[1;34m\"-------------第{}轮训练开始------------\"\u001b[0m\u001b[1;33m.\u001b[0m\u001b[0mformat\u001b[0m\u001b[1;33m(\u001b[0m\u001b[0mi\u001b[0m\u001b[1;33m+\u001b[0m\u001b[1;36m1\u001b[0m\u001b[1;33m)\u001b[0m\u001b[1;33m)\u001b[0m\u001b[1;33m\u001b[0m\u001b[1;33m\u001b[0m\u001b[0m\n\u001b[0;32m      3\u001b[0m     \u001b[1;31m# 训练步骤开始\u001b[0m\u001b[1;33m\u001b[0m\u001b[1;33m\u001b[0m\u001b[1;33m\u001b[0m\u001b[0m\n\u001b[0;32m      4\u001b[0m     \u001b[0mmodel\u001b[0m\u001b[1;33m.\u001b[0m\u001b[0mtrain\u001b[0m\u001b[1;33m(\u001b[0m\u001b[1;33m)\u001b[0m\u001b[1;33m\u001b[0m\u001b[1;33m\u001b[0m\u001b[0m\n\u001b[0;32m      5\u001b[0m     \u001b[1;32mfor\u001b[0m \u001b[0mdata\u001b[0m \u001b[1;32min\u001b[0m \u001b[0mtrain_dataloader\u001b[0m\u001b[1;33m:\u001b[0m\u001b[1;33m\u001b[0m\u001b[1;33m\u001b[0m\u001b[0m\n",
      "\u001b[1;31mNameError\u001b[0m: name 'epoch' is not defined"
     ]
    }
   ],
   "source": [
    "for i in range(epoch):\n",
    "    print(\"-------------第{}轮训练开始------------\".format(i+1))\n",
    "    # 训练步骤开始\n",
    "    model.train()\n",
    "    for data in train_dataloader:\n",
    "        imgs,targets = data\n",
    "        outputs = model(imgs)\n",
    "        loss = loss_fn(outputs,targets)\n",
    "        \n",
    "        # 优化器优化模型\n",
    "        optimizer.zero_grad()\n",
    "        loss.backward()\n",
    "        optimizer.step()\n",
    "        total_train_step+=1\n",
    "        if total_train_step % 100 == 0:\n",
    "            writer.add_scalar(\"train_loss\",loss.item(),total_train_step)\n",
    "            print(\"训练次数：{},loss:{}\".format(total_train_step,loss.item()))\n",
    "        \n",
    "    # 测试步骤\n",
    "    model.eval()\n",
    "    total_test_loss = 0\n",
    "    total_accuracy = 0\n",
    "    with torch.no_grad():\n",
    "        for data in teat_dataloader:\n",
    "            imgs,targets = data\n",
    "            outputs = model(imgs)\n",
    "            loss = loss_fn(outputs,targets)\n",
    "            total_test_loss += loss.item()\n",
    "            accuracy = (outputs.argmax(1) == targets).sum()\n",
    "            total_accuracy+=accuracy\n",
    "    writer.add_scalar(\"test_total_loss\",total_test_loss,i+1)\n",
    "    writer.add_scalar(\"test_accuracy\",total_accuracy/test_data_size,i+1)\n",
    "    print(\"整体测试集上的loss:{}\".format(total_test_loss))\n",
    "    print(\"整体测试集上的正确率:{}\".format(total_accuracy/test_data_size))\n",
    "    \n",
    "    torch.save(model,\"./models/model_{}.pth\".format(i+1))\n",
    "    print(\"模型{}已保存\".format(i+1))\n",
    "writer.close()"
   ]
  }
 ],
 "metadata": {
  "kernelspec": {
   "display_name": "Python 3.8.0 ('AI')",
   "language": "python",
   "name": "python3"
  },
  "language_info": {
   "codemirror_mode": {
    "name": "ipython",
    "version": 3
   },
   "file_extension": ".py",
   "mimetype": "text/x-python",
   "name": "python",
   "nbconvert_exporter": "python",
   "pygments_lexer": "ipython3",
   "version": "3.8.0"
  },
  "vscode": {
   "interpreter": {
    "hash": "1fc88a04995420d2df0799a6ef2676002003e21a0dcb473869432b6fbf2056bb"
   }
  }
 },
 "nbformat": 4,
 "nbformat_minor": 5
}
