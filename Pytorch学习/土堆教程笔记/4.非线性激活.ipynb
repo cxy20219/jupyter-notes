{
 "cells": [
  {
   "cell_type": "markdown",
   "id": "32d26a6a",
   "metadata": {},
   "source": [
    "### 非线性激活"
   ]
  },
  {
   "cell_type": "markdown",
   "id": "5988af55",
   "metadata": {},
   "source": [
    "#### tensor的基本使用"
   ]
  },
  {
   "cell_type": "code",
   "execution_count": 1,
   "id": "0c2e8f0e",
   "metadata": {},
   "outputs": [],
   "source": [
    "import torch"
   ]
  },
  {
   "cell_type": "code",
   "execution_count": 2,
   "id": "a769708b",
   "metadata": {},
   "outputs": [
    {
     "data": {
      "text/plain": [
       "tensor([[ 1.0000, -0.5000],\n",
       "        [-1.0000,  3.0000]])"
      ]
     },
     "execution_count": 2,
     "metadata": {},
     "output_type": "execute_result"
    }
   ],
   "source": [
    "input = torch.tensor([\n",
    "    [1,-0.5],\n",
    "    [-1,3]\n",
    "])\n",
    "input"
   ]
  },
  {
   "cell_type": "code",
   "execution_count": 3,
   "id": "4f5f8c2a",
   "metadata": {},
   "outputs": [
    {
     "data": {
      "text/plain": [
       "torch.Size([2, 2])"
      ]
     },
     "execution_count": 3,
     "metadata": {},
     "output_type": "execute_result"
    }
   ],
   "source": [
    "input.shape"
   ]
  },
  {
   "cell_type": "code",
   "execution_count": 4,
   "id": "e861152e",
   "metadata": {},
   "outputs": [
    {
     "name": "stdout",
     "output_type": "stream",
     "text": [
      "torch.Size([1, 1, 2, 2])\n"
     ]
    },
    {
     "data": {
      "text/plain": [
       "tensor([[[[ 1.0000, -0.5000],\n",
       "          [-1.0000,  3.0000]]]])"
      ]
     },
     "execution_count": 4,
     "metadata": {},
     "output_type": "execute_result"
    }
   ],
   "source": [
    "input = torch.reshape(input,(-1,1,2,2))\n",
    "print(input.shape)\n",
    "input"
   ]
  },
  {
   "cell_type": "markdown",
   "id": "8fdd0bcb",
   "metadata": {},
   "source": [
    "#### 框架构建"
   ]
  },
  {
   "cell_type": "code",
   "execution_count": 5,
   "id": "ba198bff",
   "metadata": {},
   "outputs": [],
   "source": [
    "class Model(torch.nn.Module):\n",
    "    def __init__(self):\n",
    "        super(Model,self).__init__()\n",
    "        self.relu1 = torch.nn.ReLU()  # inplace 参数是否直接对原变量替换 默认为False\n",
    "        \n",
    "    def forward(self,input):\n",
    "        output = self.relu1(input)\n",
    "        return output"
   ]
  },
  {
   "cell_type": "code",
   "execution_count": 6,
   "id": "214b3927",
   "metadata": {},
   "outputs": [],
   "source": [
    "model = Model()"
   ]
  },
  {
   "cell_type": "code",
   "execution_count": 7,
   "id": "8e566976",
   "metadata": {},
   "outputs": [
    {
     "name": "stdout",
     "output_type": "stream",
     "text": [
      "input:\n",
      ": tensor([[[[ 1.0000, -0.5000],\n",
      "          [-1.0000,  3.0000]]]])\n",
      "output:\n",
      ": tensor([[[[1., 0.],\n",
      "          [0., 3.]]]])\n"
     ]
    }
   ],
   "source": [
    "output = model(input)\n",
    "print(\"input:\\n:\",input)\n",
    "print(\"output:\\n:\",output)"
   ]
  },
  {
   "cell_type": "markdown",
   "id": "7285ffca",
   "metadata": {},
   "source": [
    "### CIFAR10数据集上测试其他非线性"
   ]
  },
  {
   "cell_type": "code",
   "execution_count": 8,
   "id": "f6772d72",
   "metadata": {},
   "outputs": [],
   "source": [
    "from torchvision import datasets,transforms"
   ]
  },
  {
   "cell_type": "code",
   "execution_count": 9,
   "id": "48a9131f",
   "metadata": {},
   "outputs": [
    {
     "name": "stdout",
     "output_type": "stream",
     "text": [
      "Files already downloaded and verified\n"
     ]
    }
   ],
   "source": [
    "dataset =datasets.CIFAR10(\n",
    "    root = \"../../../datas\",\n",
    "    train = False,\n",
    "    transform =transforms.ToTensor(),\n",
    "    download = True\n",
    ")"
   ]
  },
  {
   "cell_type": "code",
   "execution_count": 10,
   "id": "4a6b85b0",
   "metadata": {},
   "outputs": [],
   "source": [
    "from torch.utils.data import DataLoader"
   ]
  },
  {
   "cell_type": "code",
   "execution_count": 11,
   "id": "bc8e88f4",
   "metadata": {},
   "outputs": [],
   "source": [
    "dataloader = DataLoader(dataset,batch_size=64)"
   ]
  },
  {
   "cell_type": "code",
   "execution_count": 12,
   "id": "91a1d301",
   "metadata": {},
   "outputs": [],
   "source": [
    "class Model2(torch.nn.Module):\n",
    "    def __init__(self):\n",
    "        super(Model2,self).__init__()\n",
    "        self.sigmoid1 = torch.nn.Sigmoid()\n",
    "        \n",
    "    def forward(self,input):\n",
    "        output = self.sigmoid1(input)\n",
    "        return output"
   ]
  },
  {
   "cell_type": "code",
   "execution_count": 13,
   "id": "cdd83833",
   "metadata": {},
   "outputs": [],
   "source": [
    "model2 = Model2()"
   ]
  },
  {
   "cell_type": "code",
   "execution_count": 14,
   "id": "007f8f33",
   "metadata": {},
   "outputs": [],
   "source": [
    "from torch.utils.tensorboard import SummaryWriter"
   ]
  },
  {
   "cell_type": "code",
   "execution_count": 15,
   "id": "02e1453f",
   "metadata": {},
   "outputs": [],
   "source": [
    "# writer = SummaryWriter(\"./Sigmoid_logs\")\n",
    "step=1\n",
    "for data in dataloader:\n",
    "    imgs,targets = data\n",
    "    # writer.add_images(\"input\",imgs,step)\n",
    "    output = model2(imgs)\n",
    "    # writer.add_images(\"out_put\",output,step)\n",
    "    step+=1\n",
    "# writer.close()"
   ]
  }
 ],
 "metadata": {
  "kernelspec": {
   "display_name": "Python 3.8.0 ('AI')",
   "language": "python",
   "name": "python3"
  },
  "language_info": {
   "codemirror_mode": {
    "name": "ipython",
    "version": 3
   },
   "file_extension": ".py",
   "mimetype": "text/x-python",
   "name": "python",
   "nbconvert_exporter": "python",
   "pygments_lexer": "ipython3",
   "version": "3.8.0"
  },
  "vscode": {
   "interpreter": {
    "hash": "1fc88a04995420d2df0799a6ef2676002003e21a0dcb473869432b6fbf2056bb"
   }
  }
 },
 "nbformat": 4,
 "nbformat_minor": 5
}
