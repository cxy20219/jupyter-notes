{
 "cells": [
  {
   "cell_type": "markdown",
   "id": "739b71c2",
   "metadata": {},
   "source": [
    "### 损失函数"
   ]
  },
  {
   "cell_type": "code",
   "execution_count": 1,
   "id": "8fb72a2a",
   "metadata": {},
   "outputs": [],
   "source": [
    "import torch\n",
    "import torch.nn as nn"
   ]
  },
  {
   "cell_type": "code",
   "execution_count": 2,
   "id": "98bfcd78",
   "metadata": {},
   "outputs": [],
   "source": [
    "input = torch.tensor([1,2,3],dtype=torch.float32)\n",
    "target = torch.tensor([1,2,5],dtype=torch.float32)"
   ]
  },
  {
   "cell_type": "code",
   "execution_count": 3,
   "id": "63ee8d72",
   "metadata": {},
   "outputs": [
    {
     "data": {
      "text/plain": [
       "tensor([1., 2., 3.])"
      ]
     },
     "execution_count": 3,
     "metadata": {},
     "output_type": "execute_result"
    }
   ],
   "source": [
    "input"
   ]
  },
  {
   "cell_type": "code",
   "execution_count": 4,
   "id": "82c5571a",
   "metadata": {},
   "outputs": [
    {
     "data": {
      "text/plain": [
       "tensor([1., 2., 5.])"
      ]
     },
     "execution_count": 4,
     "metadata": {},
     "output_type": "execute_result"
    }
   ],
   "source": [
    "target"
   ]
  },
  {
   "cell_type": "code",
   "execution_count": 5,
   "id": "e9c2c112",
   "metadata": {},
   "outputs": [],
   "source": [
    "input = torch.reshape(input,(1,1,1,3))\n",
    "target = torch.reshape(target,(1,1,1,3))"
   ]
  },
  {
   "cell_type": "code",
   "execution_count": 6,
   "id": "57027c9f",
   "metadata": {},
   "outputs": [
    {
     "data": {
      "text/plain": [
       "tensor([[[[1., 2., 3.]]]])"
      ]
     },
     "execution_count": 6,
     "metadata": {},
     "output_type": "execute_result"
    }
   ],
   "source": [
    "input"
   ]
  },
  {
   "cell_type": "code",
   "execution_count": 7,
   "id": "7b890d44",
   "metadata": {},
   "outputs": [
    {
     "data": {
      "text/plain": [
       "tensor([[[[1., 2., 5.]]]])"
      ]
     },
     "execution_count": 7,
     "metadata": {},
     "output_type": "execute_result"
    }
   ],
   "source": [
    "target"
   ]
  },
  {
   "cell_type": "markdown",
   "id": "b09d9321",
   "metadata": {},
   "source": [
    "#### 1. L1Loss  "
   ]
  },
  {
   "cell_type": "code",
   "execution_count": 8,
   "id": "7b37c1d9",
   "metadata": {},
   "outputs": [],
   "source": [
    "loss = nn.L1Loss()  # 设置reduction = 'sum' 就是求和，不求均值\n",
    "result = loss(input,target)"
   ]
  },
  {
   "cell_type": "code",
   "execution_count": 9,
   "id": "5a2b5975",
   "metadata": {},
   "outputs": [
    {
     "data": {
      "text/plain": [
       "tensor(0.6667)"
      ]
     },
     "execution_count": 9,
     "metadata": {},
     "output_type": "execute_result"
    }
   ],
   "source": [
    "result"
   ]
  },
  {
   "cell_type": "markdown",
   "id": "c1da7952",
   "metadata": {},
   "source": [
    "#### 2. MSELoss "
   ]
  },
  {
   "cell_type": "code",
   "execution_count": 10,
   "id": "ae90af45",
   "metadata": {},
   "outputs": [],
   "source": [
    "loss_mse = nn.MSELoss()\n",
    "result_mse = loss_mse(input,target) "
   ]
  },
  {
   "cell_type": "code",
   "execution_count": 11,
   "id": "d71a2c47",
   "metadata": {},
   "outputs": [
    {
     "data": {
      "text/plain": [
       "tensor(1.3333)"
      ]
     },
     "execution_count": 11,
     "metadata": {},
     "output_type": "execute_result"
    }
   ],
   "source": [
    "result_mse"
   ]
  },
  {
   "cell_type": "markdown",
   "id": "0e962ef4",
   "metadata": {},
   "source": [
    "#### 3. CROSSENTROPYLoss"
   ]
  },
  {
   "cell_type": "code",
   "execution_count": 12,
   "id": "fd5c35eb",
   "metadata": {},
   "outputs": [],
   "source": [
    "x = torch.tensor([0.1,0.2,0.3])\n",
    "y = torch.tensor([1])"
   ]
  },
  {
   "cell_type": "code",
   "execution_count": 13,
   "id": "dcd466ea",
   "metadata": {},
   "outputs": [
    {
     "data": {
      "text/plain": [
       "tensor([[0.1000, 0.2000, 0.3000]])"
      ]
     },
     "execution_count": 13,
     "metadata": {},
     "output_type": "execute_result"
    }
   ],
   "source": [
    "x = torch.reshape(x,(1,3)) # 有三类\n",
    "x"
   ]
  },
  {
   "cell_type": "code",
   "execution_count": 14,
   "id": "e23f24e7",
   "metadata": {},
   "outputs": [],
   "source": [
    "loss_cross = nn.CrossEntropyLoss()"
   ]
  },
  {
   "cell_type": "code",
   "execution_count": 15,
   "id": "4161fb85",
   "metadata": {},
   "outputs": [
    {
     "data": {
      "text/plain": [
       "tensor(1.1019)"
      ]
     },
     "execution_count": 15,
     "metadata": {},
     "output_type": "execute_result"
    }
   ],
   "source": [
    "result_Cross = loss_cross(x,y)\n",
    "result_Cross"
   ]
  },
  {
   "cell_type": "markdown",
   "id": "4ead7548",
   "metadata": {},
   "source": [
    "#### 损失函数实操 "
   ]
  },
  {
   "cell_type": "code",
   "execution_count": 16,
   "id": "1268a18a",
   "metadata": {},
   "outputs": [],
   "source": [
    "class Model2(nn.Module):\n",
    "    def __init__(self):\n",
    "        super(Model2,self).__init__()\n",
    "        self.model = nn.Sequential(\n",
    "            nn.Conv2d(3,32,5,padding=2),\n",
    "            nn.MaxPool2d(2),\n",
    "            nn.Conv2d(32,32,5,padding=2),\n",
    "            nn.MaxPool2d(2),\n",
    "            nn.Conv2d(32,64,5,padding=2),\n",
    "            nn.MaxPool2d(2),\n",
    "            nn.Flatten(),\n",
    "            nn.Linear(1024,64),\n",
    "            nn.Linear(64,10)\n",
    "        )\n",
    "    \n",
    "    def forward(self,x):\n",
    "        x = self.model(x)\n",
    "        return x"
   ]
  },
  {
   "cell_type": "code",
   "execution_count": 17,
   "id": "3f010461",
   "metadata": {},
   "outputs": [],
   "source": [
    "import torchvision\n",
    "from torch.utils.data import DataLoader"
   ]
  },
  {
   "cell_type": "code",
   "execution_count": 18,
   "id": "81966302",
   "metadata": {},
   "outputs": [
    {
     "name": "stdout",
     "output_type": "stream",
     "text": [
      "Files already downloaded and verified\n"
     ]
    }
   ],
   "source": [
    "dataset = torchvision.datasets.CIFAR10(\n",
    "    root = \"../../../datas\",\n",
    "    train = False,\n",
    "    download = True,\n",
    "    transform = torchvision.transforms.ToTensor()\n",
    ")"
   ]
  },
  {
   "cell_type": "code",
   "execution_count": 19,
   "id": "f18f742a",
   "metadata": {},
   "outputs": [],
   "source": [
    "dataloader = DataLoader(dataset,batch_size=1)"
   ]
  },
  {
   "cell_type": "code",
   "execution_count": 20,
   "id": "4987c5e8",
   "metadata": {},
   "outputs": [],
   "source": [
    "model = Model2()"
   ]
  },
  {
   "cell_type": "code",
   "execution_count": 21,
   "id": "dcbd6b4c",
   "metadata": {},
   "outputs": [
    {
     "name": "stdout",
     "output_type": "stream",
     "text": [
      "tensor([[ 0.0611,  0.0791, -0.1297, -0.0609,  0.0452,  0.0773,  0.1266, -0.0355,\n",
      "          0.0939, -0.0932]], grad_fn=<AddmmBackward0>)\n",
      "tensor([3])\n",
      "tensor(2.9836, grad_fn=<L1LossBackward0>)\n"
     ]
    },
    {
     "name": "stderr",
     "output_type": "stream",
     "text": [
      "e:\\python\\envs\\AI\\lib\\site-packages\\torch\\nn\\modules\\loss.py:96: UserWarning: Using a target size (torch.Size([1])) that is different to the input size (torch.Size([1, 10])). This will likely lead to incorrect results due to broadcasting. Please ensure they have the same size.\n",
      "  return F.l1_loss(input, target, reduction=self.reduction)\n"
     ]
    }
   ],
   "source": [
    "for data in dataloader:\n",
    "    imgs,targets = data\n",
    "    outputs = model(imgs)\n",
    "    print(outputs)\n",
    "    print(targets)\n",
    "    result_loss = loss(outputs,targets)\n",
    "    print(result_loss) #实际输出与目标之间的误差\n",
    "    break"
   ]
  },
  {
   "cell_type": "markdown",
   "id": "7eb132ef",
   "metadata": {},
   "source": [
    "### 优化器与反向传播 "
   ]
  },
  {
   "cell_type": "code",
   "execution_count": 22,
   "id": "11d8394c",
   "metadata": {},
   "outputs": [],
   "source": [
    "# 设置优化器\n",
    "optim = torch.optim.SGD(model.parameters(),lr=0.01) # lr:学习速率\n",
    "\n",
    "# 设置损失函数\n",
    "loss = torch.nn.CrossEntropyLoss()"
   ]
  },
  {
   "cell_type": "code",
   "execution_count": 23,
   "id": "e2172872",
   "metadata": {},
   "outputs": [
    {
     "name": "stdout",
     "output_type": "stream",
     "text": [
      "tensor(18796.0430, grad_fn=<AddBackward0>)\n",
      "tensor(16230.1553, grad_fn=<AddBackward0>)\n",
      "tensor(15363.7725, grad_fn=<AddBackward0>)\n",
      "tensor(16050.4121, grad_fn=<AddBackward0>)\n",
      "tensor(17864.2715, grad_fn=<AddBackward0>)\n",
      "tensor(20308.3359, grad_fn=<AddBackward0>)\n",
      "tensor(22124.3125, grad_fn=<AddBackward0>)\n",
      "tensor(23408.3730, grad_fn=<AddBackward0>)\n",
      "tensor(24673.9941, grad_fn=<AddBackward0>)\n",
      "tensor(24994.8008, grad_fn=<AddBackward0>)\n",
      "tensor(25338.1953, grad_fn=<AddBackward0>)\n",
      "tensor(25939.2402, grad_fn=<AddBackward0>)\n",
      "tensor(26191.7969, grad_fn=<AddBackward0>)\n",
      "tensor(26935.6152, grad_fn=<AddBackward0>)\n",
      "tensor(28035.4785, grad_fn=<AddBackward0>)\n",
      "tensor(28942.5391, grad_fn=<AddBackward0>)\n",
      "tensor(31423.3457, grad_fn=<AddBackward0>)\n",
      "tensor(nan, grad_fn=<AddBackward0>)\n",
      "tensor(nan, grad_fn=<AddBackward0>)\n",
      "tensor(nan, grad_fn=<AddBackward0>)\n"
     ]
    }
   ],
   "source": [
    "for epoch in range(20):        # 20轮学习\n",
    "    running_loss = 0.0\n",
    "    for data in dataloader:\n",
    "        imgs,targets = data\n",
    "        outputs = model(imgs)\n",
    "        result_loss = loss(outputs,targets)\n",
    "        optim.zero_grad()      # 归零设置\n",
    "        result_loss.backward() # 计算参数结点梯度，反向传播\n",
    "        optim.step()           # 对模型参数调优\n",
    "        running_loss = running_loss + result_loss\n",
    "    print(running_loss)"
   ]
  }
 ],
 "metadata": {
  "kernelspec": {
   "display_name": "Python 3.8.0 ('AI')",
   "language": "python",
   "name": "python3"
  },
  "language_info": {
   "codemirror_mode": {
    "name": "ipython",
    "version": 3
   },
   "file_extension": ".py",
   "mimetype": "text/x-python",
   "name": "python",
   "nbconvert_exporter": "python",
   "pygments_lexer": "ipython3",
   "version": "3.8.0"
  },
  "vscode": {
   "interpreter": {
    "hash": "1fc88a04995420d2df0799a6ef2676002003e21a0dcb473869432b6fbf2056bb"
   }
  }
 },
 "nbformat": 4,
 "nbformat_minor": 5
}
