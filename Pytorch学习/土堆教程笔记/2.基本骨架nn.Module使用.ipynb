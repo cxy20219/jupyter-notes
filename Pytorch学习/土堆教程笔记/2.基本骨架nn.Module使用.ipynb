{
 "cells": [
  {
   "cell_type": "markdown",
   "id": "08cee7f0",
   "metadata": {},
   "source": [
    "#### 继承nn.Module类"
   ]
  },
  {
   "cell_type": "code",
   "execution_count": 1,
   "id": "c9b47cbc",
   "metadata": {},
   "outputs": [],
   "source": [
    "from torch import nn"
   ]
  },
  {
   "cell_type": "code",
   "execution_count": 2,
   "id": "1179bc73",
   "metadata": {},
   "outputs": [],
   "source": [
    "class Model(nn.Module):\n",
    "    def __init__(self):\n",
    "        super(Model,self).__init__()\n",
    "\n",
    "    def forward(self,input):\n",
    "        output = input+1\n",
    "        return output"
   ]
  },
  {
   "cell_type": "code",
   "execution_count": 3,
   "id": "cd908f1c",
   "metadata": {},
   "outputs": [],
   "source": [
    "model = Model()"
   ]
  },
  {
   "cell_type": "code",
   "execution_count": 4,
   "id": "5dca7211",
   "metadata": {},
   "outputs": [],
   "source": [
    "import torch"
   ]
  },
  {
   "cell_type": "code",
   "execution_count": 5,
   "id": "6504bd9d",
   "metadata": {},
   "outputs": [
    {
     "data": {
      "text/plain": [
       "tensor(1.)"
      ]
     },
     "execution_count": 5,
     "metadata": {},
     "output_type": "execute_result"
    }
   ],
   "source": [
    "x = torch.tensor(1.0)\n",
    "x"
   ]
  },
  {
   "cell_type": "code",
   "execution_count": 6,
   "id": "a14d41d2",
   "metadata": {},
   "outputs": [
    {
     "data": {
      "text/plain": [
       "tensor(2.)"
      ]
     },
     "execution_count": 6,
     "metadata": {},
     "output_type": "execute_result"
    }
   ],
   "source": [
    "outout = model(x)\n",
    "outout"
   ]
  },
  {
   "cell_type": "markdown",
   "id": "98464a4c",
   "metadata": {},
   "source": [
    "#### 卷积"
   ]
  },
  {
   "cell_type": "code",
   "execution_count": 7,
   "id": "a8571784",
   "metadata": {},
   "outputs": [],
   "source": [
    "import torch"
   ]
  },
  {
   "cell_type": "code",
   "execution_count": 8,
   "id": "6482eaed",
   "metadata": {},
   "outputs": [
    {
     "data": {
      "text/plain": [
       "tensor([[1, 2, 0, 3, 1],\n",
       "        [0, 1, 2, 3, 1],\n",
       "        [1, 2, 1, 0, 0],\n",
       "        [5, 2, 3, 1, 1],\n",
       "        [2, 1, 0, 1, 1]])"
      ]
     },
     "execution_count": 8,
     "metadata": {},
     "output_type": "execute_result"
    }
   ],
   "source": [
    "input = torch.tensor([[1,2,0,3,1],\n",
    "                      [0,1,2,3,1],\n",
    "                      [1,2,1,0,0],\n",
    "                      [5,2,3,1,1],\n",
    "                      [2,1,0,1,1]\n",
    "                     ])\n",
    "input"
   ]
  },
  {
   "cell_type": "code",
   "execution_count": 9,
   "id": "3029e650",
   "metadata": {},
   "outputs": [
    {
     "data": {
      "text/plain": [
       "tensor([[1, 2, 1],\n",
       "        [0, 1, 0],\n",
       "        [2, 1, 0]])"
      ]
     },
     "execution_count": 9,
     "metadata": {},
     "output_type": "execute_result"
    }
   ],
   "source": [
    "kernel = torch.tensor([[1,2,1],\n",
    "                       [0,1,0],\n",
    "                       [2,1,0]\n",
    "                      ])\n",
    "kernel"
   ]
  },
  {
   "cell_type": "code",
   "execution_count": 10,
   "id": "def988d2",
   "metadata": {},
   "outputs": [
    {
     "data": {
      "text/plain": [
       "torch.Size([5, 5])"
      ]
     },
     "execution_count": 10,
     "metadata": {},
     "output_type": "execute_result"
    }
   ],
   "source": [
    "input.shape"
   ]
  },
  {
   "cell_type": "code",
   "execution_count": 11,
   "id": "b6e2ad36",
   "metadata": {},
   "outputs": [
    {
     "data": {
      "text/plain": [
       "torch.Size([3, 3])"
      ]
     },
     "execution_count": 11,
     "metadata": {},
     "output_type": "execute_result"
    }
   ],
   "source": [
    "kernel.shape"
   ]
  },
  {
   "cell_type": "markdown",
   "id": "94b0bd3d",
   "metadata": {},
   "source": [
    "**变换尺寸**"
   ]
  },
  {
   "cell_type": "code",
   "execution_count": 12,
   "id": "4530ceee",
   "metadata": {},
   "outputs": [
    {
     "data": {
      "text/plain": [
       "tensor([[[[1, 2, 0, 3, 1],\n",
       "          [0, 1, 2, 3, 1],\n",
       "          [1, 2, 1, 0, 0],\n",
       "          [5, 2, 3, 1, 1],\n",
       "          [2, 1, 0, 1, 1]]]])"
      ]
     },
     "execution_count": 12,
     "metadata": {},
     "output_type": "execute_result"
    }
   ],
   "source": [
    "input = torch.reshape(input,(1,1,5,5))\n",
    "\n",
    "input"
   ]
  },
  {
   "cell_type": "code",
   "execution_count": 13,
   "id": "38963ae9",
   "metadata": {},
   "outputs": [
    {
     "data": {
      "text/plain": [
       "tensor([[[[1, 2, 1],\n",
       "          [0, 1, 0],\n",
       "          [2, 1, 0]]]])"
      ]
     },
     "execution_count": 13,
     "metadata": {},
     "output_type": "execute_result"
    }
   ],
   "source": [
    "kernel = torch.reshape(kernel,(1,1,3,3))\n",
    "kernel"
   ]
  },
  {
   "cell_type": "code",
   "execution_count": 14,
   "id": "d0b49001",
   "metadata": {},
   "outputs": [],
   "source": [
    "import torch.nn.functional as F"
   ]
  },
  {
   "cell_type": "markdown",
   "id": "1d409cf6",
   "metadata": {},
   "source": [
    "**卷积结果**"
   ]
  },
  {
   "cell_type": "code",
   "execution_count": 15,
   "id": "cd49abff",
   "metadata": {},
   "outputs": [
    {
     "data": {
      "text/plain": [
       "tensor([[[[10, 12, 12],\n",
       "          [18, 16, 16],\n",
       "          [13,  9,  3]]]])"
      ]
     },
     "execution_count": 15,
     "metadata": {},
     "output_type": "execute_result"
    }
   ],
   "source": [
    "output = F.conv2d(input,kernel,stride=1) # 步长为1\n",
    "output "
   ]
  },
  {
   "cell_type": "code",
   "execution_count": 16,
   "id": "53941b5a",
   "metadata": {},
   "outputs": [
    {
     "data": {
      "text/plain": [
       "tensor([[[[10, 12],\n",
       "          [13,  3]]]])"
      ]
     },
     "execution_count": 16,
     "metadata": {},
     "output_type": "execute_result"
    }
   ],
   "source": [
    "output2 = F.conv2d(input,kernel,stride=2) # 步长为2\n",
    "output2"
   ]
  },
  {
   "cell_type": "code",
   "execution_count": 17,
   "id": "b05a56dd",
   "metadata": {},
   "outputs": [
    {
     "data": {
      "text/plain": [
       "tensor([[[[ 1,  3,  4, 10,  8],\n",
       "          [ 5, 10, 12, 12,  6],\n",
       "          [ 7, 18, 16, 16,  8],\n",
       "          [11, 13,  9,  3,  4],\n",
       "          [14, 13,  9,  7,  4]]]])"
      ]
     },
     "execution_count": 17,
     "metadata": {},
     "output_type": "execute_result"
    }
   ],
   "source": [
    "output3 = F.conv2d(input,kernel,stride=1,padding=1) # 步长为1 # 周围填充一个像素 默认填充0\n",
    "output3"
   ]
  },
  {
   "cell_type": "markdown",
   "id": "9159f738",
   "metadata": {},
   "source": [
    "#### 卷积层"
   ]
  },
  {
   "cell_type": "code",
   "execution_count": 18,
   "id": "a180772a",
   "metadata": {},
   "outputs": [],
   "source": [
    "import torch\n",
    "import torchvision\n",
    "from torch.utils.data import DataLoader\n",
    "from torch.utils.tensorboard import SummaryWriter"
   ]
  },
  {
   "cell_type": "code",
   "execution_count": 19,
   "id": "682761a2",
   "metadata": {},
   "outputs": [
    {
     "name": "stdout",
     "output_type": "stream",
     "text": [
      "Files already downloaded and verified\n"
     ]
    }
   ],
   "source": [
    "dataset = torchvision.datasets.CIFAR10(\n",
    "    root = \"../../../datas\",\n",
    "    train = False,\n",
    "    download = True,\n",
    "    transform = torchvision.transforms.ToTensor()\n",
    ")"
   ]
  },
  {
   "cell_type": "code",
   "execution_count": 20,
   "id": "cbf57d00",
   "metadata": {},
   "outputs": [],
   "source": [
    "dataloader = DataLoader(dataset,batch_size=64)"
   ]
  },
  {
   "cell_type": "code",
   "execution_count": 21,
   "id": "e14af5cc",
   "metadata": {},
   "outputs": [],
   "source": [
    "from torch.nn import Conv2d\n",
    "class Model(torch.nn.Module):\n",
    "    def __init__(self):\n",
    "        super(Model,self).__init__()\n",
    "        self.conv1 = Conv2d(in_channels=3,out_channels=6,kernel_size=3,stride=1,padding=0)   # 第一层卷积\n",
    "        \n",
    "    def forward(self,x):\n",
    "        x = self.conv1(x)\n",
    "        return x"
   ]
  },
  {
   "cell_type": "code",
   "execution_count": 22,
   "id": "9cf8958c",
   "metadata": {},
   "outputs": [
    {
     "data": {
      "text/plain": [
       "Model(\n",
       "  (conv1): Conv2d(3, 6, kernel_size=(3, 3), stride=(1, 1))\n",
       ")"
      ]
     },
     "execution_count": 22,
     "metadata": {},
     "output_type": "execute_result"
    }
   ],
   "source": [
    "model = Model()\n",
    "model"
   ]
  },
  {
   "cell_type": "code",
   "execution_count": 23,
   "id": "eee5d480",
   "metadata": {},
   "outputs": [
    {
     "name": "stdout",
     "output_type": "stream",
     "text": [
      "卷积前： torch.Size([64, 3, 32, 32])\n",
      "卷积后： torch.Size([64, 6, 30, 30])\n",
      "卷积前： torch.Size([64, 3, 32, 32])\n",
      "卷积后： torch.Size([64, 6, 30, 30])\n",
      "卷积前： torch.Size([64, 3, 32, 32])\n",
      "卷积后： torch.Size([64, 6, 30, 30])\n",
      "卷积前： torch.Size([64, 3, 32, 32])\n",
      "卷积后： torch.Size([64, 6, 30, 30])\n",
      "卷积前： torch.Size([64, 3, 32, 32])\n",
      "卷积后： torch.Size([64, 6, 30, 30])\n",
      "卷积前： torch.Size([64, 3, 32, 32])\n",
      "卷积后： torch.Size([64, 6, 30, 30])\n",
      "卷积前： torch.Size([64, 3, 32, 32])\n",
      "卷积后： torch.Size([64, 6, 30, 30])\n",
      "卷积前： torch.Size([64, 3, 32, 32])\n",
      "卷积后： torch.Size([64, 6, 30, 30])\n",
      "卷积前： torch.Size([64, 3, 32, 32])\n",
      "卷积后： torch.Size([64, 6, 30, 30])\n",
      "卷积前： torch.Size([64, 3, 32, 32])\n",
      "卷积后： torch.Size([64, 6, 30, 30])\n",
      "卷积前： torch.Size([64, 3, 32, 32])\n",
      "卷积后： torch.Size([64, 6, 30, 30])\n",
      "卷积前： torch.Size([64, 3, 32, 32])\n",
      "卷积后： torch.Size([64, 6, 30, 30])\n",
      "卷积前： torch.Size([64, 3, 32, 32])\n",
      "卷积后： torch.Size([64, 6, 30, 30])\n",
      "卷积前： torch.Size([64, 3, 32, 32])\n",
      "卷积后： torch.Size([64, 6, 30, 30])\n",
      "卷积前： torch.Size([64, 3, 32, 32])\n",
      "卷积后： torch.Size([64, 6, 30, 30])\n",
      "卷积前： torch.Size([64, 3, 32, 32])\n",
      "卷积后： torch.Size([64, 6, 30, 30])\n",
      "卷积前： torch.Size([64, 3, 32, 32])\n",
      "卷积后： torch.Size([64, 6, 30, 30])\n",
      "卷积前： torch.Size([64, 3, 32, 32])\n",
      "卷积后： torch.Size([64, 6, 30, 30])\n",
      "卷积前： torch.Size([64, 3, 32, 32])\n",
      "卷积后： torch.Size([64, 6, 30, 30])\n",
      "卷积前： torch.Size([64, 3, 32, 32])\n",
      "卷积后： torch.Size([64, 6, 30, 30])\n",
      "卷积前： torch.Size([64, 3, 32, 32])\n",
      "卷积后： torch.Size([64, 6, 30, 30])\n",
      "卷积前： torch.Size([64, 3, 32, 32])\n",
      "卷积后： torch.Size([64, 6, 30, 30])\n",
      "卷积前： torch.Size([64, 3, 32, 32])\n",
      "卷积后： torch.Size([64, 6, 30, 30])\n",
      "卷积前： torch.Size([64, 3, 32, 32])\n",
      "卷积后： torch.Size([64, 6, 30, 30])\n",
      "卷积前： torch.Size([64, 3, 32, 32])\n",
      "卷积后： torch.Size([64, 6, 30, 30])\n",
      "卷积前： torch.Size([64, 3, 32, 32])\n",
      "卷积后： torch.Size([64, 6, 30, 30])\n",
      "卷积前： torch.Size([64, 3, 32, 32])\n",
      "卷积后： torch.Size([64, 6, 30, 30])\n",
      "卷积前： torch.Size([64, 3, 32, 32])\n",
      "卷积后： torch.Size([64, 6, 30, 30])\n",
      "卷积前： torch.Size([64, 3, 32, 32])\n",
      "卷积后： torch.Size([64, 6, 30, 30])\n",
      "卷积前： torch.Size([64, 3, 32, 32])\n",
      "卷积后： torch.Size([64, 6, 30, 30])\n",
      "卷积前： torch.Size([64, 3, 32, 32])\n",
      "卷积后： torch.Size([64, 6, 30, 30])\n",
      "卷积前： torch.Size([64, 3, 32, 32])\n",
      "卷积后： torch.Size([64, 6, 30, 30])\n",
      "卷积前： torch.Size([64, 3, 32, 32])\n",
      "卷积后： torch.Size([64, 6, 30, 30])\n",
      "卷积前： torch.Size([64, 3, 32, 32])\n",
      "卷积后： torch.Size([64, 6, 30, 30])\n",
      "卷积前： torch.Size([64, 3, 32, 32])\n",
      "卷积后： torch.Size([64, 6, 30, 30])\n",
      "卷积前： torch.Size([64, 3, 32, 32])\n",
      "卷积后： torch.Size([64, 6, 30, 30])\n",
      "卷积前： torch.Size([64, 3, 32, 32])\n",
      "卷积后： torch.Size([64, 6, 30, 30])\n",
      "卷积前： torch.Size([64, 3, 32, 32])\n",
      "卷积后： torch.Size([64, 6, 30, 30])\n",
      "卷积前： torch.Size([64, 3, 32, 32])\n",
      "卷积后： torch.Size([64, 6, 30, 30])\n",
      "卷积前： torch.Size([64, 3, 32, 32])\n",
      "卷积后： torch.Size([64, 6, 30, 30])\n",
      "卷积前： torch.Size([64, 3, 32, 32])\n",
      "卷积后： torch.Size([64, 6, 30, 30])\n",
      "卷积前： torch.Size([64, 3, 32, 32])\n",
      "卷积后： torch.Size([64, 6, 30, 30])\n",
      "卷积前： torch.Size([64, 3, 32, 32])\n",
      "卷积后： torch.Size([64, 6, 30, 30])\n",
      "卷积前： torch.Size([64, 3, 32, 32])\n",
      "卷积后： torch.Size([64, 6, 30, 30])\n",
      "卷积前： torch.Size([64, 3, 32, 32])\n",
      "卷积后： torch.Size([64, 6, 30, 30])\n",
      "卷积前： torch.Size([64, 3, 32, 32])\n",
      "卷积后： torch.Size([64, 6, 30, 30])\n",
      "卷积前： torch.Size([64, 3, 32, 32])\n",
      "卷积后： torch.Size([64, 6, 30, 30])\n",
      "卷积前： torch.Size([64, 3, 32, 32])\n",
      "卷积后： torch.Size([64, 6, 30, 30])\n",
      "卷积前： torch.Size([64, 3, 32, 32])\n",
      "卷积后： torch.Size([64, 6, 30, 30])\n",
      "卷积前： torch.Size([64, 3, 32, 32])\n",
      "卷积后： torch.Size([64, 6, 30, 30])\n",
      "卷积前： torch.Size([64, 3, 32, 32])\n",
      "卷积后： torch.Size([64, 6, 30, 30])\n",
      "卷积前： torch.Size([64, 3, 32, 32])\n",
      "卷积后： torch.Size([64, 6, 30, 30])\n",
      "卷积前： torch.Size([64, 3, 32, 32])\n",
      "卷积后： torch.Size([64, 6, 30, 30])\n",
      "卷积前： torch.Size([64, 3, 32, 32])\n",
      "卷积后： torch.Size([64, 6, 30, 30])\n",
      "卷积前： torch.Size([64, 3, 32, 32])\n",
      "卷积后： torch.Size([64, 6, 30, 30])\n",
      "卷积前： torch.Size([64, 3, 32, 32])\n",
      "卷积后： torch.Size([64, 6, 30, 30])\n",
      "卷积前： torch.Size([64, 3, 32, 32])\n",
      "卷积后： torch.Size([64, 6, 30, 30])\n",
      "卷积前： torch.Size([64, 3, 32, 32])\n",
      "卷积后： torch.Size([64, 6, 30, 30])\n",
      "卷积前： torch.Size([64, 3, 32, 32])\n",
      "卷积后： torch.Size([64, 6, 30, 30])\n",
      "卷积前： torch.Size([64, 3, 32, 32])\n",
      "卷积后： torch.Size([64, 6, 30, 30])\n",
      "卷积前： torch.Size([64, 3, 32, 32])\n",
      "卷积后： torch.Size([64, 6, 30, 30])\n",
      "卷积前： torch.Size([64, 3, 32, 32])\n",
      "卷积后： torch.Size([64, 6, 30, 30])\n",
      "卷积前： torch.Size([64, 3, 32, 32])\n",
      "卷积后： torch.Size([64, 6, 30, 30])\n",
      "卷积前： torch.Size([64, 3, 32, 32])\n",
      "卷积后： torch.Size([64, 6, 30, 30])\n",
      "卷积前： torch.Size([64, 3, 32, 32])\n",
      "卷积后： torch.Size([64, 6, 30, 30])\n",
      "卷积前： torch.Size([64, 3, 32, 32])\n",
      "卷积后： torch.Size([64, 6, 30, 30])\n",
      "卷积前： torch.Size([64, 3, 32, 32])\n",
      "卷积后： torch.Size([64, 6, 30, 30])\n",
      "卷积前： torch.Size([64, 3, 32, 32])\n",
      "卷积后： torch.Size([64, 6, 30, 30])\n",
      "卷积前： torch.Size([64, 3, 32, 32])\n",
      "卷积后： torch.Size([64, 6, 30, 30])\n",
      "卷积前： torch.Size([64, 3, 32, 32])\n",
      "卷积后： torch.Size([64, 6, 30, 30])\n",
      "卷积前： torch.Size([64, 3, 32, 32])\n",
      "卷积后： torch.Size([64, 6, 30, 30])\n",
      "卷积前： torch.Size([64, 3, 32, 32])\n",
      "卷积后： torch.Size([64, 6, 30, 30])\n",
      "卷积前： torch.Size([64, 3, 32, 32])\n",
      "卷积后： torch.Size([64, 6, 30, 30])\n",
      "卷积前： torch.Size([64, 3, 32, 32])\n",
      "卷积后： torch.Size([64, 6, 30, 30])\n",
      "卷积前： torch.Size([64, 3, 32, 32])\n",
      "卷积后： torch.Size([64, 6, 30, 30])\n",
      "卷积前： torch.Size([64, 3, 32, 32])\n",
      "卷积后： torch.Size([64, 6, 30, 30])\n",
      "卷积前： torch.Size([64, 3, 32, 32])\n",
      "卷积后： torch.Size([64, 6, 30, 30])\n",
      "卷积前： torch.Size([64, 3, 32, 32])\n",
      "卷积后： torch.Size([64, 6, 30, 30])\n",
      "卷积前： torch.Size([64, 3, 32, 32])\n",
      "卷积后： torch.Size([64, 6, 30, 30])\n",
      "卷积前： torch.Size([64, 3, 32, 32])\n",
      "卷积后： torch.Size([64, 6, 30, 30])\n",
      "卷积前： torch.Size([64, 3, 32, 32])\n",
      "卷积后： torch.Size([64, 6, 30, 30])\n",
      "卷积前： torch.Size([64, 3, 32, 32])\n",
      "卷积后： torch.Size([64, 6, 30, 30])\n",
      "卷积前： torch.Size([64, 3, 32, 32])\n",
      "卷积后： torch.Size([64, 6, 30, 30])\n",
      "卷积前： torch.Size([64, 3, 32, 32])\n",
      "卷积后： torch.Size([64, 6, 30, 30])\n",
      "卷积前： torch.Size([64, 3, 32, 32])\n",
      "卷积后： torch.Size([64, 6, 30, 30])\n",
      "卷积前： torch.Size([64, 3, 32, 32])\n",
      "卷积后： torch.Size([64, 6, 30, 30])\n",
      "卷积前： torch.Size([64, 3, 32, 32])\n",
      "卷积后： torch.Size([64, 6, 30, 30])\n",
      "卷积前： torch.Size([64, 3, 32, 32])\n",
      "卷积后： torch.Size([64, 6, 30, 30])\n",
      "卷积前： torch.Size([64, 3, 32, 32])\n",
      "卷积后： torch.Size([64, 6, 30, 30])\n",
      "卷积前： torch.Size([64, 3, 32, 32])\n",
      "卷积后： torch.Size([64, 6, 30, 30])\n",
      "卷积前： torch.Size([64, 3, 32, 32])\n",
      "卷积后： torch.Size([64, 6, 30, 30])\n",
      "卷积前： torch.Size([64, 3, 32, 32])\n",
      "卷积后： torch.Size([64, 6, 30, 30])\n",
      "卷积前： torch.Size([64, 3, 32, 32])\n",
      "卷积后： torch.Size([64, 6, 30, 30])\n",
      "卷积前： torch.Size([64, 3, 32, 32])\n",
      "卷积后： torch.Size([64, 6, 30, 30])\n",
      "卷积前： torch.Size([64, 3, 32, 32])\n",
      "卷积后： torch.Size([64, 6, 30, 30])\n",
      "卷积前： torch.Size([64, 3, 32, 32])\n",
      "卷积后： torch.Size([64, 6, 30, 30])\n",
      "卷积前： torch.Size([64, 3, 32, 32])\n",
      "卷积后： torch.Size([64, 6, 30, 30])\n",
      "卷积前： torch.Size([64, 3, 32, 32])\n",
      "卷积后： torch.Size([64, 6, 30, 30])\n",
      "卷积前： torch.Size([64, 3, 32, 32])\n",
      "卷积后： torch.Size([64, 6, 30, 30])\n",
      "卷积前： torch.Size([64, 3, 32, 32])\n",
      "卷积后： torch.Size([64, 6, 30, 30])\n",
      "卷积前： torch.Size([64, 3, 32, 32])\n",
      "卷积后： torch.Size([64, 6, 30, 30])\n",
      "卷积前： torch.Size([64, 3, 32, 32])\n",
      "卷积后： torch.Size([64, 6, 30, 30])\n",
      "卷积前： torch.Size([64, 3, 32, 32])\n",
      "卷积后： torch.Size([64, 6, 30, 30])\n",
      "卷积前： torch.Size([64, 3, 32, 32])\n",
      "卷积后： torch.Size([64, 6, 30, 30])\n",
      "卷积前： torch.Size([64, 3, 32, 32])\n",
      "卷积后： torch.Size([64, 6, 30, 30])\n",
      "卷积前： torch.Size([64, 3, 32, 32])\n",
      "卷积后： torch.Size([64, 6, 30, 30])\n",
      "卷积前： torch.Size([64, 3, 32, 32])\n",
      "卷积后： torch.Size([64, 6, 30, 30])\n",
      "卷积前： torch.Size([64, 3, 32, 32])\n",
      "卷积后： torch.Size([64, 6, 30, 30])\n",
      "卷积前： torch.Size([64, 3, 32, 32])\n",
      "卷积后： torch.Size([64, 6, 30, 30])\n",
      "卷积前： torch.Size([64, 3, 32, 32])\n",
      "卷积后： torch.Size([64, 6, 30, 30])\n",
      "卷积前： torch.Size([64, 3, 32, 32])\n",
      "卷积后： torch.Size([64, 6, 30, 30])\n",
      "卷积前： torch.Size([64, 3, 32, 32])\n",
      "卷积后： torch.Size([64, 6, 30, 30])\n",
      "卷积前： torch.Size([64, 3, 32, 32])\n",
      "卷积后： torch.Size([64, 6, 30, 30])\n",
      "卷积前： torch.Size([64, 3, 32, 32])\n",
      "卷积后： torch.Size([64, 6, 30, 30])\n",
      "卷积前： torch.Size([64, 3, 32, 32])\n",
      "卷积后： torch.Size([64, 6, 30, 30])\n",
      "卷积前： torch.Size([64, 3, 32, 32])\n",
      "卷积后： torch.Size([64, 6, 30, 30])\n",
      "卷积前： torch.Size([64, 3, 32, 32])\n",
      "卷积后： torch.Size([64, 6, 30, 30])\n",
      "卷积前： torch.Size([64, 3, 32, 32])\n",
      "卷积后： torch.Size([64, 6, 30, 30])\n",
      "卷积前： torch.Size([64, 3, 32, 32])\n",
      "卷积后： torch.Size([64, 6, 30, 30])\n",
      "卷积前： torch.Size([64, 3, 32, 32])\n",
      "卷积后： torch.Size([64, 6, 30, 30])\n",
      "卷积前： torch.Size([64, 3, 32, 32])\n",
      "卷积后： torch.Size([64, 6, 30, 30])\n",
      "卷积前： torch.Size([64, 3, 32, 32])\n",
      "卷积后： torch.Size([64, 6, 30, 30])\n",
      "卷积前： torch.Size([64, 3, 32, 32])\n",
      "卷积后： torch.Size([64, 6, 30, 30])\n",
      "卷积前： torch.Size([64, 3, 32, 32])\n",
      "卷积后： torch.Size([64, 6, 30, 30])\n",
      "卷积前： torch.Size([64, 3, 32, 32])\n",
      "卷积后： torch.Size([64, 6, 30, 30])\n",
      "卷积前： torch.Size([64, 3, 32, 32])\n",
      "卷积后： torch.Size([64, 6, 30, 30])\n",
      "卷积前： torch.Size([64, 3, 32, 32])\n",
      "卷积后： torch.Size([64, 6, 30, 30])\n",
      "卷积前： torch.Size([64, 3, 32, 32])\n",
      "卷积后： torch.Size([64, 6, 30, 30])\n",
      "卷积前： torch.Size([64, 3, 32, 32])\n",
      "卷积后： torch.Size([64, 6, 30, 30])\n",
      "卷积前： torch.Size([64, 3, 32, 32])\n",
      "卷积后： torch.Size([64, 6, 30, 30])\n",
      "卷积前： torch.Size([64, 3, 32, 32])\n",
      "卷积后： torch.Size([64, 6, 30, 30])\n",
      "卷积前： torch.Size([64, 3, 32, 32])\n",
      "卷积后： torch.Size([64, 6, 30, 30])\n",
      "卷积前： torch.Size([64, 3, 32, 32])\n",
      "卷积后： torch.Size([64, 6, 30, 30])\n",
      "卷积前： torch.Size([64, 3, 32, 32])\n",
      "卷积后： torch.Size([64, 6, 30, 30])\n",
      "卷积前： torch.Size([64, 3, 32, 32])\n",
      "卷积后： torch.Size([64, 6, 30, 30])\n",
      "卷积前： torch.Size([64, 3, 32, 32])\n",
      "卷积后： torch.Size([64, 6, 30, 30])\n",
      "卷积前： torch.Size([64, 3, 32, 32])\n",
      "卷积后： torch.Size([64, 6, 30, 30])\n",
      "卷积前： torch.Size([64, 3, 32, 32])\n",
      "卷积后： torch.Size([64, 6, 30, 30])\n",
      "卷积前： torch.Size([64, 3, 32, 32])\n",
      "卷积后： torch.Size([64, 6, 30, 30])\n",
      "卷积前： torch.Size([64, 3, 32, 32])\n",
      "卷积后： torch.Size([64, 6, 30, 30])\n",
      "卷积前： torch.Size([64, 3, 32, 32])\n",
      "卷积后： torch.Size([64, 6, 30, 30])\n",
      "卷积前： torch.Size([64, 3, 32, 32])\n",
      "卷积后： torch.Size([64, 6, 30, 30])\n",
      "卷积前： torch.Size([64, 3, 32, 32])\n",
      "卷积后： torch.Size([64, 6, 30, 30])\n",
      "卷积前： torch.Size([64, 3, 32, 32])\n",
      "卷积后： torch.Size([64, 6, 30, 30])\n",
      "卷积前： torch.Size([64, 3, 32, 32])\n",
      "卷积后： torch.Size([64, 6, 30, 30])\n",
      "卷积前： torch.Size([64, 3, 32, 32])\n",
      "卷积后： torch.Size([64, 6, 30, 30])\n",
      "卷积前： torch.Size([64, 3, 32, 32])\n",
      "卷积后： torch.Size([64, 6, 30, 30])\n",
      "卷积前： torch.Size([64, 3, 32, 32])\n",
      "卷积后： torch.Size([64, 6, 30, 30])\n",
      "卷积前： torch.Size([64, 3, 32, 32])\n",
      "卷积后： torch.Size([64, 6, 30, 30])\n",
      "卷积前： torch.Size([64, 3, 32, 32])\n",
      "卷积后： torch.Size([64, 6, 30, 30])\n",
      "卷积前： torch.Size([64, 3, 32, 32])\n",
      "卷积后： torch.Size([64, 6, 30, 30])\n",
      "卷积前： torch.Size([64, 3, 32, 32])\n",
      "卷积后： torch.Size([64, 6, 30, 30])\n",
      "卷积前： torch.Size([64, 3, 32, 32])\n",
      "卷积后： torch.Size([64, 6, 30, 30])\n",
      "卷积前： torch.Size([64, 3, 32, 32])\n",
      "卷积后： torch.Size([64, 6, 30, 30])\n",
      "卷积前： torch.Size([64, 3, 32, 32])\n",
      "卷积后： torch.Size([64, 6, 30, 30])\n",
      "卷积前： torch.Size([64, 3, 32, 32])\n",
      "卷积后： torch.Size([64, 6, 30, 30])\n",
      "卷积前： torch.Size([16, 3, 32, 32])\n",
      "卷积后： torch.Size([16, 6, 30, 30])\n"
     ]
    }
   ],
   "source": [
    "# writer = SummaryWriter(\"./卷积层_logs\")\n",
    "step = 1\n",
    "for data in dataloader:\n",
    "    imgs,targets = data\n",
    "    output = model(imgs)\n",
    "    print(\"卷积前：\",imgs.shape)\n",
    "    print(\"卷积后：\",output.shape)\n",
    "    \n",
    "    output = torch.reshape(output,(-1,3,30,30))\n",
    "    \n",
    "    # writer.add_images(\"input\",imgs,step)\n",
    "    # writer.add_images(\"output\",output,step)\n",
    "    step+=1\n",
    "    \n"
   ]
  }
 ],
 "metadata": {
  "kernelspec": {
   "display_name": "Python 3.8.0 ('AI')",
   "language": "python",
   "name": "python3"
  },
  "language_info": {
   "codemirror_mode": {
    "name": "ipython",
    "version": 3
   },
   "file_extension": ".py",
   "mimetype": "text/x-python",
   "name": "python",
   "nbconvert_exporter": "python",
   "pygments_lexer": "ipython3",
   "version": "3.8.0"
  },
  "vscode": {
   "interpreter": {
    "hash": "1fc88a04995420d2df0799a6ef2676002003e21a0dcb473869432b6fbf2056bb"
   }
  }
 },
 "nbformat": 4,
 "nbformat_minor": 5
}
