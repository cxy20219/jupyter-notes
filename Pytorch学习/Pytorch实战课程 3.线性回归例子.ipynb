{
 "cells": [
  {
   "cell_type": "markdown",
   "id": "0fffe37c",
   "metadata": {},
   "source": [
    "# 线性回归模型"
   ]
  },
  {
   "cell_type": "markdown",
   "id": "0f4e95b1",
   "metadata": {},
   "source": [
    "构造一组输入数据X和其对应的标签y"
   ]
  },
  {
   "cell_type": "code",
   "execution_count": 13,
   "id": "a37df164",
   "metadata": {},
   "outputs": [],
   "source": [
    "import numpy"
   ]
  },
  {
   "cell_type": "markdown",
   "id": "3db62548",
   "metadata": {},
   "source": [
    "numpy里面**reshape**使用\n",
    "\n",
    "`np.arange(16).reshape(2,8) #生成16个自然数，以2行8列的形式显示\n",
    "#Out: # array([[ 0,  1,  2,  3,  4,  5,  6,  7],\n",
    "       [ 8,  9, 10, 11, 12, 13, 14, 15]])`"
   ]
  },
  {
   "cell_type": "code",
   "execution_count": 24,
   "id": "ceaf9154",
   "metadata": {},
   "outputs": [
    {
     "name": "stdout",
     "output_type": "stream",
     "text": [
      "[0, 1, 2, 3, 4, 5, 6, 7, 8, 9, 10]\n",
      "[ 0.  1.  2.  3.  4.  5.  6.  7.  8.  9. 10.]\n",
      "(11,)\n",
      "[[ 0.]\n",
      " [ 1.]\n",
      " [ 2.]\n",
      " [ 3.]\n",
      " [ 4.]\n",
      " [ 5.]\n",
      " [ 6.]\n",
      " [ 7.]\n",
      " [ 8.]\n",
      " [ 9.]\n",
      " [10.]]\n"
     ]
    },
    {
     "data": {
      "text/plain": [
       "(11, 1)"
      ]
     },
     "execution_count": 24,
     "metadata": {},
     "output_type": "execute_result"
    }
   ],
   "source": [
    "\n",
    "x_values=[i for i in range(11)]\n",
    "print(x_values)\n",
    "x_train=numpy.array(x_values,dtype=numpy.float32)\n",
    "print(x_train)\n",
    "print(x_train.shape)\n",
    "x_train=x_train.reshape(-1,1)\n",
    "print(x_train)\n",
    "x_train.shape"
   ]
  },
  {
   "cell_type": "code",
   "execution_count": 26,
   "id": "e1b26c42",
   "metadata": {},
   "outputs": [
    {
     "name": "stdout",
     "output_type": "stream",
     "text": [
      "[1, 3, 5, 7, 9, 11, 13, 15, 17, 19, 21]\n",
      "[ 1.  3.  5.  7.  9. 11. 13. 15. 17. 19. 21.]\n",
      "(11,)\n",
      "[[ 1.]\n",
      " [ 3.]\n",
      " [ 5.]\n",
      " [ 7.]\n",
      " [ 9.]\n",
      " [11.]\n",
      " [13.]\n",
      " [15.]\n",
      " [17.]\n",
      " [19.]\n",
      " [21.]]\n"
     ]
    },
    {
     "data": {
      "text/plain": [
       "(11, 1)"
      ]
     },
     "execution_count": 26,
     "metadata": {},
     "output_type": "execute_result"
    }
   ],
   "source": [
    "\n",
    "y_values=[2*i+1 for i in x_values]\n",
    "print(y_values)\n",
    "y_train=numpy.array(y_values,dtype=numpy.float32)\n",
    "print(y_train)\n",
    "print(y_train.shape)\n",
    "y_train=y_train.reshape(-1,1)\n",
    "print(y_train)\n",
    "y_train.shape"
   ]
  },
  {
   "cell_type": "code",
   "execution_count": 15,
   "id": "36c91e3d",
   "metadata": {},
   "outputs": [],
   "source": [
    "import torch\n",
    "import torch.nn as nn"
   ]
  },
  {
   "cell_type": "markdown",
   "id": "34b66757",
   "metadata": {},
   "source": [
    "## 线性回归模型\n",
    "*子类定义了构造函数父类的构造函数不会调用，如果要调用父类构造函数  需要使用super的方法调用\n",
    "*\n",
    "* 线性回归是一个不加激活函数的全连接层"
   ]
  },
  {
   "cell_type": "code",
   "execution_count": 48,
   "id": "d9c1525d",
   "metadata": {},
   "outputs": [],
   "source": [
    "class LinearRegressionMode(nn.Module):\n",
    "    def __init__(self,input_dim,output_dim):\n",
    "        super(LinearRegressionMode,self).__init__()\n",
    "        self.linear=nn.Linear(input_dim,output_dim)\n",
    "    def forward(self,x):\n",
    "        out=self.linear(x)\n",
    "        return out"
   ]
  },
  {
   "cell_type": "code",
   "execution_count": 49,
   "id": "a19328d5",
   "metadata": {},
   "outputs": [
    {
     "data": {
      "text/plain": [
       "LinearRegressionMode(\n",
       "  (linear): Linear(in_features=1, out_features=1, bias=True)\n",
       ")"
      ]
     },
     "execution_count": 49,
     "metadata": {},
     "output_type": "execute_result"
    }
   ],
   "source": [
    "input_dim=1\n",
    "output_dim=1\n",
    "model=LinearRegressionMode(input_dim,output_dim)\n",
    "model"
   ]
  },
  {
   "cell_type": "markdown",
   "id": "5b52f97d",
   "metadata": {},
   "source": [
    "learning rate\n",
    "学习率较小时，收敛到极值的速度较慢。\n",
    "学习率较大时，容易在搜索过程中发生震荡。"
   ]
  },
  {
   "cell_type": "code",
   "execution_count": 50,
   "id": "9f83157f",
   "metadata": {},
   "outputs": [],
   "source": [
    "#训练次数\n",
    "epochs=1000\n",
    "learning_rate=0.01\n",
    "optimizer =torch.optim.SGD(model.parameters(),lr=learning_rate)\n",
    "criterion=nn.MSELoss()"
   ]
  },
  {
   "cell_type": "markdown",
   "id": "1675a946",
   "metadata": {},
   "source": [
    "训练模型"
   ]
  },
  {
   "cell_type": "code",
   "execution_count": 51,
   "id": "b802e56e",
   "metadata": {},
   "outputs": [
    {
     "name": "stdout",
     "output_type": "stream",
     "text": [
      "epoch50,loss0.24509991705417633\n",
      "epoch100,loss0.13979583978652954\n",
      "epoch150,loss0.07973436266183853\n",
      "epoch200,loss0.04547741636633873\n",
      "epoch250,loss0.02593870274722576\n",
      "epoch300,loss0.014794432558119297\n",
      "epoch350,loss0.008438210934400558\n",
      "epoch400,loss0.004812836181372404\n",
      "epoch450,loss0.0027450702618807554\n",
      "epoch500,loss0.001565694808959961\n",
      "epoch550,loss0.0008930069743655622\n",
      "epoch600,loss0.0005093320505693555\n",
      "epoch650,loss0.0002905012806877494\n",
      "epoch700,loss0.0001656898675719276\n",
      "epoch750,loss9.450827928958461e-05\n",
      "epoch800,loss5.39022839802783e-05\n",
      "epoch850,loss3.074334017583169e-05\n",
      "epoch900,loss1.7534242942929268e-05\n",
      "epoch950,loss9.999141184380278e-06\n",
      "epoch1000,loss5.704422164853895e-06\n"
     ]
    }
   ],
   "source": [
    "for epoch in range(epochs):\n",
    "    epoch +=1\n",
    "    #将数据转化为tensor格式\n",
    "    inputs=torch.from_numpy(x_train)\n",
    "    labels=torch.from_numpy(y_train)\n",
    "    \n",
    "    #梯度需要清零每一次迭代 否则会累加\n",
    "    optimizer.zero_grad()\n",
    "    \n",
    "    #向前传播\n",
    "    outputs=model(inputs)\n",
    "    \n",
    "    #计算损失\n",
    "    loss=criterion(outputs,labels)\n",
    "    \n",
    "    #反向传播\n",
    "    loss.backward()\n",
    "    \n",
    "    #更新权重参数\n",
    "    optimizer.step()\n",
    "    if epoch%50==0:\n",
    "        print(\"epoch{},loss{}\".format(epoch,loss.item()))\n",
    "    "
   ]
  },
  {
   "cell_type": "markdown",
   "id": "818cc7bb",
   "metadata": {},
   "source": [
    "## 模型的保存与读取"
   ]
  },
  {
   "cell_type": "code",
   "execution_count": 56,
   "id": "02067ca8",
   "metadata": {},
   "outputs": [],
   "source": [
    "#保存\n",
    "torch.save(model.state_dict(),'model.pkl')"
   ]
  },
  {
   "cell_type": "code",
   "execution_count": 59,
   "id": "067c03c9",
   "metadata": {},
   "outputs": [
    {
     "data": {
      "text/plain": [
       "<All keys matched successfully>"
      ]
     },
     "execution_count": 59,
     "metadata": {},
     "output_type": "execute_result"
    }
   ],
   "source": [
    "#读取\n",
    "model.load_state_dict(torch.load('model.pkl'))"
   ]
  },
  {
   "cell_type": "markdown",
   "id": "1d3d1195",
   "metadata": {},
   "source": [
    "### 使用GPU训练\n",
    "* 把数据与模型传到cuda里面"
   ]
  },
  {
   "cell_type": "code",
   "execution_count": 62,
   "id": "4dd33b51",
   "metadata": {},
   "outputs": [],
   "source": [
    "# 1.模型传入\n",
    "device=torch.device(\"cuda:0\" if torch.cuda.is_available() else \"cpu\")\n",
    "#print(device)\n",
    "model.to(device)\n",
    "# 2.数据传入\n",
    "inputs=torch.from_numpy(x_train).to(device)\n",
    "labels=torch.from_numpy(y_train).to(device)"
   ]
  }
 ],
 "metadata": {
  "kernelspec": {
   "display_name": "Python 3 (ipykernel)",
   "language": "python",
   "name": "python3"
  },
  "language_info": {
   "codemirror_mode": {
    "name": "ipython",
    "version": 3
   },
   "file_extension": ".py",
   "mimetype": "text/x-python",
   "name": "python",
   "nbconvert_exporter": "python",
   "pygments_lexer": "ipython3",
   "version": "3.9.7"
  }
 },
 "nbformat": 4,
 "nbformat_minor": 5
}
