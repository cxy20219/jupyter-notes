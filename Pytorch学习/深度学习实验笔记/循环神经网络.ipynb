{
 "cells": [
  {
   "cell_type": "markdown",
   "metadata": {},
   "source": [
    "## 循环神经网络(RNN)\n",
    "循环神经网络主要用于解决分类问题，虽然提取图片特征没有卷积神经网络强大,但是也可以用于解决分类问题"
   ]
  },
  {
   "cell_type": "markdown",
   "metadata": {},
   "source": [
    "### 网络模型"
   ]
  },
  {
   "cell_type": "code",
   "execution_count": 1,
   "metadata": {},
   "outputs": [],
   "source": [
    "from torch import nn\n",
    "class Rnn(nn.Module):\n",
    "    def __init__(self):\n",
    "        super(Rnn,self).__init__()\n",
    "        self.rnn = nn.RNN(\n",
    "            # 指定输入数据的特征数\n",
    "            input_size = 28,\n",
    "\n",
    "            # 指定最后隐藏层的输出特征数\n",
    "            hidden_size = 128,\n",
    "\n",
    "            # 指定循环层堆叠的数量，默认为1\n",
    "            num_layers = 1,\n",
    "\n",
    "            # 默认输出维度(seq,batch,feature) seq序列长度 batch数据批次数量 feature数据输入输出特证数、\n",
    "            # 为True时对应输出(batch,seq,feature)\n",
    "            batch_first = True\n",
    "        )\n",
    "        self.output = nn.Linear(128,10)\n",
    "\n",
    "    def forward(self,x):\n",
    "        # H0 默认初始值为0 所以传入None\n",
    "        output,_ = self.rnn(x,None)\n",
    "\n",
    "        # 分类问题，所以提取最后一个序列结果作为输出\n",
    "        output = self.output(output[:,-1,:])\n",
    "\n",
    "        return output\n",
    "\n"
   ]
  },
  {
   "cell_type": "markdown",
   "metadata": {},
   "source": [
    "### 加载数据"
   ]
  },
  {
   "cell_type": "code",
   "execution_count": 2,
   "metadata": {},
   "outputs": [],
   "source": [
    "import torchvision\n",
    "train_data = torchvision.datasets.MNIST(\n",
    "    root = \"../../../datas/\",\n",
    "    train = True,\n",
    "    download = True,\n",
    "    transform = torchvision.transforms.Compose([\n",
    "        torchvision.transforms.ToTensor(),\n",
    "        torchvision.transforms.Normalize(mean = [0.5],std = [0.5]),\n",
    "    ])\n",
    "\n",
    ") "
   ]
  },
  {
   "cell_type": "code",
   "execution_count": 3,
   "metadata": {},
   "outputs": [],
   "source": [
    "test_data = torchvision.datasets.MNIST(\n",
    "    root = \"../../../datas/\",\n",
    "    train = False,\n",
    "    download = True,\n",
    "    transform = torchvision.transforms.Compose([\n",
    "        torchvision.transforms.ToTensor(),\n",
    "        torchvision.transforms.Normalize(mean = [0.5],std = [0.5]),\n",
    "    ])\n",
    ") "
   ]
  },
  {
   "cell_type": "code",
   "execution_count": 4,
   "metadata": {},
   "outputs": [
    {
     "data": {
      "text/plain": [
       "60000"
      ]
     },
     "execution_count": 4,
     "metadata": {},
     "output_type": "execute_result"
    }
   ],
   "source": [
    "train_data.__len__()"
   ]
  },
  {
   "cell_type": "code",
   "execution_count": 5,
   "metadata": {},
   "outputs": [
    {
     "data": {
      "text/plain": [
       "10000"
      ]
     },
     "execution_count": 5,
     "metadata": {},
     "output_type": "execute_result"
    }
   ],
   "source": [
    "test_data.__len__()"
   ]
  },
  {
   "cell_type": "code",
   "execution_count": 6,
   "metadata": {},
   "outputs": [
    {
     "data": {
      "text/plain": [
       "torch.Size([1, 28, 28])"
      ]
     },
     "execution_count": 6,
     "metadata": {},
     "output_type": "execute_result"
    }
   ],
   "source": [
    "img , target = train_data[0]\n",
    "img.shape"
   ]
  },
  {
   "cell_type": "markdown",
   "metadata": {},
   "source": [
    "### 损失函数与优化器"
   ]
  },
  {
   "cell_type": "code",
   "execution_count": 7,
   "metadata": {},
   "outputs": [],
   "source": [
    "from pyexpat import model\n",
    "import torch\n",
    "device = torch.device(\"cuda\" if torch.cuda.is_available() else \"cpu\")\n",
    "\n",
    "model = Rnn()\n",
    "model.to(device)\n",
    "\n",
    "loss_fn = nn.CrossEntropyLoss()\n",
    "loss_fn.to(device)\n",
    "\n",
    "optimizer = torch.optim.Adagrad(model.parameters(),lr=0.1)"
   ]
  },
  {
   "cell_type": "markdown",
   "metadata": {},
   "source": [
    "### 超参数"
   ]
  },
  {
   "cell_type": "code",
   "execution_count": 8,
   "metadata": {},
   "outputs": [],
   "source": [
    "epoch = 30\n",
    "test_data_size = len(test_data)"
   ]
  },
  {
   "cell_type": "markdown",
   "metadata": {},
   "source": [
    "### 训练"
   ]
  },
  {
   "cell_type": "code",
   "execution_count": 9,
   "metadata": {},
   "outputs": [
    {
     "name": "stdout",
     "output_type": "stream",
     "text": [
      "-------------第1轮训练开始------------\n",
      "训练轮数：1,loss:2.337773561477661\n",
      "整体测试集上的loss:367.30159282684326\n",
      "整体测试集上的正确率:0.0957999974489212\n",
      "-------------第2轮训练开始------------\n",
      "训练轮数：2,loss:2.338036298751831\n",
      "整体测试集上的loss:367.112202167511\n",
      "整体测试集上的正确率:0.0982000008225441\n",
      "-------------第3轮训练开始------------\n",
      "训练轮数：3,loss:2.3104395866394043\n",
      "整体测试集上的loss:365.6539719104767\n",
      "整体测试集上的正确率:0.12029999494552612\n",
      "-------------第4轮训练开始------------\n",
      "训练轮数：4,loss:2.333613634109497\n",
      "整体测试集上的loss:364.7496325969696\n",
      "整体测试集上的正确率:0.0982000008225441\n",
      "-------------第5轮训练开始------------\n",
      "训练轮数：5,loss:2.3570504188537598\n",
      "整体测试集上的loss:365.20030903816223\n",
      "整体测试集上的正确率:0.11349999904632568\n",
      "-------------第6轮训练开始------------\n",
      "训练轮数：6,loss:2.310353994369507\n",
      "整体测试集上的loss:363.5524830818176\n",
      "整体测试集上的正确率:0.09589999914169312\n",
      "-------------第7轮训练开始------------\n",
      "训练轮数：7,loss:1.5788441896438599\n",
      "整体测试集上的loss:223.84800696372986\n",
      "整体测试集上的正确率:0.4569000005722046\n",
      "-------------第8轮训练开始------------\n",
      "训练轮数：8,loss:1.443682312965393\n",
      "整体测试集上的loss:225.0246695280075\n",
      "整体测试集上的正确率:0.4161999821662903\n",
      "-------------第9轮训练开始------------\n",
      "训练轮数：9,loss:1.354386806488037\n",
      "整体测试集上的loss:206.23945432901382\n",
      "整体测试集上的正确率:0.4885999858379364\n",
      "-------------第10轮训练开始------------\n",
      "训练轮数：10,loss:0.9143297076225281\n",
      "整体测试集上的loss:172.13815730810165\n",
      "整体测试集上的正确率:0.6240000128746033\n",
      "-------------第11轮训练开始------------\n",
      "训练轮数：11,loss:1.2504866123199463\n",
      "整体测试集上的loss:209.7897077202797\n",
      "整体测试集上的正确率:0.5246999859809875\n",
      "-------------第12轮训练开始------------\n",
      "训练轮数：12,loss:1.3259036540985107\n",
      "整体测试集上的loss:193.66118454933167\n",
      "整体测试集上的正确率:0.5569999814033508\n",
      "-------------第13轮训练开始------------\n",
      "训练轮数：13,loss:1.0974804162979126\n",
      "整体测试集上的loss:184.6152446269989\n",
      "整体测试集上的正确率:0.5925999879837036\n",
      "-------------第14轮训练开始------------\n",
      "训练轮数：14,loss:0.999736487865448\n",
      "整体测试集上的loss:153.5385022163391\n",
      "整体测试集上的正确率:0.6611999869346619\n",
      "-------------第15轮训练开始------------\n",
      "训练轮数：15,loss:0.9197975397109985\n",
      "整体测试集上的loss:143.56905084848404\n",
      "整体测试集上的正确率:0.6840999722480774\n",
      "-------------第16轮训练开始------------\n",
      "训练轮数：16,loss:1.106897234916687\n",
      "整体测试集上的loss:142.1780248582363\n",
      "整体测试集上的正确率:0.6886000037193298\n",
      "-------------第17轮训练开始------------\n",
      "训练轮数：17,loss:0.6619410514831543\n",
      "整体测试集上的loss:136.59405028820038\n",
      "整体测试集上的正确率:0.7044000029563904\n",
      "-------------第18轮训练开始------------\n",
      "训练轮数：18,loss:1.1613109111785889\n",
      "整体测试集上的loss:150.42270398139954\n",
      "整体测试集上的正确率:0.6761999726295471\n",
      "-------------第19轮训练开始------------\n",
      "训练轮数：19,loss:0.7621074914932251\n",
      "整体测试集上的loss:135.4575353860855\n",
      "整体测试集上的正确率:0.7003999948501587\n",
      "-------------第20轮训练开始------------\n",
      "训练轮数：20,loss:0.8978409767150879\n",
      "整体测试集上的loss:125.31142362952232\n",
      "整体测试集上的正确率:0.7281000018119812\n",
      "-------------第21轮训练开始------------\n",
      "训练轮数：21,loss:0.681993305683136\n",
      "整体测试集上的loss:123.79839190840721\n",
      "整体测试集上的正确率:0.7346999645233154\n",
      "-------------第22轮训练开始------------\n",
      "训练轮数：22,loss:0.9298937916755676\n",
      "整体测试集上的loss:131.4058514535427\n",
      "整体测试集上的正确率:0.7116999626159668\n",
      "-------------第23轮训练开始------------\n",
      "训练轮数：23,loss:0.9802336096763611\n",
      "整体测试集上的loss:123.48123696446419\n",
      "整体测试集上的正确率:0.7222999930381775\n",
      "-------------第24轮训练开始------------\n",
      "训练轮数：24,loss:0.9060437679290771\n",
      "整体测试集上的loss:118.9250938296318\n",
      "整体测试集上的正确率:0.7342999577522278\n",
      "-------------第25轮训练开始------------\n",
      "训练轮数：25,loss:0.6374260187149048\n",
      "整体测试集上的loss:121.44942879676819\n",
      "整体测试集上的正确率:0.7285999655723572\n",
      "-------------第26轮训练开始------------\n",
      "训练轮数：26,loss:0.8568082451820374\n",
      "整体测试集上的loss:124.45608201622963\n",
      "整体测试集上的正确率:0.722000002861023\n",
      "-------------第27轮训练开始------------\n",
      "训练轮数：27,loss:0.44724249839782715\n",
      "整体测试集上的loss:109.15718701481819\n",
      "整体测试集上的正确率:0.7558000087738037\n",
      "-------------第28轮训练开始------------\n",
      "训练轮数：28,loss:0.6810368299484253\n",
      "整体测试集上的loss:161.82637625932693\n",
      "整体测试集上的正确率:0.6488999724388123\n",
      "-------------第29轮训练开始------------\n",
      "训练轮数：29,loss:0.8387838006019592\n",
      "整体测试集上的loss:132.85102126002312\n",
      "整体测试集上的正确率:0.7203999757766724\n",
      "-------------第30轮训练开始------------\n",
      "训练轮数：30,loss:0.8441789150238037\n",
      "整体测试集上的loss:121.37856963276863\n",
      "整体测试集上的正确率:0.732699990272522\n",
      "模型已保存\n"
     ]
    }
   ],
   "source": [
    "from torch.utils.data import DataLoader\n",
    "train_load = DataLoader(train_data,batch_size=64,shuffle=True,num_workers=4,pin_memory=True)\n",
    "test_load = DataLoader(test_data,batch_size=64,num_workers=4,pin_memory=True)\n",
    "\n",
    "for i in range(epoch):\n",
    "    print(\"-------------第{}轮训练开始------------\".format(i+1))\n",
    "    # 训练步骤开始\n",
    "    model.train()\n",
    "    for data in train_load:\n",
    "        imgs,targets = data\n",
    "        imgs = imgs.view((-1,28,28))\n",
    "        imgs = imgs.to(device)\n",
    "        targets = targets.to(device)\n",
    "        outputs = model(imgs)\n",
    "        loss = loss_fn(outputs,targets)\n",
    "        \n",
    "        # 优化器优化模型\n",
    "        optimizer.zero_grad()\n",
    "        loss.backward()\n",
    "        optimizer.step()\n",
    "        \n",
    "    print(\"训练轮数：{},loss:{}\".format(i+1,loss.item()))\n",
    "        \n",
    "    # 测试步骤\n",
    "    model.eval()\n",
    "    total_test_loss = 0\n",
    "    total_accuracy = 0\n",
    "    with torch.no_grad():\n",
    "        for data in test_load:\n",
    "            imgs,targets = data\n",
    "            imgs = imgs.view((-1,28,28))\n",
    "            imgs = imgs.to(device)\n",
    "            targets = targets.to(device)\n",
    "            outputs = model(imgs)\n",
    "            loss = loss_fn(outputs,targets)\n",
    "            total_test_loss += loss.item()\n",
    "            accuracy = (outputs.argmax(1) == targets).sum()\n",
    "            total_accuracy+=accuracy\n",
    "    print(\"整体测试集上的loss:{}\".format(total_test_loss))\n",
    "    print(\"整体测试集上的正确率:{}\".format(total_accuracy/test_data_size))\n",
    "\n",
    "    # 保存模型\n",
    "    if i == epoch-1:\n",
    "        torch.save(model.state_dict(),\"./models/minist_rnn_model.pth\")\n",
    "        print(\"模型已保存\")\n"
   ]
  },
  {
   "cell_type": "markdown",
   "metadata": {},
   "source": [
    "### 预测"
   ]
  },
  {
   "cell_type": "code",
   "execution_count": 10,
   "metadata": {},
   "outputs": [
    {
     "data": {
      "text/plain": [
       "<All keys matched successfully>"
      ]
     },
     "execution_count": 10,
     "metadata": {},
     "output_type": "execute_result"
    }
   ],
   "source": [
    "# 模型加载\n",
    "model = Rnn()\n",
    "model_status = torch.load(\"./models/minist_rnn_model.pth\")\n",
    "model.load_state_dict(model_status)"
   ]
  },
  {
   "cell_type": "code",
   "execution_count": 42,
   "metadata": {},
   "outputs": [],
   "source": [
    "img,target = test_data[0]"
   ]
  },
  {
   "cell_type": "code",
   "execution_count": 43,
   "metadata": {},
   "outputs": [
    {
     "data": {
      "text/plain": [
       "7"
      ]
     },
     "execution_count": 43,
     "metadata": {},
     "output_type": "execute_result"
    }
   ],
   "source": [
    "target"
   ]
  },
  {
   "cell_type": "code",
   "execution_count": 44,
   "metadata": {},
   "outputs": [
    {
     "data": {
      "text/plain": [
       "tensor(7)"
      ]
     },
     "execution_count": 44,
     "metadata": {},
     "output_type": "execute_result"
    }
   ],
   "source": [
    "model(img).argmax()"
   ]
  },
  {
   "cell_type": "code",
   "execution_count": null,
   "metadata": {},
   "outputs": [],
   "source": []
  }
 ],
 "metadata": {
  "kernelspec": {
   "display_name": "Python 3.8.13 ('AI')",
   "language": "python",
   "name": "python3"
  },
  "language_info": {
   "codemirror_mode": {
    "name": "ipython",
    "version": 3
   },
   "file_extension": ".py",
   "mimetype": "text/x-python",
   "name": "python",
   "nbconvert_exporter": "python",
   "pygments_lexer": "ipython3",
   "version": "3.8.13"
  },
  "orig_nbformat": 4,
  "vscode": {
   "interpreter": {
    "hash": "edff09c04b0b8f151f1a23da0f1d81b4651050c2abc772ada3fce2895b2777a0"
   }
  }
 },
 "nbformat": 4,
 "nbformat_minor": 2
}
