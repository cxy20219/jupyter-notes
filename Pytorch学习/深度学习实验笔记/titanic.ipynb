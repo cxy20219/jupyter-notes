{
 "cells": [
  {
   "cell_type": "markdown",
   "metadata": {},
   "source": [
    "## PyTorch实现Titanic生存预测"
   ]
  },
  {
   "cell_type": "markdown",
   "metadata": {},
   "source": [
    "### 1. 获取数据集"
   ]
  },
  {
   "cell_type": "code",
   "execution_count": 50,
   "metadata": {},
   "outputs": [],
   "source": [
    "import pandas as pd\n",
    "train_data = pd.read_csv(\"../../../datas/titanic/train.csv\")\n",
    "test_data = pd.read_csv(\"../../../datas/titanic/test.csv\")"
   ]
  },
  {
   "cell_type": "code",
   "execution_count": 51,
   "metadata": {},
   "outputs": [
    {
     "data": {
      "text/html": [
       "<div>\n",
       "<style scoped>\n",
       "    .dataframe tbody tr th:only-of-type {\n",
       "        vertical-align: middle;\n",
       "    }\n",
       "\n",
       "    .dataframe tbody tr th {\n",
       "        vertical-align: top;\n",
       "    }\n",
       "\n",
       "    .dataframe thead th {\n",
       "        text-align: right;\n",
       "    }\n",
       "</style>\n",
       "<table border=\"1\" class=\"dataframe\">\n",
       "  <thead>\n",
       "    <tr style=\"text-align: right;\">\n",
       "      <th></th>\n",
       "      <th>PassengerId</th>\n",
       "      <th>Survived</th>\n",
       "      <th>Pclass</th>\n",
       "      <th>Name</th>\n",
       "      <th>Sex</th>\n",
       "      <th>Age</th>\n",
       "      <th>SibSp</th>\n",
       "      <th>Parch</th>\n",
       "      <th>Ticket</th>\n",
       "      <th>Fare</th>\n",
       "      <th>Cabin</th>\n",
       "      <th>Embarked</th>\n",
       "    </tr>\n",
       "  </thead>\n",
       "  <tbody>\n",
       "    <tr>\n",
       "      <th>0</th>\n",
       "      <td>1</td>\n",
       "      <td>0</td>\n",
       "      <td>3</td>\n",
       "      <td>Braund, Mr. Owen Harris</td>\n",
       "      <td>male</td>\n",
       "      <td>22.0</td>\n",
       "      <td>1</td>\n",
       "      <td>0</td>\n",
       "      <td>A/5 21171</td>\n",
       "      <td>7.2500</td>\n",
       "      <td>NaN</td>\n",
       "      <td>S</td>\n",
       "    </tr>\n",
       "    <tr>\n",
       "      <th>1</th>\n",
       "      <td>2</td>\n",
       "      <td>1</td>\n",
       "      <td>1</td>\n",
       "      <td>Cumings, Mrs. John Bradley (Florence Briggs Th...</td>\n",
       "      <td>female</td>\n",
       "      <td>38.0</td>\n",
       "      <td>1</td>\n",
       "      <td>0</td>\n",
       "      <td>PC 17599</td>\n",
       "      <td>71.2833</td>\n",
       "      <td>C85</td>\n",
       "      <td>C</td>\n",
       "    </tr>\n",
       "    <tr>\n",
       "      <th>2</th>\n",
       "      <td>3</td>\n",
       "      <td>1</td>\n",
       "      <td>3</td>\n",
       "      <td>Heikkinen, Miss. Laina</td>\n",
       "      <td>female</td>\n",
       "      <td>26.0</td>\n",
       "      <td>0</td>\n",
       "      <td>0</td>\n",
       "      <td>STON/O2. 3101282</td>\n",
       "      <td>7.9250</td>\n",
       "      <td>NaN</td>\n",
       "      <td>S</td>\n",
       "    </tr>\n",
       "    <tr>\n",
       "      <th>3</th>\n",
       "      <td>4</td>\n",
       "      <td>1</td>\n",
       "      <td>1</td>\n",
       "      <td>Futrelle, Mrs. Jacques Heath (Lily May Peel)</td>\n",
       "      <td>female</td>\n",
       "      <td>35.0</td>\n",
       "      <td>1</td>\n",
       "      <td>0</td>\n",
       "      <td>113803</td>\n",
       "      <td>53.1000</td>\n",
       "      <td>C123</td>\n",
       "      <td>S</td>\n",
       "    </tr>\n",
       "    <tr>\n",
       "      <th>4</th>\n",
       "      <td>5</td>\n",
       "      <td>0</td>\n",
       "      <td>3</td>\n",
       "      <td>Allen, Mr. William Henry</td>\n",
       "      <td>male</td>\n",
       "      <td>35.0</td>\n",
       "      <td>0</td>\n",
       "      <td>0</td>\n",
       "      <td>373450</td>\n",
       "      <td>8.0500</td>\n",
       "      <td>NaN</td>\n",
       "      <td>S</td>\n",
       "    </tr>\n",
       "  </tbody>\n",
       "</table>\n",
       "</div>"
      ],
      "text/plain": [
       "   PassengerId  Survived  Pclass  \\\n",
       "0            1         0       3   \n",
       "1            2         1       1   \n",
       "2            3         1       3   \n",
       "3            4         1       1   \n",
       "4            5         0       3   \n",
       "\n",
       "                                                Name     Sex   Age  SibSp  \\\n",
       "0                            Braund, Mr. Owen Harris    male  22.0      1   \n",
       "1  Cumings, Mrs. John Bradley (Florence Briggs Th...  female  38.0      1   \n",
       "2                             Heikkinen, Miss. Laina  female  26.0      0   \n",
       "3       Futrelle, Mrs. Jacques Heath (Lily May Peel)  female  35.0      1   \n",
       "4                           Allen, Mr. William Henry    male  35.0      0   \n",
       "\n",
       "   Parch            Ticket     Fare Cabin Embarked  \n",
       "0      0         A/5 21171   7.2500   NaN        S  \n",
       "1      0          PC 17599  71.2833   C85        C  \n",
       "2      0  STON/O2. 3101282   7.9250   NaN        S  \n",
       "3      0            113803  53.1000  C123        S  \n",
       "4      0            373450   8.0500   NaN        S  "
      ]
     },
     "execution_count": 51,
     "metadata": {},
     "output_type": "execute_result"
    }
   ],
   "source": [
    "train_data.head()"
   ]
  },
  {
   "cell_type": "code",
   "execution_count": 52,
   "metadata": {},
   "outputs": [
    {
     "data": {
      "text/html": [
       "<div>\n",
       "<style scoped>\n",
       "    .dataframe tbody tr th:only-of-type {\n",
       "        vertical-align: middle;\n",
       "    }\n",
       "\n",
       "    .dataframe tbody tr th {\n",
       "        vertical-align: top;\n",
       "    }\n",
       "\n",
       "    .dataframe thead th {\n",
       "        text-align: right;\n",
       "    }\n",
       "</style>\n",
       "<table border=\"1\" class=\"dataframe\">\n",
       "  <thead>\n",
       "    <tr style=\"text-align: right;\">\n",
       "      <th></th>\n",
       "      <th>PassengerId</th>\n",
       "      <th>Pclass</th>\n",
       "      <th>Name</th>\n",
       "      <th>Sex</th>\n",
       "      <th>Age</th>\n",
       "      <th>SibSp</th>\n",
       "      <th>Parch</th>\n",
       "      <th>Ticket</th>\n",
       "      <th>Fare</th>\n",
       "      <th>Cabin</th>\n",
       "      <th>Embarked</th>\n",
       "    </tr>\n",
       "  </thead>\n",
       "  <tbody>\n",
       "    <tr>\n",
       "      <th>0</th>\n",
       "      <td>892</td>\n",
       "      <td>3</td>\n",
       "      <td>Kelly, Mr. James</td>\n",
       "      <td>male</td>\n",
       "      <td>34.5</td>\n",
       "      <td>0</td>\n",
       "      <td>0</td>\n",
       "      <td>330911</td>\n",
       "      <td>7.8292</td>\n",
       "      <td>NaN</td>\n",
       "      <td>Q</td>\n",
       "    </tr>\n",
       "    <tr>\n",
       "      <th>1</th>\n",
       "      <td>893</td>\n",
       "      <td>3</td>\n",
       "      <td>Wilkes, Mrs. James (Ellen Needs)</td>\n",
       "      <td>female</td>\n",
       "      <td>47.0</td>\n",
       "      <td>1</td>\n",
       "      <td>0</td>\n",
       "      <td>363272</td>\n",
       "      <td>7.0000</td>\n",
       "      <td>NaN</td>\n",
       "      <td>S</td>\n",
       "    </tr>\n",
       "    <tr>\n",
       "      <th>2</th>\n",
       "      <td>894</td>\n",
       "      <td>2</td>\n",
       "      <td>Myles, Mr. Thomas Francis</td>\n",
       "      <td>male</td>\n",
       "      <td>62.0</td>\n",
       "      <td>0</td>\n",
       "      <td>0</td>\n",
       "      <td>240276</td>\n",
       "      <td>9.6875</td>\n",
       "      <td>NaN</td>\n",
       "      <td>Q</td>\n",
       "    </tr>\n",
       "    <tr>\n",
       "      <th>3</th>\n",
       "      <td>895</td>\n",
       "      <td>3</td>\n",
       "      <td>Wirz, Mr. Albert</td>\n",
       "      <td>male</td>\n",
       "      <td>27.0</td>\n",
       "      <td>0</td>\n",
       "      <td>0</td>\n",
       "      <td>315154</td>\n",
       "      <td>8.6625</td>\n",
       "      <td>NaN</td>\n",
       "      <td>S</td>\n",
       "    </tr>\n",
       "    <tr>\n",
       "      <th>4</th>\n",
       "      <td>896</td>\n",
       "      <td>3</td>\n",
       "      <td>Hirvonen, Mrs. Alexander (Helga E Lindqvist)</td>\n",
       "      <td>female</td>\n",
       "      <td>22.0</td>\n",
       "      <td>1</td>\n",
       "      <td>1</td>\n",
       "      <td>3101298</td>\n",
       "      <td>12.2875</td>\n",
       "      <td>NaN</td>\n",
       "      <td>S</td>\n",
       "    </tr>\n",
       "  </tbody>\n",
       "</table>\n",
       "</div>"
      ],
      "text/plain": [
       "   PassengerId  Pclass                                          Name     Sex  \\\n",
       "0          892       3                              Kelly, Mr. James    male   \n",
       "1          893       3              Wilkes, Mrs. James (Ellen Needs)  female   \n",
       "2          894       2                     Myles, Mr. Thomas Francis    male   \n",
       "3          895       3                              Wirz, Mr. Albert    male   \n",
       "4          896       3  Hirvonen, Mrs. Alexander (Helga E Lindqvist)  female   \n",
       "\n",
       "    Age  SibSp  Parch   Ticket     Fare Cabin Embarked  \n",
       "0  34.5      0      0   330911   7.8292   NaN        Q  \n",
       "1  47.0      1      0   363272   7.0000   NaN        S  \n",
       "2  62.0      0      0   240276   9.6875   NaN        Q  \n",
       "3  27.0      0      0   315154   8.6625   NaN        S  \n",
       "4  22.0      1      1  3101298  12.2875   NaN        S  "
      ]
     },
     "execution_count": 52,
     "metadata": {},
     "output_type": "execute_result"
    }
   ],
   "source": [
    "test_data.head()"
   ]
  },
  {
   "cell_type": "markdown",
   "metadata": {},
   "source": [
    "### 2. 数据预处理"
   ]
  },
  {
   "cell_type": "code",
   "execution_count": 53,
   "metadata": {},
   "outputs": [
    {
     "data": {
      "text/plain": [
       "PassengerId    False\n",
       "Survived       False\n",
       "Pclass         False\n",
       "Name           False\n",
       "Sex            False\n",
       "Age             True\n",
       "SibSp          False\n",
       "Parch          False\n",
       "Ticket         False\n",
       "Fare           False\n",
       "Cabin           True\n",
       "Embarked        True\n",
       "dtype: bool"
      ]
     },
     "execution_count": 53,
     "metadata": {},
     "output_type": "execute_result"
    }
   ],
   "source": [
    "train_data.isnull().any()"
   ]
  },
  {
   "cell_type": "code",
   "execution_count": 54,
   "metadata": {},
   "outputs": [
    {
     "data": {
      "text/plain": [
       "2"
      ]
     },
     "execution_count": 54,
     "metadata": {},
     "output_type": "execute_result"
    }
   ],
   "source": [
    "train_data[\"Embarked\"].isnull().sum()"
   ]
  },
  {
   "cell_type": "code",
   "execution_count": 55,
   "metadata": {},
   "outputs": [
    {
     "data": {
      "text/html": [
       "<div>\n",
       "<style scoped>\n",
       "    .dataframe tbody tr th:only-of-type {\n",
       "        vertical-align: middle;\n",
       "    }\n",
       "\n",
       "    .dataframe tbody tr th {\n",
       "        vertical-align: top;\n",
       "    }\n",
       "\n",
       "    .dataframe thead th {\n",
       "        text-align: right;\n",
       "    }\n",
       "</style>\n",
       "<table border=\"1\" class=\"dataframe\">\n",
       "  <thead>\n",
       "    <tr style=\"text-align: right;\">\n",
       "      <th>Embarked</th>\n",
       "      <th>C</th>\n",
       "      <th>Q</th>\n",
       "      <th>S</th>\n",
       "    </tr>\n",
       "    <tr>\n",
       "      <th>PassengerId</th>\n",
       "      <th></th>\n",
       "      <th></th>\n",
       "      <th></th>\n",
       "    </tr>\n",
       "  </thead>\n",
       "  <tbody>\n",
       "    <tr>\n",
       "      <th>1</th>\n",
       "      <td>0</td>\n",
       "      <td>0</td>\n",
       "      <td>1</td>\n",
       "    </tr>\n",
       "    <tr>\n",
       "      <th>2</th>\n",
       "      <td>1</td>\n",
       "      <td>0</td>\n",
       "      <td>0</td>\n",
       "    </tr>\n",
       "    <tr>\n",
       "      <th>3</th>\n",
       "      <td>0</td>\n",
       "      <td>0</td>\n",
       "      <td>1</td>\n",
       "    </tr>\n",
       "    <tr>\n",
       "      <th>4</th>\n",
       "      <td>0</td>\n",
       "      <td>0</td>\n",
       "      <td>1</td>\n",
       "    </tr>\n",
       "    <tr>\n",
       "      <th>5</th>\n",
       "      <td>0</td>\n",
       "      <td>0</td>\n",
       "      <td>1</td>\n",
       "    </tr>\n",
       "    <tr>\n",
       "      <th>...</th>\n",
       "      <td>...</td>\n",
       "      <td>...</td>\n",
       "      <td>...</td>\n",
       "    </tr>\n",
       "    <tr>\n",
       "      <th>887</th>\n",
       "      <td>0</td>\n",
       "      <td>0</td>\n",
       "      <td>1</td>\n",
       "    </tr>\n",
       "    <tr>\n",
       "      <th>888</th>\n",
       "      <td>0</td>\n",
       "      <td>0</td>\n",
       "      <td>1</td>\n",
       "    </tr>\n",
       "    <tr>\n",
       "      <th>889</th>\n",
       "      <td>0</td>\n",
       "      <td>0</td>\n",
       "      <td>1</td>\n",
       "    </tr>\n",
       "    <tr>\n",
       "      <th>890</th>\n",
       "      <td>1</td>\n",
       "      <td>0</td>\n",
       "      <td>0</td>\n",
       "    </tr>\n",
       "    <tr>\n",
       "      <th>891</th>\n",
       "      <td>0</td>\n",
       "      <td>1</td>\n",
       "      <td>0</td>\n",
       "    </tr>\n",
       "  </tbody>\n",
       "</table>\n",
       "<p>889 rows × 3 columns</p>\n",
       "</div>"
      ],
      "text/plain": [
       "Embarked     C  Q  S\n",
       "PassengerId         \n",
       "1            0  0  1\n",
       "2            1  0  0\n",
       "3            0  0  1\n",
       "4            0  0  1\n",
       "5            0  0  1\n",
       "...         .. .. ..\n",
       "887          0  0  1\n",
       "888          0  0  1\n",
       "889          0  0  1\n",
       "890          1  0  0\n",
       "891          0  1  0\n",
       "\n",
       "[889 rows x 3 columns]"
      ]
     },
     "execution_count": 55,
     "metadata": {},
     "output_type": "execute_result"
    }
   ],
   "source": [
    "data = pd.crosstab(train_data[\"PassengerId\"],train_data[\"Embarked\"])\n",
    "data"
   ]
  },
  {
   "cell_type": "code",
   "execution_count": 56,
   "metadata": {},
   "outputs": [
    {
     "data": {
      "text/plain": [
       "644"
      ]
     },
     "execution_count": 56,
     "metadata": {},
     "output_type": "execute_result"
    }
   ],
   "source": [
    "(train_data[\"Embarked\"]==\"S\").sum()"
   ]
  },
  {
   "cell_type": "code",
   "execution_count": 57,
   "metadata": {},
   "outputs": [
    {
     "data": {
      "text/plain": [
       "177"
      ]
     },
     "execution_count": 57,
     "metadata": {},
     "output_type": "execute_result"
    }
   ],
   "source": [
    "train_data[\"Age\"].isnull().sum()"
   ]
  },
  {
   "cell_type": "code",
   "execution_count": 58,
   "metadata": {},
   "outputs": [
    {
     "name": "stderr",
     "output_type": "stream",
     "text": [
      "c:\\Users\\lvcheng\\.conda\\envs\\AI\\lib\\site-packages\\sklearn\\utils\\deprecation.py:87: FutureWarning: Function get_feature_names is deprecated; get_feature_names is deprecated in 1.0 and will be removed in 1.2. Please use get_feature_names_out instead.\n",
      "  warnings.warn(msg, category=FutureWarning)\n"
     ]
    },
    {
     "data": {
      "text/plain": [
       "['Age',\n",
       " 'Embarked',\n",
       " 'Embarked=C',\n",
       " 'Embarked=Q',\n",
       " 'Embarked=S',\n",
       " 'Parch',\n",
       " 'Pclass',\n",
       " 'Sex=female',\n",
       " 'Sex=male']"
      ]
     },
     "execution_count": 58,
     "metadata": {},
     "output_type": "execute_result"
    }
   ],
   "source": [
    "from torch.utils.data import Dataset\n",
    "import torch\n",
    "from sklearn.feature_extraction import DictVectorizer\n",
    "data = train_data[[\"Pclass\",\"Sex\",\"Embarked\",\"Parch\",\"Age\"]]\n",
    "data = data.to_dict(orient=\"records\")\n",
    "transer = DictVectorizer(sparse=False)\n",
    "data = transer.fit_transform(data)\n",
    "transer.get_feature_names()"
   ]
  },
  {
   "cell_type": "code",
   "execution_count": 59,
   "metadata": {},
   "outputs": [
    {
     "data": {
      "text/plain": [
       "array([[22.,  0.,  0., ...,  3.,  0.,  1.],\n",
       "       [38.,  0.,  1., ...,  1.,  1.,  0.],\n",
       "       [26.,  0.,  0., ...,  3.,  1.,  0.],\n",
       "       ...,\n",
       "       [nan,  0.,  0., ...,  3.,  1.,  0.],\n",
       "       [26.,  0.,  1., ...,  1.,  0.,  1.],\n",
       "       [32.,  0.,  0., ...,  3.,  0.,  1.]])"
      ]
     },
     "execution_count": 59,
     "metadata": {},
     "output_type": "execute_result"
    }
   ],
   "source": [
    "data"
   ]
  },
  {
   "cell_type": "code",
   "execution_count": 60,
   "metadata": {},
   "outputs": [],
   "source": [
    "train_data[\"Age\"].fillna(train_data[\"Age\"].mean(),inplace=True)\n",
    "train_data[\"Embarked\"].fillna(\"S\",inplace=True)"
   ]
  },
  {
   "cell_type": "code",
   "execution_count": 61,
   "metadata": {},
   "outputs": [],
   "source": [
    "from torch.utils.data import Dataset\n",
    "import torch\n",
    "from sklearn.feature_extraction import DictVectorizer\n",
    "\n",
    "class MyData(Dataset):\n",
    "    # 初始化方法\n",
    "    def __init__(self,data):\n",
    "        self.target = torch.tensor(data[\"Survived\"].values,dtype=torch.float)\n",
    "        data = data[[\"Pclass\",\"Sex\",\"Embarked\",\"Parch\",\"Age\"]]\n",
    "        data = data.to_dict(orient=\"records\")\n",
    "        transer = DictVectorizer(sparse=False)\n",
    "        data = transer.fit_transform(data)\n",
    "        data = torch.tensor(data,dtype=torch.float)\n",
    "        self.x_data = data\n",
    "    \n",
    "    # 实列通过[]运算符取值时调用\n",
    "    def __getitem__(self,idx):\n",
    "        idx_data = self.x_data[idx]\n",
    "        target = self.target[idx]\n",
    "        return idx_data,target\n",
    "    \n",
    "    # 要获取有多少个元素，用 len() 函数\n",
    "    def __len__(self):\n",
    "        return len(self.x_data)"
   ]
  },
  {
   "cell_type": "code",
   "execution_count": 62,
   "metadata": {},
   "outputs": [
    {
     "data": {
      "text/plain": [
       "(891, 12)"
      ]
     },
     "execution_count": 62,
     "metadata": {},
     "output_type": "execute_result"
    }
   ],
   "source": [
    "train_data.shape"
   ]
  },
  {
   "cell_type": "code",
   "execution_count": 63,
   "metadata": {},
   "outputs": [],
   "source": [
    "from sklearn.model_selection import train_test_split\n",
    "train,test = train_test_split(train_data,test_size=0.12,random_state=8)\n",
    "train = MyData(train)\n",
    "test = MyData(test)"
   ]
  },
  {
   "cell_type": "markdown",
   "metadata": {},
   "source": [
    "### 3. 加载数据"
   ]
  },
  {
   "cell_type": "code",
   "execution_count": 64,
   "metadata": {},
   "outputs": [],
   "source": [
    "from torch.utils.data import DataLoader\n",
    "train_loader = DataLoader(\n",
    "    dataset = train,\n",
    "    batch_size = 32,   # 每次从中取32个数据集打包\n",
    "    shuffle = True,   # 不按顺序取\n",
    "    num_workers = 0,  # 设置进程数 0:核心进程\n",
    "    drop_last = False,\n",
    "    pin_memory = True\n",
    ")\n",
    "test_loader = DataLoader(\n",
    "    dataset = test,\n",
    "    batch_size = 32,   # 每次从中取四个数据集打包\n",
    "    shuffle = True,   # 不按顺序取\n",
    "    num_workers = 0,  # 设置进程数 0:核心进程\n",
    "    drop_last = False,\n",
    "    pin_memory = True\n",
    ")"
   ]
  },
  {
   "cell_type": "markdown",
   "metadata": {},
   "source": [
    "### 4. 构建模型"
   ]
  },
  {
   "cell_type": "code",
   "execution_count": 65,
   "metadata": {},
   "outputs": [],
   "source": [
    "import torch.nn as nn\n",
    "\n",
    "class Model(nn.Module):\n",
    "    def __init__(self):\n",
    "        super(Model,self).__init__()\n",
    "        self.model = nn.Sequential(\n",
    "            nn.Linear(8,4),\n",
    "            nn.Linear(4,1),\n",
    "            nn.Sigmoid()\n",
    "        )\n",
    "    def forward(self,x):\n",
    "        x = self.model(x)\n",
    "        return x\n",
    "    \n",
    "    def predict(self,x):\n",
    "        x = self.model(x)\n",
    "        y = []\n",
    "        for i in x:\n",
    "            if i>0.5:\n",
    "                y.append(1)\n",
    "            else:\n",
    "                y.append(0)\n",
    "        return torch.tensor(y)"
   ]
  },
  {
   "cell_type": "markdown",
   "metadata": {},
   "source": [
    "### 5. 损失函数"
   ]
  },
  {
   "cell_type": "code",
   "execution_count": 66,
   "metadata": {},
   "outputs": [
    {
     "data": {
      "text/plain": [
       "CrossEntropyLoss()"
      ]
     },
     "execution_count": 66,
     "metadata": {},
     "output_type": "execute_result"
    }
   ],
   "source": [
    "device = (\"cuda\" if torch.cuda.is_available() else \"cpu\")\n",
    "loss_fn = torch.nn.CrossEntropyLoss()\n",
    "loss_fn.to(device)"
   ]
  },
  {
   "cell_type": "markdown",
   "metadata": {},
   "source": [
    "### 6. 优化器"
   ]
  },
  {
   "cell_type": "code",
   "execution_count": 67,
   "metadata": {},
   "outputs": [],
   "source": [
    "model = Model()\n",
    "model.to(device)\n",
    "optimizer = torch.optim.Adam(model.parameters(),lr=0.01)"
   ]
  },
  {
   "cell_type": "markdown",
   "metadata": {},
   "source": [
    "### 7 训练"
   ]
  },
  {
   "cell_type": "code",
   "execution_count": 68,
   "metadata": {},
   "outputs": [
    {
     "name": "stdout",
     "output_type": "stream",
     "text": [
      "tensor([0, 0, 0, 0, 0, 0, 0, 0, 0, 0, 0, 0, 0, 0, 0, 0, 0, 0, 0, 0, 0, 0, 0, 0,\n",
      "        0, 0, 0, 0, 0, 0, 0, 0])\n",
      "tensor([0, 0, 0, 0, 0, 0, 0, 0, 0, 0, 0, 0, 0, 0, 0, 0, 0, 0, 0, 0, 0, 0, 0, 0,\n",
      "        0, 0, 0, 0, 0, 0, 0, 0])\n",
      "tensor([0, 0, 0, 0, 0, 0, 0, 0, 0, 0, 0, 0, 0, 0, 0, 0, 0, 0, 0, 0, 0, 0, 0, 0,\n",
      "        0, 0, 0, 0, 0, 0, 0, 0])\n",
      "tensor([0, 0, 0, 0, 0, 0, 0, 0, 0, 0, 0])\n"
     ]
    }
   ],
   "source": [
    "for futures,targets in test_loader:\n",
    "    outputs = model(futures.to(device))\n",
    "    outputs = outputs.view((-1))\n",
    "    # print(futures.to(device).shape)\n",
    "    loss = loss_fn(outputs,targets.to(device))\n",
    "    # print((targets == torch.heaviside(outputs)).sum())\n",
    "    print(model.predict(futures.to(device)))"
   ]
  },
  {
   "cell_type": "code",
   "execution_count": 69,
   "metadata": {},
   "outputs": [
    {
     "name": "stdout",
     "output_type": "stream",
     "text": [
      "-------------第1轮训练开始------------\n",
      "训练轮数：0,loss:13.905879974365234\n",
      "整体测试集上的loss:127.75838375091553\n",
      "整体测试集上的正确率:0.6355140209197998\n",
      "-------------第2轮训练开始------------\n",
      "训练轮数：1,loss:16.507339477539062\n",
      "整体测试集上的loss:127.87203121185303\n",
      "整体测试集上的正确率:0.6728971600532532\n",
      "-------------第3轮训练开始------------\n"
     ]
    },
    {
     "name": "stderr",
     "output_type": "stream",
     "text": [
      "C:\\Users\\lvcheng\\AppData\\Local\\Temp\\ipykernel_35960\\591136710.py:31: UserWarning: To copy construct from a tensor, it is recommended to use sourceTensor.clone().detach() or sourceTensor.clone().detach().requires_grad_(True), rather than torch.tensor(sourceTensor).\n",
      "  accuracy = (targets == torch.tensor(model.predict(futures)).to(device)).sum()\n"
     ]
    },
    {
     "name": "stdout",
     "output_type": "stream",
     "text": [
      "训练轮数：2,loss:7.427346706390381\n",
      "整体测试集上的loss:125.73683834075928\n",
      "整体测试集上的正确率:0.7196261286735535\n",
      "-------------第4轮训练开始------------\n",
      "训练轮数：3,loss:12.776372909545898\n",
      "整体测试集上的loss:123.9265365600586\n",
      "整体测试集上的正确率:0.6822429895401001\n",
      "-------------第5轮训练开始------------\n",
      "训练轮数：4,loss:16.08531951904297\n",
      "整体测试集上的loss:126.48461294174194\n",
      "整体测试集上的正确率:0.7102803587913513\n",
      "-------------第6轮训练开始------------\n",
      "训练轮数：5,loss:14.928171157836914\n",
      "整体测试集上的loss:122.4650707244873\n",
      "整体测试集上的正确率:0.7102803587913513\n",
      "-------------第7轮训练开始------------\n",
      "训练轮数：6,loss:21.070459365844727\n",
      "整体测试集上的loss:126.9177474975586\n",
      "整体测试集上的正确率:0.7383177280426025\n",
      "-------------第8轮训练开始------------\n",
      "训练轮数：7,loss:11.438263893127441\n",
      "整体测试集上的loss:123.88616371154785\n",
      "整体测试集上的正确率:0.7196261286735535\n",
      "-------------第9轮训练开始------------\n",
      "训练轮数：8,loss:11.816259384155273\n",
      "整体测试集上的loss:127.6847128868103\n",
      "整体测试集上的正确率:0.7196261286735535\n",
      "-------------第10轮训练开始------------\n",
      "训练轮数：9,loss:18.07278823852539\n",
      "整体测试集上的loss:128.43574285507202\n",
      "整体测试集上的正确率:0.7196261286735535\n",
      "-------------第11轮训练开始------------\n",
      "训练轮数：10,loss:23.561893463134766\n",
      "整体测试集上的loss:121.94406318664551\n",
      "整体测试集上的正确率:0.7289719581604004\n",
      "-------------第12轮训练开始------------\n",
      "训练轮数：11,loss:8.609962463378906\n",
      "整体测试集上的loss:122.23414421081543\n",
      "整体测试集上的正确率:0.7196261286735535\n",
      "-------------第13轮训练开始------------\n",
      "训练轮数：12,loss:15.665870666503906\n",
      "整体测试集上的loss:124.87333583831787\n",
      "整体测试集上的正确率:0.7196261286735535\n",
      "-------------第14轮训练开始------------\n",
      "训练轮数：13,loss:11.661432266235352\n",
      "整体测试集上的loss:123.66377449035645\n",
      "整体测试集上的正确率:0.7196261286735535\n",
      "-------------第15轮训练开始------------\n",
      "训练轮数：14,loss:20.41730308532715\n",
      "整体测试集上的loss:123.76445960998535\n",
      "整体测试集上的正确率:0.7196261286735535\n",
      "-------------第16轮训练开始------------\n",
      "训练轮数：15,loss:21.1445255279541\n",
      "整体测试集上的loss:129.0975799560547\n",
      "整体测试集上的正确率:0.7196261286735535\n",
      "-------------第17轮训练开始------------\n",
      "训练轮数：16,loss:17.87545394897461\n",
      "整体测试集上的loss:125.44890069961548\n",
      "整体测试集上的正确率:0.7196261286735535\n",
      "-------------第18轮训练开始------------\n",
      "训练轮数：17,loss:14.305809020996094\n",
      "整体测试集上的loss:123.8510513305664\n",
      "整体测试集上的正确率:0.7196261286735535\n",
      "-------------第19轮训练开始------------\n",
      "训练轮数：18,loss:9.834062576293945\n",
      "整体测试集上的loss:131.94154739379883\n",
      "整体测试集上的正确率:0.6915887594223022\n",
      "-------------第20轮训练开始------------\n",
      "训练轮数：19,loss:19.92737579345703\n",
      "整体测试集上的loss:123.5287733078003\n",
      "整体测试集上的正确率:0.7289719581604004\n",
      "-------------第21轮训练开始------------\n",
      "训练轮数：20,loss:23.443191528320312\n",
      "整体测试集上的loss:123.14406967163086\n",
      "整体测试集上的正确率:0.7196261286735535\n",
      "-------------第22轮训练开始------------\n",
      "训练轮数：21,loss:10.251028060913086\n",
      "整体测试集上的loss:126.56768846511841\n",
      "整体测试集上的正确率:0.7383177280426025\n",
      "-------------第23轮训练开始------------\n",
      "训练轮数：22,loss:20.87982940673828\n",
      "整体测试集上的loss:126.56150913238525\n",
      "整体测试集上的正确率:0.7196261286735535\n",
      "-------------第24轮训练开始------------\n",
      "训练轮数：23,loss:15.860766410827637\n",
      "整体测试集上的loss:126.33874368667603\n",
      "整体测试集上的正确率:0.7383177280426025\n",
      "-------------第25轮训练开始------------\n",
      "训练轮数：24,loss:11.469388961791992\n",
      "整体测试集上的loss:124.64205265045166\n",
      "整体测试集上的正确率:0.7289719581604004\n",
      "-------------第26轮训练开始------------\n",
      "训练轮数：25,loss:13.287717819213867\n",
      "整体测试集上的loss:124.66559600830078\n",
      "整体测试集上的正确率:0.7196261286735535\n",
      "-------------第27轮训练开始------------\n",
      "训练轮数：26,loss:23.091108322143555\n",
      "整体测试集上的loss:127.33739852905273\n",
      "整体测试集上的正确率:0.7196261286735535\n",
      "-------------第28轮训练开始------------\n",
      "训练轮数：27,loss:14.416292190551758\n",
      "整体测试集上的loss:122.54461765289307\n",
      "整体测试集上的正确率:0.7196261286735535\n",
      "-------------第29轮训练开始------------\n",
      "训练轮数：28,loss:18.803625106811523\n",
      "整体测试集上的loss:126.80244541168213\n",
      "整体测试集上的正确率:0.7289719581604004\n",
      "-------------第30轮训练开始------------\n",
      "训练轮数：29,loss:14.380857467651367\n",
      "整体测试集上的loss:126.16452407836914\n",
      "整体测试集上的正确率:0.7196261286735535\n",
      "-------------第31轮训练开始------------\n",
      "训练轮数：30,loss:12.920843124389648\n",
      "整体测试集上的loss:124.86213111877441\n",
      "整体测试集上的正确率:0.7196261286735535\n",
      "-------------第32轮训练开始------------\n",
      "训练轮数：31,loss:17.932987213134766\n",
      "整体测试集上的loss:125.34964370727539\n",
      "整体测试集上的正确率:0.7196261286735535\n",
      "-------------第33轮训练开始------------\n",
      "训练轮数：32,loss:23.60193634033203\n",
      "整体测试集上的loss:124.35662269592285\n",
      "整体测试集上的正确率:0.7289719581604004\n",
      "-------------第34轮训练开始------------\n",
      "训练轮数：33,loss:27.23990249633789\n",
      "整体测试集上的loss:123.49227714538574\n",
      "整体测试集上的正确率:0.7289719581604004\n",
      "-------------第35轮训练开始------------\n",
      "训练轮数：34,loss:10.848133087158203\n",
      "整体测试集上的loss:125.86246490478516\n",
      "整体测试集上的正确率:0.7289719581604004\n",
      "-------------第36轮训练开始------------\n",
      "训练轮数：35,loss:17.604873657226562\n",
      "整体测试集上的loss:122.32144832611084\n",
      "整体测试集上的正确率:0.7570093274116516\n",
      "-------------第37轮训练开始------------\n",
      "训练轮数：36,loss:13.22990894317627\n",
      "整体测试集上的loss:123.74058723449707\n",
      "整体测试集上的正确率:0.7196261286735535\n",
      "-------------第38轮训练开始------------\n",
      "训练轮数：37,loss:18.189285278320312\n",
      "整体测试集上的loss:125.16373634338379\n",
      "整体测试集上的正确率:0.7196261286735535\n",
      "-------------第39轮训练开始------------\n",
      "训练轮数：38,loss:20.09879493713379\n",
      "整体测试集上的loss:123.1324691772461\n",
      "整体测试集上的正确率:0.7289719581604004\n",
      "-------------第40轮训练开始------------\n",
      "训练轮数：39,loss:15.661369323730469\n",
      "整体测试集上的loss:126.2600827217102\n",
      "整体测试集上的正确率:0.7196261286735535\n",
      "-------------第41轮训练开始------------\n",
      "训练轮数：40,loss:23.35775375366211\n",
      "整体测试集上的loss:125.20247268676758\n",
      "整体测试集上的正确率:0.7196261286735535\n",
      "-------------第42轮训练开始------------\n",
      "训练轮数：41,loss:15.33539867401123\n",
      "整体测试集上的loss:127.16140174865723\n",
      "整体测试集上的正确率:0.6822429895401001\n",
      "-------------第43轮训练开始------------\n",
      "训练轮数：42,loss:18.37545394897461\n",
      "整体测试集上的loss:126.27426147460938\n",
      "整体测试集上的正确率:0.7289719581604004\n",
      "-------------第44轮训练开始------------\n",
      "训练轮数：43,loss:11.983609199523926\n",
      "整体测试集上的loss:125.47055530548096\n",
      "整体测试集上的正确率:0.7289719581604004\n",
      "-------------第45轮训练开始------------\n",
      "训练轮数：44,loss:11.547464370727539\n",
      "整体测试集上的loss:122.34634017944336\n",
      "整体测试集上的正确率:0.7289719581604004\n",
      "-------------第46轮训练开始------------\n",
      "训练轮数：45,loss:12.268257141113281\n",
      "整体测试集上的loss:125.6501111984253\n",
      "整体测试集上的正确率:0.7289719581604004\n",
      "-------------第47轮训练开始------------\n",
      "训练轮数：46,loss:7.087005615234375\n",
      "整体测试集上的loss:121.24931621551514\n",
      "整体测试集上的正确率:0.7289719581604004\n",
      "-------------第48轮训练开始------------\n",
      "训练轮数：47,loss:14.960243225097656\n",
      "整体测试集上的loss:125.75611734390259\n",
      "整体测试集上的正确率:0.7289719581604004\n",
      "-------------第49轮训练开始------------\n",
      "训练轮数：48,loss:9.703453063964844\n",
      "整体测试集上的loss:124.28569984436035\n",
      "整体测试集上的正确率:0.7196261286735535\n",
      "-------------第50轮训练开始------------\n",
      "训练轮数：49,loss:17.752286911010742\n",
      "整体测试集上的loss:123.52245998382568\n",
      "整体测试集上的正确率:0.7570093274116516\n",
      "-------------第51轮训练开始------------\n",
      "训练轮数：50,loss:7.040944576263428\n",
      "整体测试集上的loss:126.64047050476074\n",
      "整体测试集上的正确率:0.7196261286735535\n",
      "-------------第52轮训练开始------------\n",
      "训练轮数：51,loss:12.242942810058594\n",
      "整体测试集上的loss:124.01576519012451\n",
      "整体测试集上的正确率:0.7196261286735535\n",
      "-------------第53轮训练开始------------\n",
      "训练轮数：52,loss:9.867378234863281\n",
      "整体测试集上的loss:124.87895584106445\n",
      "整体测试集上的正确率:0.7757009267807007\n",
      "-------------第54轮训练开始------------\n",
      "训练轮数：53,loss:20.125581741333008\n",
      "整体测试集上的loss:124.86128616333008\n",
      "整体测试集上的正确率:0.7289719581604004\n",
      "-------------第55轮训练开始------------\n",
      "训练轮数：54,loss:13.260165214538574\n",
      "整体测试集上的loss:126.23271989822388\n",
      "整体测试集上的正确率:0.7196261286735535\n",
      "-------------第56轮训练开始------------\n",
      "训练轮数：55,loss:20.1738338470459\n",
      "整体测试集上的loss:125.6217098236084\n",
      "整体测试集上的正确率:0.7102803587913513\n",
      "-------------第57轮训练开始------------\n",
      "训练轮数：56,loss:17.602214813232422\n",
      "整体测试集上的loss:126.06878185272217\n",
      "整体测试集上的正确率:0.7289719581604004\n",
      "-------------第58轮训练开始------------\n",
      "训练轮数：57,loss:15.191780090332031\n",
      "整体测试集上的loss:128.85766410827637\n",
      "整体测试集上的正确率:0.6261681914329529\n",
      "-------------第59轮训练开始------------\n",
      "训练轮数：58,loss:12.976526260375977\n",
      "整体测试集上的loss:122.06597995758057\n",
      "整体测试集上的正确率:0.7383177280426025\n",
      "-------------第60轮训练开始------------\n",
      "训练轮数：59,loss:15.588933944702148\n",
      "整体测试集上的loss:123.58836936950684\n",
      "整体测试集上的正确率:0.6822429895401001\n",
      "-------------第61轮训练开始------------\n",
      "训练轮数：60,loss:17.41173553466797\n",
      "整体测试集上的loss:126.95428419113159\n",
      "整体测试集上的正确率:0.7196261286735535\n",
      "-------------第62轮训练开始------------\n",
      "训练轮数：61,loss:21.479890823364258\n",
      "整体测试集上的loss:125.61122798919678\n",
      "整体测试集上的正确率:0.6822429895401001\n",
      "-------------第63轮训练开始------------\n",
      "训练轮数：62,loss:20.773433685302734\n",
      "整体测试集上的loss:125.58694267272949\n",
      "整体测试集上的正确率:0.7196261286735535\n",
      "-------------第64轮训练开始------------\n",
      "训练轮数：63,loss:27.186344146728516\n",
      "整体测试集上的loss:124.2382173538208\n",
      "整体测试集上的正确率:0.7196261286735535\n",
      "-------------第65轮训练开始------------\n",
      "训练轮数：64,loss:26.524524688720703\n",
      "整体测试集上的loss:124.60099411010742\n",
      "整体测试集上的正确率:0.7289719581604004\n",
      "-------------第66轮训练开始------------\n",
      "训练轮数：65,loss:15.022195816040039\n",
      "整体测试集上的loss:125.63607740402222\n",
      "整体测试集上的正确率:0.7196261286735535\n",
      "-------------第67轮训练开始------------\n",
      "训练轮数：66,loss:23.042510986328125\n",
      "整体测试集上的loss:120.19659805297852\n",
      "整体测试集上的正确率:0.7383177280426025\n",
      "-------------第68轮训练开始------------\n",
      "训练轮数：67,loss:6.30856990814209\n",
      "整体测试集上的loss:125.92636156082153\n",
      "整体测试集上的正确率:0.7570093274116516\n",
      "-------------第69轮训练开始------------\n",
      "训练轮数：68,loss:14.810724258422852\n",
      "整体测试集上的loss:123.6090145111084\n",
      "整体测试集上的正确率:0.7663550972938538\n",
      "-------------第70轮训练开始------------\n",
      "训练轮数：69,loss:27.25506591796875\n",
      "整体测试集上的loss:121.99002742767334\n",
      "整体测试集上的正确率:0.7383177280426025\n",
      "-------------第71轮训练开始------------\n",
      "训练轮数：70,loss:15.498418807983398\n",
      "整体测试集上的loss:128.27104377746582\n",
      "整体测试集上的正确率:0.644859790802002\n",
      "-------------第72轮训练开始------------\n",
      "训练轮数：71,loss:11.21795654296875\n",
      "整体测试集上的loss:126.0875792503357\n",
      "整体测试集上的正确率:0.7383177280426025\n",
      "-------------第73轮训练开始------------\n",
      "训练轮数：72,loss:15.994684219360352\n",
      "整体测试集上的loss:125.06991767883301\n",
      "整体测试集上的正确率:0.7850466966629028\n",
      "-------------第74轮训练开始------------\n",
      "训练轮数：73,loss:9.803581237792969\n",
      "整体测试集上的loss:123.9313154220581\n",
      "整体测试集上的正确率:0.7289719581604004\n",
      "-------------第75轮训练开始------------\n",
      "训练轮数：74,loss:23.642154693603516\n",
      "整体测试集上的loss:124.9296989440918\n",
      "整体测试集上的正确率:0.6355140209197998\n",
      "-------------第76轮训练开始------------\n",
      "训练轮数：75,loss:15.420782089233398\n",
      "整体测试集上的loss:120.79117774963379\n",
      "整体测试集上的正确率:0.7476634979248047\n",
      "-------------第77轮训练开始------------\n",
      "训练轮数：76,loss:19.154170989990234\n",
      "整体测试集上的loss:126.74287557601929\n",
      "整体测试集上的正确率:0.7196261286735535\n",
      "-------------第78轮训练开始------------\n",
      "训练轮数：77,loss:13.756935119628906\n",
      "整体测试集上的loss:122.33818626403809\n",
      "整体测试集上的正确率:0.7289719581604004\n",
      "-------------第79轮训练开始------------\n",
      "训练轮数：78,loss:15.119808197021484\n",
      "整体测试集上的loss:121.69892883300781\n",
      "整体测试集上的正确率:0.7476634979248047\n",
      "-------------第80轮训练开始------------\n",
      "训练轮数：79,loss:11.93197250366211\n",
      "整体测试集上的loss:124.06375694274902\n",
      "整体测试集上的正确率:0.7289719581604004\n",
      "-------------第81轮训练开始------------\n",
      "训练轮数：80,loss:17.919544219970703\n",
      "整体测试集上的loss:122.05708503723145\n",
      "整体测试集上的正确率:0.7289719581604004\n",
      "-------------第82轮训练开始------------\n",
      "训练轮数：81,loss:17.924152374267578\n",
      "整体测试集上的loss:123.59951496124268\n",
      "整体测试集上的正确率:0.7289719581604004\n",
      "-------------第83轮训练开始------------\n",
      "训练轮数：82,loss:18.03127098083496\n",
      "整体测试集上的loss:124.89626979827881\n",
      "整体测试集上的正确率:0.7663550972938538\n",
      "-------------第84轮训练开始------------\n",
      "训练轮数：83,loss:16.865060806274414\n",
      "整体测试集上的loss:124.45905494689941\n",
      "整体测试集上的正确率:0.6542055606842041\n",
      "-------------第85轮训练开始------------\n",
      "训练轮数：84,loss:18.114227294921875\n",
      "整体测试集上的loss:128.37448930740356\n",
      "整体测试集上的正确率:0.6542055606842041\n",
      "-------------第86轮训练开始------------\n",
      "训练轮数：85,loss:20.949920654296875\n",
      "整体测试集上的loss:123.4786376953125\n",
      "整体测试集上的正确率:0.7289719581604004\n",
      "-------------第87轮训练开始------------\n",
      "训练轮数：86,loss:7.6183013916015625\n",
      "整体测试集上的loss:123.85057640075684\n",
      "整体测试集上的正确率:0.7196261286735535\n",
      "-------------第88轮训练开始------------\n",
      "训练轮数：87,loss:23.974306106567383\n",
      "整体测试集上的loss:126.02815818786621\n",
      "整体测试集上的正确率:0.7289719581604004\n",
      "-------------第89轮训练开始------------\n",
      "训练轮数：88,loss:9.378289222717285\n",
      "整体测试集上的loss:125.34432315826416\n",
      "整体测试集上的正确率:0.7289719581604004\n",
      "-------------第90轮训练开始------------\n",
      "训练轮数：89,loss:11.284903526306152\n",
      "整体测试集上的loss:124.88671970367432\n",
      "整体测试集上的正确率:0.644859790802002\n",
      "-------------第91轮训练开始------------\n",
      "训练轮数：90,loss:15.58631706237793\n",
      "整体测试集上的loss:123.67760848999023\n",
      "整体测试集上的正确率:0.7476634979248047\n",
      "-------------第92轮训练开始------------\n",
      "训练轮数：91,loss:12.683540344238281\n",
      "整体测试集上的loss:124.45204162597656\n",
      "整体测试集上的正确率:0.7476634979248047\n",
      "-------------第93轮训练开始------------\n",
      "训练轮数：92,loss:9.716724395751953\n",
      "整体测试集上的loss:129.7406907081604\n",
      "整体测试集上的正确率:0.644859790802002\n",
      "-------------第94轮训练开始------------\n",
      "训练轮数：93,loss:12.94359016418457\n",
      "整体测试集上的loss:121.17886161804199\n",
      "整体测试集上的正确率:0.7196261286735535\n",
      "-------------第95轮训练开始------------\n",
      "训练轮数：94,loss:26.296815872192383\n",
      "整体测试集上的loss:123.55736637115479\n",
      "整体测试集上的正确率:0.7663550972938538\n",
      "-------------第96轮训练开始------------\n",
      "训练轮数：95,loss:9.114374160766602\n",
      "整体测试集上的loss:124.16705322265625\n",
      "整体测试集上的正确率:0.7383177280426025\n",
      "-------------第97轮训练开始------------\n",
      "训练轮数：96,loss:10.755952835083008\n",
      "整体测试集上的loss:122.30353546142578\n",
      "整体测试集上的正确率:0.7289719581604004\n",
      "-------------第98轮训练开始------------\n",
      "训练轮数：97,loss:18.194021224975586\n",
      "整体测试集上的loss:124.77919578552246\n",
      "整体测试集上的正确率:0.644859790802002\n",
      "-------------第99轮训练开始------------\n",
      "训练轮数：98,loss:15.157878875732422\n",
      "整体测试集上的loss:125.40381336212158\n",
      "整体测试集上的正确率:0.7196261286735535\n",
      "-------------第100轮训练开始------------\n",
      "训练轮数：99,loss:12.536245346069336\n",
      "整体测试集上的loss:122.3722152709961\n",
      "整体测试集上的正确率:0.7289719581604004\n",
      "模型已保存\n"
     ]
    }
   ],
   "source": [
    "epoch = 100\n",
    "test_data_size = test.__len__()\n",
    "for i in range(epoch):\n",
    "    print(\"-------------第{}轮训练开始------------\".format(i+1))\n",
    "    # 训练步骤开始\n",
    "    model.train()\n",
    "    for futures,targets in train_loader:\n",
    "        futurs = futures.to(device)\n",
    "        targets = targets.to(device)\n",
    "        outputs = model(futurs)\n",
    "        outputs = outputs.view((-1))\n",
    "        loss = loss_fn(outputs,targets)\n",
    "        \n",
    "        # 优化器优化模型\n",
    "        optimizer.zero_grad()\n",
    "        loss.backward()\n",
    "        optimizer.step()\n",
    "    print(\"训练轮数：{},loss:{}\".format(i,loss.item()))\n",
    "    # 测试步骤\n",
    "    model.eval()\n",
    "    total_test_loss = 0\n",
    "    total_accuracy = 0\n",
    "    with torch.no_grad():\n",
    "        for futures,targets in test_loader:\n",
    "            futures = futures.to(device)\n",
    "            targets = targets.to(device)\n",
    "            outputs = model(futures)\n",
    "            outputs = outputs.view((-1))\n",
    "            loss = loss_fn(outputs,targets)\n",
    "            total_test_loss += loss.item()\n",
    "            accuracy = (targets == torch.tensor(model.predict(futures)).to(device)).sum()\n",
    "            total_accuracy+=accuracy\n",
    "    print(\"整体测试集上的loss:{}\".format(total_test_loss))\n",
    "    print(\"整体测试集上的正确率:{}\".format(total_accuracy/test_data_size))\n",
    "    \n",
    "    if i == epoch-1:\n",
    "        torch.save(model.state_dict(),\"./models/titanic_model.pth\")\n",
    "        print(\"模型已保存\")"
   ]
  },
  {
   "cell_type": "markdown",
   "metadata": {},
   "source": [
    "### 8. 预测"
   ]
  },
  {
   "cell_type": "code",
   "execution_count": 70,
   "metadata": {},
   "outputs": [
    {
     "data": {
      "text/plain": [
       "<All keys matched successfully>"
      ]
     },
     "execution_count": 70,
     "metadata": {},
     "output_type": "execute_result"
    }
   ],
   "source": [
    "model = Model()\n",
    "model_status = torch.load(\"./models/titanic_model.pth\")\n",
    "model.load_state_dict(model_status)"
   ]
  },
  {
   "cell_type": "code",
   "execution_count": 71,
   "metadata": {},
   "outputs": [
    {
     "data": {
      "text/plain": [
       "(tensor([[32.0000,  0.0000,  0.0000,  1.0000,  0.0000,  2.0000,  0.0000,  1.0000],\n",
       "         [27.0000,  0.0000,  0.0000,  1.0000,  0.0000,  1.0000,  0.0000,  1.0000],\n",
       "         [22.0000,  0.0000,  0.0000,  1.0000,  0.0000,  1.0000,  1.0000,  0.0000],\n",
       "         [36.0000,  0.0000,  0.0000,  1.0000,  0.0000,  2.0000,  0.0000,  1.0000],\n",
       "         [42.0000,  0.0000,  0.0000,  1.0000,  0.0000,  2.0000,  1.0000,  0.0000],\n",
       "         [21.0000,  0.0000,  0.0000,  1.0000,  0.0000,  3.0000,  0.0000,  1.0000],\n",
       "         [ 0.8300,  0.0000,  0.0000,  1.0000,  2.0000,  2.0000,  0.0000,  1.0000],\n",
       "         [28.0000,  0.0000,  0.0000,  1.0000,  0.0000,  3.0000,  0.0000,  1.0000],\n",
       "         [40.0000,  0.0000,  0.0000,  1.0000,  0.0000,  3.0000,  1.0000,  0.0000],\n",
       "         [29.6991,  1.0000,  0.0000,  0.0000,  1.0000,  3.0000,  0.0000,  1.0000],\n",
       "         [25.0000,  0.0000,  0.0000,  1.0000,  0.0000,  3.0000,  0.0000,  1.0000],\n",
       "         [20.0000,  0.0000,  0.0000,  1.0000,  0.0000,  3.0000,  0.0000,  1.0000],\n",
       "         [29.6991,  1.0000,  0.0000,  0.0000,  0.0000,  1.0000,  0.0000,  1.0000],\n",
       "         [ 9.0000,  1.0000,  0.0000,  0.0000,  1.0000,  3.0000,  1.0000,  0.0000],\n",
       "         [32.0000,  0.0000,  0.0000,  1.0000,  0.0000,  3.0000,  0.0000,  1.0000]]),\n",
       " tensor([0., 1., 1., 0., 1., 0., 1., 0., 0., 1., 0., 0., 0., 0., 1.]))"
      ]
     },
     "execution_count": 71,
     "metadata": {},
     "output_type": "execute_result"
    }
   ],
   "source": [
    "test[5:20][:]"
   ]
  },
  {
   "cell_type": "code",
   "execution_count": 72,
   "metadata": {},
   "outputs": [
    {
     "data": {
      "text/plain": [
       "tensor([0, 0, 1, 0, 1, 0, 0, 0, 1, 0, 0, 0, 1, 1, 0])"
      ]
     },
     "execution_count": 72,
     "metadata": {},
     "output_type": "execute_result"
    }
   ],
   "source": [
    "model.predict(test[5:20][0])"
   ]
  },
  {
   "cell_type": "code",
   "execution_count": null,
   "metadata": {},
   "outputs": [],
   "source": []
  }
 ],
 "metadata": {
  "kernelspec": {
   "display_name": "Python 3.8.13 ('AI')",
   "language": "python",
   "name": "python3"
  },
  "language_info": {
   "codemirror_mode": {
    "name": "ipython",
    "version": 3
   },
   "file_extension": ".py",
   "mimetype": "text/x-python",
   "name": "python",
   "nbconvert_exporter": "python",
   "pygments_lexer": "ipython3",
   "version": "3.8.13"
  },
  "orig_nbformat": 4,
  "vscode": {
   "interpreter": {
    "hash": "edff09c04b0b8f151f1a23da0f1d81b4651050c2abc772ada3fce2895b2777a0"
   }
  }
 },
 "nbformat": 4,
 "nbformat_minor": 2
}
