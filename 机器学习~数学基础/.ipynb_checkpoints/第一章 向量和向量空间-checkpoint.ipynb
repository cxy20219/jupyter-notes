{
 "cells": [
  {
   "cell_type": "markdown",
   "id": "b7351e3c",
   "metadata": {},
   "source": [
    "## 1 向量"
   ]
  },
  {
   "cell_type": "markdown",
   "id": "c26700d4",
   "metadata": {},
   "source": [
    "### 1.1 向量描述方法 \n",
    "\n",
    "**numpy中用数组表示向量**\n",
    "1. 行向量"
   ]
  },
  {
   "cell_type": "code",
   "execution_count": 1,
   "id": "9fd0712d",
   "metadata": {},
   "outputs": [
    {
     "data": {
      "text/plain": [
       "array([1, 6, 7])"
      ]
     },
     "execution_count": 1,
     "metadata": {},
     "output_type": "execute_result"
    }
   ],
   "source": [
    "import numpy as np\n",
    "u = np.array([1,6,7])\n",
    "u"
   ]
  },
  {
   "cell_type": "markdown",
   "id": "37f5caa4",
   "metadata": {},
   "source": [
    "2. 列向量"
   ]
  },
  {
   "cell_type": "code",
   "execution_count": 4,
   "id": "3b50a382",
   "metadata": {},
   "outputs": [
    {
     "data": {
      "text/plain": [
       "array([[1],\n",
       "       [6],\n",
       "       [7]])"
      ]
     },
     "execution_count": 4,
     "metadata": {},
     "output_type": "execute_result"
    }
   ],
   "source": [
    "v = u.reshape(-1,1)\n",
    "v"
   ]
  },
  {
   "cell_type": "markdown",
   "id": "c043e25c",
   "metadata": {},
   "source": [
    "3. 运算速度示例"
   ]
  },
  {
   "cell_type": "code",
   "execution_count": 9,
   "id": "5725ff08",
   "metadata": {},
   "outputs": [
    {
     "name": "stdout",
     "output_type": "stream",
     "text": [
      "用时：0.1150047779083252s\n",
      "用时：0.003022909164428711s\n",
      "数组用时快38.044倍\n"
     ]
    }
   ],
   "source": [
    "import random,time\n",
    "# 创建列表\n",
    "lst = [random.randint(1,100) for i in range(1000000)]\n",
    "\n",
    "start = time.time()\n",
    "lst = [i*i for i in lst]  # 列表形式计算平方\n",
    "end = time.time()\n",
    "print(f\"用时：{end - start}s\")\n",
    "\n",
    "vlst = np.array(lst)      # 列表化为数组\n",
    "start2 = time.time()\n",
    "vlst2 = vlst*vlst         # 用数组计算平方\n",
    "end2 = time.time();\n",
    "print(f\"用时：{end2 - start2}s\")\n",
    "\n",
    "print(f\"数组用时快{round((end - start)/(end2 - start2),3)}倍\")"
   ]
  },
  {
   "cell_type": "markdown",
   "id": "bf163581",
   "metadata": {},
   "source": [
    "###  1..2 向量加法"
   ]
  },
  {
   "cell_type": "markdown",
   "id": "aeb4804e",
   "metadata": {},
   "source": [
    "* 数组相加 "
   ]
  },
  {
   "cell_type": "code",
   "execution_count": 11,
   "id": "fdf1149a",
   "metadata": {},
   "outputs": [
    {
     "data": {
      "text/plain": [
       "array([[5],\n",
       "       [4]])"
      ]
     },
     "execution_count": 11,
     "metadata": {},
     "output_type": "execute_result"
    }
   ],
   "source": [
    "np.array([[2],[1]]) + np.array([[3],[3]])"
   ]
  },
  {
   "cell_type": "markdown",
   "id": "a368264f",
   "metadata": {},
   "source": [
    "* 数组相减"
   ]
  },
  {
   "cell_type": "code",
   "execution_count": 12,
   "id": "e9db06be",
   "metadata": {},
   "outputs": [
    {
     "data": {
      "text/plain": [
       "array([[-1],\n",
       "       [-2]])"
      ]
     },
     "execution_count": 12,
     "metadata": {},
     "output_type": "execute_result"
    }
   ],
   "source": [
    "np.array([[2],[1]]) - np.array([[3],[3]])"
   ]
  },
  {
   "cell_type": "markdown",
   "id": "a85324da",
   "metadata": {},
   "source": [
    "### 1.3 向量的数量乘法 "
   ]
  },
  {
   "cell_type": "markdown",
   "id": "81ba93ce",
   "metadata": {},
   "source": [
    "* 标量乘以数组"
   ]
  },
  {
   "cell_type": "code",
   "execution_count": 14,
   "id": "81de2a8a",
   "metadata": {},
   "outputs": [
    {
     "data": {
      "text/plain": [
       "array([6, 2])"
      ]
     },
     "execution_count": 14,
     "metadata": {},
     "output_type": "execute_result"
    }
   ],
   "source": [
    "2 * np.array([3,1])"
   ]
  },
  {
   "cell_type": "code",
   "execution_count": 15,
   "id": "34abe1cc",
   "metadata": {},
   "outputs": [
    {
     "data": {
      "text/plain": [
       "array([-3, -1])"
      ]
     },
     "execution_count": 15,
     "metadata": {},
     "output_type": "execute_result"
    }
   ],
   "source": [
    "-1 * np.array([3,1])"
   ]
  },
  {
   "cell_type": "markdown",
   "id": "d0e3bae4",
   "metadata": {},
   "source": [
    "## 2. 向量空间 "
   ]
  },
  {
   "cell_type": "markdown",
   "id": "872bf0c7",
   "metadata": {},
   "source": [
    "### 2.1 什么是向量空间 "
   ]
  },
  {
   "cell_type": "markdown",
   "id": "52fa6318",
   "metadata": {},
   "source": [
    "* 两个向量相加所得到的向量，依然在这个二维平面空间中； \n",
    "* 经过数量乘法所得到的向量，也在这个二维平面空间中。"
   ]
  },
  {
   "cell_type": "markdown",
   "id": "16319bcb",
   "metadata": {},
   "source": [
    "### 2.2 向量叉积 "
   ]
  },
  {
   "cell_type": "markdown",
   "id": "70283087",
   "metadata": {},
   "source": [
    "叉积（Cross Product），又称矢量积（Vector Product）"
   ]
  },
  {
   "cell_type": "code",
   "execution_count": null,
   "id": "cb2d0e9d",
   "metadata": {},
   "outputs": [],
   "source": []
  }
 ],
 "metadata": {
  "kernelspec": {
   "display_name": "Python 3 (ipykernel)",
   "language": "python",
   "name": "python3"
  },
  "language_info": {
   "codemirror_mode": {
    "name": "ipython",
    "version": 3
   },
   "file_extension": ".py",
   "mimetype": "text/x-python",
   "name": "python",
   "nbconvert_exporter": "python",
   "pygments_lexer": "ipython3",
   "version": "3.9.7"
  }
 },
 "nbformat": 4,
 "nbformat_minor": 5
}
