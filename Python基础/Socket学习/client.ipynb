{
 "cells": [
  {
   "cell_type": "markdown",
   "metadata": {},
   "source": [
    "## Client端程序"
   ]
  },
  {
   "cell_type": "markdown",
   "metadata": {},
   "source": [
    "导入socket库"
   ]
  },
  {
   "cell_type": "code",
   "execution_count": 12,
   "metadata": {},
   "outputs": [],
   "source": [
    "import socket"
   ]
  },
  {
   "cell_type": "markdown",
   "metadata": {},
   "source": [
    "定义参数"
   ]
  },
  {
   "cell_type": "code",
   "execution_count": 13,
   "metadata": {},
   "outputs": [],
   "source": [
    "IP = '127.0.0.1'\n",
    "SERVER_PORT = 50000\n",
    "BUFLEN = 512"
   ]
  },
  {
   "cell_type": "markdown",
   "metadata": {},
   "source": [
    "实例化socklet类"
   ]
  },
  {
   "cell_type": "code",
   "execution_count": 14,
   "metadata": {},
   "outputs": [],
   "source": [
    "dataSocket = socket.socket(socket.AF_INET,socket.SOCK_STREAM)"
   ]
  },
  {
   "cell_type": "markdown",
   "metadata": {},
   "source": [
    "连接服务端"
   ]
  },
  {
   "cell_type": "code",
   "execution_count": 15,
   "metadata": {},
   "outputs": [],
   "source": [
    "dataSocket.connect((IP,SERVER_PORT))"
   ]
  },
  {
   "cell_type": "code",
   "execution_count": 16,
   "metadata": {},
   "outputs": [
    {
     "name": "stdout",
     "output_type": "stream",
     "text": [
      "服务端接受到了信息hello\n",
      "服务端接受到了信息你好\n"
     ]
    }
   ],
   "source": [
    "while True:\n",
    "    # 从终端读入用户输入的字符串\n",
    "    toSend = input('请输入：')\n",
    "    if toSend == 'exit':\n",
    "        break\n",
    "\n",
    "    # 发送消息,也要编码为 bytes\n",
    "    dataSocket.send(toSend.encode())\n",
    "\n",
    "    # 等待接收服务端的消息\n",
    "    recved = dataSocket.recv(BUFLEN)\n",
    "\n",
    "    # 如果返回为空，表示对方关闭了连接\n",
    "    if not recved:\n",
    "        break\n",
    "    # 打印读取的信息\n",
    "    print(recved.decode())\n",
    " "
   ]
  },
  {
   "cell_type": "markdown",
   "metadata": {},
   "source": [
    "关闭连接释放资源"
   ]
  },
  {
   "cell_type": "code",
   "execution_count": 17,
   "metadata": {},
   "outputs": [],
   "source": [
    "dataSocket.close()"
   ]
  }
 ],
 "metadata": {
  "interpreter": {
   "hash": "64d91ce8c2d4314070526a257efa33edd536831919a571493f5643e06a886e79"
  },
  "kernelspec": {
   "display_name": "Python 3.8.13 ('shengyi')",
   "language": "python",
   "name": "python3"
  },
  "language_info": {
   "codemirror_mode": {
    "name": "ipython",
    "version": 3
   },
   "file_extension": ".py",
   "mimetype": "text/x-python",
   "name": "python",
   "nbconvert_exporter": "python",
   "pygments_lexer": "ipython3",
   "version": "3.8.13"
  },
  "orig_nbformat": 4
 },
 "nbformat": 4,
 "nbformat_minor": 2
}
