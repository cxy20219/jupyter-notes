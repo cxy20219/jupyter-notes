{
 "cells": [
  {
   "cell_type": "markdown",
   "metadata": {},
   "source": [
    "## 支持多TCP客户端"
   ]
  },
  {
   "cell_type": "markdown",
   "metadata": {},
   "source": [
    "如果我们同时运行多个客户端，就会发现 后面的客户端程序不能和服务端连接成功\n",
    "\n",
    "因为，服务端程序必须不停的对 监听 socket 对象调用 accept()方法，才能不断的接受 新的客户端连接请求。\n",
    "\n",
    "而且 还需要运行额外的代码 对 多个客户端连接后，返回的多个数据传输socket对象 进行数据的收发。\n",
    "\n",
    "因为缺省情况创建的 socket 是 阻塞式 的，进行 accpet调用时，如果没有客户端连接，程序就阻塞在此处，不再执行后续代码。\n",
    "\n",
    "同样的，调用recv方法，如果没有数据在本socket的接收缓冲，也会阻塞。\n",
    "\n",
    "所以，通常一个线程里面，没法 不断地 调用 监听socket的 accept方法，同时还能 负责多个 数据传输socket消息的收发。\n",
    "\n",
    "需要用到**多线程技术**"
   ]
  },
  {
   "cell_type": "code",
   "execution_count": null,
   "metadata": {
    "vscode": {
     "languageId": "plaintext"
    }
   },
   "outputs": [],
   "source": [
    "#  === TCP 服务端程序 server.py ， 支持多客户端 ===\n",
    "\n",
    "# 导入socket 库\n",
    "from socket import *\n",
    "from threading import Thread\n",
    "\n",
    "IP = ''\n",
    "PORT = 50000\n",
    "BUFLEN = 512\n",
    "\n",
    "# 这是新线程执行的函数，每个线程负责和一个客户端进行通信\n",
    "def clientHandler(dataSocket,addr):\n",
    "    while True:\n",
    "        recved = dataSocket.recv(BUFLEN)\n",
    "        # 当对方关闭连接的时候，返回空字符串\n",
    "        if not recved:\n",
    "            print(f'客户端{addr} 关闭了连接' )\n",
    "            break\n",
    "\n",
    "        # 读取的字节数据是bytes类型，需要解码为字符串\n",
    "        info = recved.decode()\n",
    "        print(f'收到{addr}信息： {info}')\n",
    "\n",
    "        dataSocket.send(f'服务端接收到了信息 {info}'.encode())\n",
    "\n",
    "    dataSocket.close()\n",
    "\n",
    "# 实例化一个socket对象 用来监听客户端连接请求\n",
    "listenSocket = socket(AF_INET, SOCK_STREAM)\n",
    "\n",
    "# socket绑定地址和端口\n",
    "listenSocket.bind((IP, PORT))\n",
    "\n",
    "listenSocket.listen(8)\n",
    "print(f'服务端启动成功，在{PORT}端口等待客户端连接...')\n",
    "\n",
    "while True:\n",
    "   # 在循环中，一直接受新的连接请求\n",
    "   dataSocket, addr = listenSocket.accept()     # Establish connection with client.\n",
    "   addr = str(addr)\n",
    "   print(f'一个客户端 {addr} 连接成功' )\n",
    "\n",
    "   # 创建新线程处理和这个客户端的消息收发\n",
    "   th = Thread(target=clientHandler,args=(dataSocket,addr))\n",
    "   th.start()\n",
    "\n",
    "listenSocket.close()"
   ]
  },
  {
   "cell_type": "markdown",
   "metadata": {},
   "source": [
    "多线程方式有个缺点。\n",
    "\n",
    "如果一个服务端要同时处理大量的客户端连接，比如10000个，需要创建10000个线程。\n",
    "\n",
    "而操作系统通常不可能为一个进程分配这么多的线程。\n",
    "\n",
    "实际上，我们的服务端程序，大部分时间都是空闲的，都在等待连接请求，等待接受消息，根本不需要这么多的线程来处理。\n",
    "\n",
    "这种程序通常被称之为 IO bound 程序，也就是说程序的主要时间都是花费在 IO 上面。\n",
    "\n",
    "这种程序，其实一个线程就足够了。\n",
    "\n",
    "关键问题是，需要这一个线程 很好的分配 时间， 在有连接请求到来的时候，执行处理连接请求代码，有消息到达socket缓冲的时候，执行读取处理消息的代码。\n",
    "\n",
    "这种处理方式称之为异步IO。\n",
    "\n",
    "Python 3 新增了 asyncio 库， 我们可以使用该库来 实现 同时处理多个客户端数据收发。"
   ]
  },
  {
   "cell_type": "code",
   "execution_count": null,
   "metadata": {
    "vscode": {
     "languageId": "plaintext"
    }
   },
   "outputs": [],
   "source": [
    "#  === TCP 服务端程序 server.py 异步支持多客户端 ===\n",
    "import asyncio, socket\n",
    "IP = ''\n",
    "PORT = 50000\n",
    "BUFLEN = 512\n",
    "\n",
    "# 定义处理数据收发的回调\n",
    "async def handle_echo(reader, writer):\n",
    "    addr = writer.get_extra_info('peername')\n",
    "    while True:\n",
    "        data = await reader.read(100)\n",
    "        if not data:\n",
    "            print(f'客户端{addr}关闭了连接')\n",
    "            writer.close()\n",
    "            break\n",
    "\n",
    "        message = data.decode()\n",
    "        print(f'收到{addr}信息： {message}')\n",
    "\n",
    "        writer.write(data)\n",
    "\n",
    "loop = asyncio.get_event_loop()\n",
    "coro = asyncio.start_server(handle_echo, IP, PORT, loop=loop)\n",
    "server = loop.run_until_complete(coro)\n",
    "\n",
    "# Serve requests until Ctrl+C is pressed\n",
    "print('服务端启动成功，在{}端口等待客户端连接...'.format(server.sockets[0].getsockname()[1]))\n",
    "try:\n",
    "    loop.run_forever()\n",
    "except KeyboardInterrupt:\n",
    "    pass\n",
    "\n",
    "# Close the server\n",
    "server.close()\n",
    "loop.run_until_complete(server.wait_closed())\n",
    "loop.close()"
   ]
  }
 ],
 "metadata": {
  "language_info": {
   "name": "python"
  },
  "orig_nbformat": 4
 },
 "nbformat": 4,
 "nbformat_minor": 2
}
