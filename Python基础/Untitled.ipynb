{
 "cells": [
  {
   "cell_type": "code",
   "execution_count": 2,
   "id": "57786bf2",
   "metadata": {},
   "outputs": [
    {
     "name": "stdout",
     "output_type": "stream",
     "text": [
      "Help on method randint in module random:\n",
      "\n",
      "randint(a, b) method of random.Random instance\n",
      "    Return random integer in range [a, b], including both end points.\n",
      "\n",
      "Help on built-in function getrandbits:\n",
      "\n",
      "getrandbits(k, /) method of random.Random instance\n",
      "    getrandbits(k) -> x.  Generates an int with k random bits.\n",
      "\n"
     ]
    },
    {
     "data": {
      "text/plain": [
       "21"
      ]
     },
     "execution_count": 2,
     "metadata": {},
     "output_type": "execute_result"
    }
   ],
   "source": [
    "import random\n",
    "help(random.randint)\n",
    "help(random.getrandbits)\n",
    "random.randrange(1,100,20)"
   ]
  },
  {
   "cell_type": "code",
   "execution_count": 3,
   "id": "4dcda16d",
   "metadata": {},
   "outputs": [
    {
     "data": {
      "text/plain": [
       "'武汉'"
      ]
     },
     "execution_count": 3,
     "metadata": {},
     "output_type": "execute_result"
    }
   ],
   "source": [
    "\"武汉\".encode().decode()\n",
    "\"武汉\".encode(\"utf-8\").decode()"
   ]
  },
  {
   "cell_type": "code",
   "execution_count": 4,
   "id": "59484152",
   "metadata": {},
   "outputs": [
    {
     "data": {
      "text/plain": [
       "5"
      ]
     },
     "execution_count": 4,
     "metadata": {},
     "output_type": "execute_result"
    }
   ],
   "source": [
    "n=1\n",
    "eval(\"n + 4\")"
   ]
  },
  {
   "cell_type": "code",
   "execution_count": 5,
   "id": "aa0cb088",
   "metadata": {},
   "outputs": [
    {
     "data": {
      "text/plain": [
       "9"
      ]
     },
     "execution_count": 5,
     "metadata": {},
     "output_type": "execute_result"
    }
   ],
   "source": [
    "a=\"{:7.2f}{:2d}\".format(4000/3,1)\n",
    "len(a)"
   ]
  },
  {
   "cell_type": "code",
   "execution_count": 6,
   "id": "c18ac301",
   "metadata": {},
   "outputs": [
    {
     "data": {
      "text/plain": [
       "['j', 'z', 'y', 's']"
      ]
     },
     "execution_count": 6,
     "metadata": {},
     "output_type": "execute_result"
    }
   ],
   "source": [
    "list(set(\"jzzszyj\"))"
   ]
  },
  {
   "cell_type": "code",
   "execution_count": 7,
   "id": "c3713eee",
   "metadata": {},
   "outputs": [
    {
     "name": "stdout",
     "output_type": "stream",
     "text": [
      "hello\n"
     ]
    }
   ],
   "source": [
    "print('hello')"
   ]
  },
  {
   "cell_type": "code",
   "execution_count": 8,
   "id": "a7e2ab46",
   "metadata": {},
   "outputs": [
    {
     "name": "stdout",
     "output_type": "stream",
     "text": [
      "2152026406592\n",
      "2152026406592\n"
     ]
    },
    {
     "data": {
      "text/plain": [
       "2152026406464"
      ]
     },
     "execution_count": 8,
     "metadata": {},
     "output_type": "execute_result"
    }
   ],
   "source": [
    "ls1=[]\n",
    "ls2=ls1\n",
    "ls3=ls1.copy()\n",
    "print(id(ls1))\n",
    "print(id(ls2))\n",
    "id(ls3)"
   ]
  },
  {
   "cell_type": "code",
   "execution_count": 9,
   "id": "4e0103c2",
   "metadata": {},
   "outputs": [
    {
     "data": {
      "text/plain": [
       "32"
      ]
     },
     "execution_count": 9,
     "metadata": {},
     "output_type": "execute_result"
    }
   ],
   "source": [
    "2**5"
   ]
  },
  {
   "cell_type": "code",
   "execution_count": 10,
   "id": "7c1ce895",
   "metadata": {},
   "outputs": [
    {
     "data": {
      "text/plain": [
       "{'a': 2, 'b': 3}"
      ]
     },
     "execution_count": 10,
     "metadata": {},
     "output_type": "execute_result"
    }
   ],
   "source": [
    "a={\"a\":2,\"b\":3}\n",
    "a"
   ]
  },
  {
   "cell_type": "code",
   "execution_count": 11,
   "id": "631daf6c",
   "metadata": {},
   "outputs": [
    {
     "data": {
      "text/plain": [
       "{}"
      ]
     },
     "execution_count": 11,
     "metadata": {},
     "output_type": "execute_result"
    }
   ],
   "source": [
    "a.clear()\n",
    "a"
   ]
  },
  {
   "cell_type": "code",
   "execution_count": 13,
   "id": "d20778b2",
   "metadata": {},
   "outputs": [
    {
     "data": {
      "text/latex": [
       "$\\displaystyle 34.0$"
      ],
      "text/plain": [
       "34.0000000000000"
      ]
     },
     "execution_count": 13,
     "metadata": {},
     "output_type": "execute_result"
    }
   ],
   "source": [
    "import sympy\n",
    "x=sympy.Symbol('x')\n",
    "fx=5*x+4\n",
    "y=fx.evalf(subs={x:6})\n",
    "y"
   ]
  },
  {
   "cell_type": "code",
   "execution_count": 17,
   "id": "12993487",
   "metadata": {},
   "outputs": [
    {
     "data": {
      "text/latex": [
       "$\\displaystyle 2 \\cos{\\left(2 x \\right)}$"
      ],
      "text/plain": [
       "2*cos(2*x)"
      ]
     },
     "execution_count": 17,
     "metadata": {},
     "output_type": "execute_result"
    }
   ],
   "source": [
    "from sympy import symbols,sin,cos,diff\n",
    "x,y=symbols('x y')\n",
    "diff(sin(2*x),x)"
   ]
  },
  {
   "cell_type": "code",
   "execution_count": 20,
   "id": "fcb8a78e",
   "metadata": {},
   "outputs": [
    {
     "data": {
      "text/latex": [
       "$\\displaystyle - 4 \\sin{\\left(2 x \\right)}$"
      ],
      "text/plain": [
       "-4*sin(2*x)"
      ]
     },
     "execution_count": 20,
     "metadata": {},
     "output_type": "execute_result"
    }
   ],
   "source": [
    "diff(sin(2*x),x,2)"
   ]
  },
  {
   "cell_type": "code",
   "execution_count": 26,
   "id": "6d4bee0c",
   "metadata": {},
   "outputs": [
    {
     "data": {
      "text/latex": [
       "$\\displaystyle x \\left(x^{2} y^{2} \\cos{\\left(x y \\right)} + 6 x y \\sin{\\left(x y \\right)} - 6 \\cos{\\left(x y \\right)}\\right)$"
      ],
      "text/plain": [
       "x*(x**2*y**2*cos(x*y) + 6*x*y*sin(x*y) - 6*cos(x*y))"
      ]
     },
     "execution_count": 26,
     "metadata": {},
     "output_type": "execute_result"
    }
   ],
   "source": [
    "diff(sin(x*y),x,2,y,3)"
   ]
  },
  {
   "cell_type": "code",
   "execution_count": 29,
   "id": "4131c2c6",
   "metadata": {},
   "outputs": [
    {
     "data": {
      "text/plain": [
       "{x: 46/11, y: 56/11, z: 74/11}"
      ]
     },
     "execution_count": 29,
     "metadata": {},
     "output_type": "execute_result"
    }
   ],
   "source": [
    "from sympy import symbols,solve\n",
    "x,y,z=symbols('x y z')\n",
    "f1=2*x-y+z-10\n",
    "f2=3*x+2*y-z-16\n",
    "f3=x+6*y-z-28\n",
    "solve([f1,f2,f3])"
   ]
  },
  {
   "cell_type": "code",
   "execution_count": 1,
   "id": "aad4400f",
   "metadata": {},
   "outputs": [
    {
     "data": {
      "text/latex": [
       "$\\displaystyle e$"
      ],
      "text/plain": [
       "E"
      ]
     },
     "execution_count": 1,
     "metadata": {},
     "output_type": "execute_result"
    }
   ],
   "source": [
    "from sympy import symbols,limit,oo\n",
    "n=symbols('n')\n",
    "limit(((n+3)/(n+2))**n,n,oo)"
   ]
  },
  {
   "cell_type": "code",
   "execution_count": 2,
   "id": "1f630bda",
   "metadata": {},
   "outputs": [
    {
     "data": {
      "text/plain": [
       "6"
      ]
     },
     "execution_count": 2,
     "metadata": {},
     "output_type": "execute_result"
    }
   ],
   "source": [
    "6 or 7"
   ]
  }
 ],
 "metadata": {
  "kernelspec": {
   "display_name": "Python 3 (ipykernel)",
   "language": "python",
   "name": "python3"
  },
  "language_info": {
   "codemirror_mode": {
    "name": "ipython",
    "version": 3
   },
   "file_extension": ".py",
   "mimetype": "text/x-python",
   "name": "python",
   "nbconvert_exporter": "python",
   "pygments_lexer": "ipython3",
   "version": "3.9.7"
  }
 },
 "nbformat": 4,
 "nbformat_minor": 5
}
