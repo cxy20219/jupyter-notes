{
 "cells": [
  {
   "cell_type": "markdown",
   "metadata": {},
   "source": [
    "argsparse是python的命令行解析的标准模块，内置于python，不需要安装。这个库可以让我们直接在命令行中就可以向程序中传入参数并让程序运行"
   ]
  },
  {
   "cell_type": "markdown",
   "metadata": {},
   "source": [
    "## 传入一个参数"
   ]
  },
  {
   "cell_type": "markdown",
   "metadata": {},
   "source": [
    "* 创建test.py文件\n",
    "* cd到文件目录\n",
    "* 用命令行执行"
   ]
  },
  {
   "cell_type": "code",
   "execution_count": null,
   "metadata": {
    "vscode": {
     "languageId": "plaintext"
    }
   },
   "outputs": [],
   "source": [
    "import argparse\n",
    "\n",
    "parser = argparse.ArgumentParser(description='命令行中传入一个数字')\n",
    "#type是要传入的参数的数据类型  help是该参数的提示信息\n",
    "parser.add_argument('integers', type=str, help='传入的数字')\n",
    "\n",
    "args = parser.parse_args()\n",
    "\n",
    "#获得传入的参数\n",
    "print(args)"
   ]
  },
  {
   "cell_type": "markdown",
   "metadata": {},
   "source": [
    "执行：\n",
    "    `python test.py --help`或者`python test.py -h`\n",
    "    \n",
    "输出结果：\n",
    "\n",
    "```shell\n",
    "usage: test.py [-h] integers\n",
    "\n",
    "命令行中传入一个数字\n",
    "\n",
    "positional arguments:\n",
    "  integers    传入的数字\n",
    "\n",
    "optional arguments:\n",
    "  -h, --help  show this help message and exit\n",
    "```"
   ]
  },
  {
   "cell_type": "markdown",
   "metadata": {},
   "source": [
    "执行:\n",
    "`python test.py 5`\n",
    "\n",
    "输出:\n",
    "```shell\n",
    "Namespace(integers='5')\n",
    "```"
   ]
  },
  {
   "cell_type": "markdown",
   "metadata": {},
   "source": [
    "## 操作args字典"
   ]
  },
  {
   "cell_type": "markdown",
   "metadata": {},
   "source": []
  }
 ],
 "metadata": {
  "language_info": {
   "name": "python"
  },
  "orig_nbformat": 4
 },
 "nbformat": 4,
 "nbformat_minor": 2
}
