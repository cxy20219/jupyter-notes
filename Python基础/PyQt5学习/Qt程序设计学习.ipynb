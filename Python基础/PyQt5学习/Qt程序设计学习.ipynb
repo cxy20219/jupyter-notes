{
 "cells": [
  {
   "cell_type": "markdown",
   "metadata": {},
   "source": [
    "## 示例代码"
   ]
  },
  {
   "cell_type": "code",
   "execution_count": 1,
   "metadata": {},
   "outputs": [
    {
     "data": {
      "text/plain": [
       "0"
      ]
     },
     "execution_count": 1,
     "metadata": {},
     "output_type": "execute_result"
    }
   ],
   "source": [
    "from PyQt5.QtWidgets import QApplication, QMainWindow, QPushButton,  QPlainTextEdit\n",
    "\n",
    "# 初始化类\n",
    "app = QApplication([])\n",
    "\n",
    "# 创建一个窗户\n",
    "window = QMainWindow()\n",
    "# 设置窗户大小\n",
    "window.resize(500, 400)\n",
    "# 初始位置\n",
    "window.move(300, 310)\n",
    "# 窗口标题\n",
    "window.setWindowTitle('薪资统计')\n",
    "\n",
    "# 文本编辑框\n",
    "textEdit = QPlainTextEdit(window)\n",
    "# 默认文本\n",
    "textEdit.setPlaceholderText(\"请输入薪资表\")\n",
    "# 编辑框相对窗口位置\n",
    "textEdit.move(10,25)\n",
    "# 编辑框大小\n",
    "textEdit.resize(300,350)\n",
    "\n",
    "# 按钮\n",
    "button = QPushButton('统计', window)\n",
    "button.move(380,80)\n",
    "\n",
    "window.show()\n",
    "\n",
    "# 进入事件处理循环 等待用户输入\n",
    "app.exec_()"
   ]
  },
  {
   "cell_type": "markdown",
   "metadata": {},
   "source": [
    "![demo01](https://cdn.jsdelivr.net/gh/cxy20219/image/images/Qt_demo01.jpg)"
   ]
  },
  {
   "cell_type": "markdown",
   "metadata": {},
   "source": [
    "## 用户操作处理\n",
    "* signal\n",
    "* slot"
   ]
  },
  {
   "cell_type": "code",
   "execution_count": 1,
   "metadata": {},
   "outputs": [
    {
     "name": "stdout",
     "output_type": "stream",
     "text": [
      "统计按钮被点击了\n",
      "统计按钮被点击了\n",
      "统计按钮被点击了\n",
      "统计按钮被点击了\n"
     ]
    },
    {
     "data": {
      "text/plain": [
       "0"
      ]
     },
     "execution_count": 1,
     "metadata": {},
     "output_type": "execute_result"
    }
   ],
   "source": [
    "from PyQt5.QtWidgets import QApplication, QMainWindow, QPushButton,  QPlainTextEdit\n",
    "# 定义处理函数\n",
    "def handleCalc():\n",
    "    print('统计按钮被点击了')\n",
    "\n",
    "# 初始化类\n",
    "app = QApplication([])\n",
    "\n",
    "# 创建一个窗户\n",
    "window = QMainWindow()\n",
    "# 设置窗户大小\n",
    "window.resize(500, 400)\n",
    "# 初始位置\n",
    "window.move(300, 310)\n",
    "# 窗口标题\n",
    "window.setWindowTitle('薪资统计')\n",
    "\n",
    "# 文本编辑框\n",
    "textEdit = QPlainTextEdit(window)\n",
    "# 默认文本\n",
    "textEdit.setPlaceholderText(\"请输入薪资表\")\n",
    "# 编辑框相对窗口位置\n",
    "textEdit.move(10,25)\n",
    "# 编辑框大小\n",
    "textEdit.resize(300,350)\n",
    "\n",
    "# 按钮\n",
    "button = QPushButton('统计', window)\n",
    "button.move(380,80)\n",
    "# 将点击signal连接到处理函数(slot）\n",
    "button.clicked.connect(handleCalc)\n",
    "\n",
    "window.show()\n",
    "\n",
    "# 进入事件处理循环 等待用户输入\n",
    "app.exec_()"
   ]
  },
  {
   "cell_type": "code",
   "execution_count": 1,
   "metadata": {},
   "outputs": [
    {
     "data": {
      "text/plain": [
       "0"
      ]
     },
     "execution_count": 1,
     "metadata": {},
     "output_type": "execute_result"
    }
   ],
   "source": [
    "from PyQt5.QtWidgets import QApplication, QMainWindow, QPushButton,  QPlainTextEdit, QMessageBox\n",
    "# 定义处理函数\n",
    "def handleCalc():\n",
    "    # 获取编辑框输入\n",
    "    info = textEdit.toPlainText()\n",
    "\n",
    "    # 薪资20000 以上 和 以下 的人员名单\n",
    "    salary_above_20k = ''\n",
    "    salary_below_20k = ''\n",
    "    for line in info.splitlines():\n",
    "        if not line.strip():\n",
    "            continue\n",
    "        parts = line.split(' ')\n",
    "        # 去掉列表中的空字符串内容\n",
    "        parts = [p for p in parts if p]\n",
    "        name,salary,age = parts\n",
    "        if int(salary) >= 20000:\n",
    "            salary_above_20k += name + '\\n'\n",
    "        else:\n",
    "            salary_below_20k += name + '\\n'\n",
    "\n",
    "    # 弹出信息窗口打印结果\n",
    "    QMessageBox.about(window,\n",
    "            '统计结果',\n",
    "            f'''薪资20000 以上的有：\\n{salary_above_20k}\n",
    "            \\n薪资20000 以下的有：\\n{salary_below_20k}'''\n",
    "        )\n",
    "\n",
    "# 初始化类\n",
    "app = QApplication([])\n",
    "\n",
    "# 创建一个窗户\n",
    "window = QMainWindow()\n",
    "# 设置窗户大小\n",
    "window.resize(500, 400)\n",
    "# 初始位置\n",
    "window.move(300, 310)\n",
    "# 窗口标题\n",
    "window.setWindowTitle('薪资统计')\n",
    "\n",
    "# 文本编辑框\n",
    "textEdit = QPlainTextEdit(window)\n",
    "# 默认文本\n",
    "textEdit.setPlaceholderText(\"请输入薪资表\")\n",
    "# 编辑框相对窗口位置\n",
    "textEdit.move(10,25)\n",
    "# 编辑框大小\n",
    "textEdit.resize(300,350)\n",
    "\n",
    "# 按钮\n",
    "button = QPushButton('统计', window)\n",
    "button.move(380,80)\n",
    "# 将点击signal连接到处理函数(slot）\n",
    "button.clicked.connect(handleCalc)\n",
    "\n",
    "window.show()\n",
    "\n",
    "# 进入事件处理循环 等待用户输入\n",
    "app.exec_()"
   ]
  },
  {
   "cell_type": "markdown",
   "metadata": {},
   "source": [
    "![demo02](https://cdn.jsdelivr.net/gh/cxy20219/image/images/Qt_demo02.jpg)"
   ]
  },
  {
   "cell_type": "markdown",
   "metadata": {},
   "source": [
    "代码不易阅读，用面向对象的方法封装"
   ]
  },
  {
   "cell_type": "code",
   "execution_count": null,
   "metadata": {},
   "outputs": [],
   "source": [
    "from PyQt5.QtWidgets import QApplication, QMainWindow, QPushButton,  QPlainTextEdit,QMessageBox\n",
    "\n",
    "class Stats():\n",
    "    def __init__(self):\n",
    "        self.window = QMainWindow()\n",
    "        self.window.resize(500, 400)\n",
    "        self.window.move(300, 300)\n",
    "        self.window.setWindowTitle('薪资统计')\n",
    "\n",
    "        self.textEdit = QPlainTextEdit(self.window)\n",
    "        self.textEdit.setPlaceholderText(\"请输入薪资表\")\n",
    "        self.textEdit.move(10, 25)\n",
    "        self.textEdit.resize(300, 350)\n",
    "\n",
    "        self.button = QPushButton('统计', self.window)\n",
    "        self.button.move(380, 80)\n",
    "\n",
    "        self.button.clicked.connect(self.handleCalc)\n",
    "\n",
    "\n",
    "    def handleCalc(self):\n",
    "        info = self.textEdit.toPlainText()\n",
    "\n",
    "        # 薪资20000 以上 和 以下 的人员名单\n",
    "        salary_above_20k = ''\n",
    "        salary_below_20k = ''\n",
    "        for line in info.splitlines():\n",
    "            if not line.strip():\n",
    "                continue\n",
    "            parts = line.split(' ')\n",
    "            # 去掉列表中的空字符串内容\n",
    "            parts = [p for p in parts if p]\n",
    "            name,salary,age = parts\n",
    "            if int(salary) >= 20000:\n",
    "                salary_above_20k += name + '\\n'\n",
    "            else:\n",
    "                salary_below_20k += name + '\\n'\n",
    "\n",
    "        QMessageBox.about(self.window,\n",
    "                    '统计结果',\n",
    "                    f'''薪资20000 以上的有：\\n{salary_above_20k}\n",
    "                    \\n薪资20000 以下的有：\\n{salary_below_20k}'''\n",
    "                    )\n",
    "\n",
    "app = QApplication([])\n",
    "stats = Stats()\n",
    "stats.window.show()\n",
    "app.exec_()"
   ]
  }
 ],
 "metadata": {
  "interpreter": {
   "hash": "64d91ce8c2d4314070526a257efa33edd536831919a571493f5643e06a886e79"
  },
  "kernelspec": {
   "display_name": "Python 3.8.13 ('shengyi')",
   "language": "python",
   "name": "python3"
  },
  "language_info": {
   "codemirror_mode": {
    "name": "ipython",
    "version": 3
   },
   "file_extension": ".py",
   "mimetype": "text/x-python",
   "name": "python",
   "nbconvert_exporter": "python",
   "pygments_lexer": "ipython3",
   "version": "3.8.13"
  },
  "orig_nbformat": 4
 },
 "nbformat": 4,
 "nbformat_minor": 2
}
