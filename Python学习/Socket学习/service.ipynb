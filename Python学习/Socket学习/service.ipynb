{
 "cells": [
  {
   "cell_type": "markdown",
   "metadata": {},
   "source": [
    "## service程序"
   ]
  },
  {
   "cell_type": "markdown",
   "metadata": {},
   "source": [
    "导入socket库"
   ]
  },
  {
   "cell_type": "code",
   "execution_count": 8,
   "metadata": {},
   "outputs": [],
   "source": [
    "import socket"
   ]
  },
  {
   "cell_type": "markdown",
   "metadata": {},
   "source": [
    "0.0.0.0，表示绑定主机所有网络接口IP地址"
   ]
  },
  {
   "cell_type": "code",
   "execution_count": 9,
   "metadata": {},
   "outputs": [],
   "source": [
    "# 定义参数\n",
    "# 等待客户端链接\n",
    "IP = '0.0.0.0'\n",
    "\n",
    "# 端口号\n",
    "PORT = 50000\n",
    "\n",
    "# 定义一次从socket缓冲区最多读入512个字节数据\n",
    "BUFLEN = 512"
   ]
  },
  {
   "cell_type": "markdown",
   "metadata": {},
   "source": [
    "实列化socket类"
   ]
  },
  {
   "cell_type": "code",
   "execution_count": 10,
   "metadata": {},
   "outputs": [],
   "source": [
    "listenSocket = socket.socket(socket.AF_INET,socket.SOCK_STREAM)"
   ]
  },
  {
   "cell_type": "markdown",
   "metadata": {},
   "source": [
    "绑定地址和端口"
   ]
  },
  {
   "cell_type": "code",
   "execution_count": 11,
   "metadata": {},
   "outputs": [],
   "source": [
    "listenSocket.bind((IP,PORT))"
   ]
  },
  {
   "cell_type": "code",
   "execution_count": 12,
   "metadata": {},
   "outputs": [
    {
     "name": "stdout",
     "output_type": "stream",
     "text": [
      "服务端启动成功,在50000端口等待客户端连接...\n",
      "接受一个客户端连接： ('127.0.0.1', 54473)\n"
     ]
    }
   ],
   "source": [
    "# 是socket处于监听状态,等待客户端的链接请求\n",
    "# 参数5表示最多接受多少个等待连接的客户端\n",
    "listenSocket.listen(5)\n",
    "print(f\"服务端启动成功,在{PORT}端口等待客户端连接...\")\n",
    "\n",
    "# 使服务端处于休眠等待\n",
    "dataSocket,addr = listenSocket.accept()\n",
    "print(\"接受一个客户端连接：\",addr)"
   ]
  },
  {
   "cell_type": "markdown",
   "metadata": {},
   "source": [
    "不断接收客户端发送的消息"
   ]
  },
  {
   "cell_type": "code",
   "execution_count": 13,
   "metadata": {},
   "outputs": [
    {
     "name": "stdout",
     "output_type": "stream",
     "text": [
      "收到对方信息:hello\n",
      "收到对方信息:你好\n"
     ]
    }
   ],
   "source": [
    "while True:\n",
    "    # 尝试读取对方发送的消息\n",
    "    # BUFLEN 指定从接收缓冲里最多读取多少字节\n",
    "    recved = dataSocket.recv(BUFLEN)\n",
    "\n",
    "    # 如果返回空bytes,表示对方关闭了连接\n",
    "    # 退出循环，结束消息收发\n",
    "    if not recved:\n",
    "        break\n",
    "\n",
    "    # 读取的字节数据是bytes，需要解码为字符串(数据处理,不同信息不同处理)\n",
    "    info = recved.decode()\n",
    "    print(f\"收到对方信息:{info}\")\n",
    "\n",
    "    # 发送的数据类型必须是bytes，所以需要编码\n",
    "    dataSocket.send(f\"服务端接受到了信息{info}\".encode())"
   ]
  },
  {
   "cell_type": "markdown",
   "metadata": {},
   "source": [
    "关闭连接释放资源"
   ]
  },
  {
   "cell_type": "code",
   "execution_count": 14,
   "metadata": {},
   "outputs": [],
   "source": [
    "dataSocket.close()\n",
    "listenSocket.close()"
   ]
  }
 ],
 "metadata": {
  "interpreter": {
   "hash": "64d91ce8c2d4314070526a257efa33edd536831919a571493f5643e06a886e79"
  },
  "kernelspec": {
   "display_name": "Python 3.8.13 ('shengyi')",
   "language": "python",
   "name": "python3"
  },
  "language_info": {
   "codemirror_mode": {
    "name": "ipython",
    "version": 3
   },
   "file_extension": ".py",
   "mimetype": "text/x-python",
   "name": "python",
   "nbconvert_exporter": "python",
   "pygments_lexer": "ipython3",
   "version": "3.8.13"
  },
  "orig_nbformat": 4
 },
 "nbformat": 4,
 "nbformat_minor": 2
}
