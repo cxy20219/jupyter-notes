{
 "cells": [
  {
   "cell_type": "markdown",
   "metadata": {},
   "source": [
    "## Qt Designer界面生成器使用"
   ]
  },
  {
   "cell_type": "markdown",
   "metadata": {},
   "source": [
    "安装PyQt工具包\n",
    "\n",
    "`pip install pyqt5-tools`"
   ]
  },
  {
   "cell_type": "markdown",
   "metadata": {},
   "source": [
    "进入QtDesigner\n",
    "\n",
    "`designer`"
   ]
  },
  {
   "cell_type": "markdown",
   "metadata": {},
   "source": [
    "### 动态加载UI文件"
   ]
  },
  {
   "cell_type": "code",
   "execution_count": 1,
   "metadata": {},
   "outputs": [
    {
     "data": {
      "text/plain": [
       "0"
      ]
     },
     "execution_count": 1,
     "metadata": {},
     "output_type": "execute_result"
    }
   ],
   "source": [
    "from PyQt5 import uic\n",
    "from PyQt5.QtWidgets import QApplication, QMainWindow, QPushButton,  QPlainTextEdit, QMessageBox\n",
    "\n",
    "class Stats:\n",
    "\n",
    "    def __init__(self):\n",
    "        # 从文件中加载UI定义\n",
    "        self.ui = uic.loadUi(\"UI/stats.ui\")\n",
    "        self.ui.pushButton.clicked.connect(self.handleCalc)\n",
    "\n",
    "\n",
    "        # from PySide2.QtUiTools import QUiLoader\n",
    "        # self.ui = QUiLoader().load('main.ui')\n",
    "\n",
    "\n",
    "    def handleCalc(self):\n",
    "        info = self.ui.plainTextEdit.toPlainText()\n",
    "\n",
    "        salary_above_20k = ''\n",
    "        salary_below_20k = ''\n",
    "        for line in info.splitlines():\n",
    "            if not line.strip():\n",
    "                continue\n",
    "            parts = line.split(' ')\n",
    "\n",
    "            parts = [p for p in parts if p]\n",
    "            name,salary,age = parts\n",
    "            if int(salary) >= 20000:\n",
    "                salary_above_20k += name + '\\n'\n",
    "            else:\n",
    "                salary_below_20k += name + '\\n'\n",
    "\n",
    "        QMessageBox.about(self.ui,\n",
    "                    '统计结果',\n",
    "                    f'''薪资20000 以上的有：\\n{salary_above_20k}\n",
    "                    \\n薪资20000 以下的有：\\n{salary_below_20k}'''\n",
    "                    )\n",
    "app = QApplication([])\n",
    "stats = Stats()\n",
    "stats.ui.show()\n",
    "app.exec_()\n"
   ]
  },
  {
   "cell_type": "markdown",
   "metadata": {},
   "source": [
    "### 将 .ui文件  转换为 .py文件"
   ]
  },
  {
   "cell_type": "markdown",
   "metadata": {},
   "source": [
    "`pyuic5 main.ui > ui_main.py`\n",
    "\n",
    "转换成ui_main.py后 注意编码格式是否是UTF-8,否则无法导入"
   ]
  },
  {
   "cell_type": "code",
   "execution_count": 1,
   "metadata": {},
   "outputs": [
    {
     "ename": "SystemExit",
     "evalue": "0",
     "output_type": "error",
     "traceback": [
      "An exception has occurred, use %tb to see the full traceback.\n",
      "\u001b[1;31mSystemExit\u001b[0m\u001b[1;31m:\u001b[0m 0\n"
     ]
    },
    {
     "name": "stderr",
     "output_type": "stream",
     "text": [
      "e:\\python\\anaconda\\envs\\shengyi\\lib\\site-packages\\IPython\\core\\interactiveshell.py:3405: UserWarning: To exit: use 'exit', 'quit', or Ctrl-D.\n",
      "  warn(\"To exit: use 'exit', 'quit', or Ctrl-D.\", stacklevel=1)\n"
     ]
    }
   ],
   "source": [
    "# 运行\n",
    "import sys\n",
    "from PyQt5.QtWidgets import QApplication,QMainWindow\n",
    "from UI.test_ui_to_py import Ui_MainWindow\n",
    "\n",
    "# 注意 这里选择的父类 要和你UI文件窗体一样的类型\n",
    "# 主窗口是 QMainWindow， 表单是 QWidget， 对话框是 QDialog\n",
    "class MainWindow(QMainWindow):\n",
    "\n",
    "    def __init__(self):\n",
    "        super().__init__()\n",
    "        # 使用ui文件导入定义界面类\n",
    "        self.ui = Ui_MainWindow()\n",
    "        # 初始化界面\n",
    "        self.ui.setupUi(self)\n",
    "\n",
    "if __name__ == \"__main__\":\n",
    "    app = QApplication([])\n",
    "    mainw = MainWindow()\n",
    "    mainw.show()\n",
    "    sys.exit(app.exec_())"
   ]
  },
  {
   "cell_type": "code",
   "execution_count": null,
   "metadata": {},
   "outputs": [],
   "source": []
  }
 ],
 "metadata": {
  "interpreter": {
   "hash": "64d91ce8c2d4314070526a257efa33edd536831919a571493f5643e06a886e79"
  },
  "kernelspec": {
   "display_name": "Python 3.8.13 ('shengyi')",
   "language": "python",
   "name": "python3"
  },
  "language_info": {
   "codemirror_mode": {
    "name": "ipython",
    "version": 3
   },
   "file_extension": ".py",
   "mimetype": "text/x-python",
   "name": "python",
   "nbconvert_exporter": "python",
   "pygments_lexer": "ipython3",
   "version": "3.8.13"
  },
  "orig_nbformat": 4
 },
 "nbformat": 4,
 "nbformat_minor": 2
}
