{
 "cells": [
  {
   "cell_type": "code",
   "execution_count": 1,
   "metadata": {},
   "outputs": [],
   "source": [
    "from sklearn.datasets import load_iris"
   ]
  },
  {
   "cell_type": "code",
   "execution_count": 5,
   "metadata": {},
   "outputs": [
    {
     "name": "stdout",
     "output_type": "stream",
     "text": [
      "[[4.8 3.1 1.6 0.2]\n",
      " [5.4 3.4 1.5 0.4]\n",
      " [5.2 4.1 1.5 0.1]\n",
      " [5.5 4.2 1.4 0.2]\n",
      " [4.9 3.1 1.5 0.2]\n",
      " [5.  3.2 1.2 0.2]\n",
      " [5.5 3.5 1.3 0.2]\n",
      " [4.9 3.6 1.4 0.1]\n",
      " [4.4 3.  1.3 0.2]\n",
      " [5.1 3.4 1.5 0.2]]\n",
      "[0 0 0 0 0 0 0 0 0 0]\n",
      "150\n",
      "<class 'numpy.ndarray'>\n",
      "int32\n"
     ]
    }
   ],
   "source": [
    "iris = load_iris()\n",
    "iris_data = iris[\"data\"]\n",
    "iris_target = iris[\"target\"]\n",
    "print(iris_data[30:40])\n",
    "print(iris_target[30:40])\n",
    "print(len(iris_data))\n",
    "print(type(iris_target))\n",
    "print(iris_target.dtype)"
   ]
  },
  {
   "cell_type": "code",
   "execution_count": 14,
   "metadata": {},
   "outputs": [
    {
     "name": "stdout",
     "output_type": "stream",
     "text": [
      "30\n",
      "[[5.1 3.8 1.9 0.4]\n",
      " [4.8 3.  1.4 0.1]\n",
      " [4.6 3.6 1.  0.2]\n",
      " [6.7 3.3 5.7 2.1]\n",
      " [5.5 2.6 4.4 1.2]\n",
      " [6.8 2.8 4.8 1.4]\n",
      " [6.1 2.6 5.6 1.4]\n",
      " [5.6 3.  4.1 1.3]\n",
      " [5.5 4.2 1.4 0.2]\n",
      " [5.7 2.9 4.2 1.3]\n",
      " [5.6 2.5 3.9 1.1]\n",
      " [4.5 2.3 1.3 0.3]\n",
      " [6.  2.9 4.5 1.5]\n",
      " [6.6 2.9 4.6 1.3]\n",
      " [5.9 3.  5.1 1.8]\n",
      " [5.  3.3 1.4 0.2]\n",
      " [5.  3.5 1.6 0.6]\n",
      " [5.  3.5 1.3 0.3]\n",
      " [6.9 3.1 5.4 2.1]\n",
      " [6.4 2.7 5.3 1.9]\n",
      " [5.7 2.5 5.  2. ]\n",
      " [7.9 3.8 6.4 2. ]\n",
      " [5.  3.  1.6 0.2]\n",
      " [4.4 2.9 1.4 0.2]\n",
      " [6.  2.2 4.  1. ]\n",
      " [5.5 2.4 3.8 1.1]\n",
      " [4.9 2.4 3.3 1. ]\n",
      " [4.8 3.4 1.6 0.2]\n",
      " [5.  3.2 1.2 0.2]\n",
      " [6.7 3.  5.  1.7]\n",
      " [6.3 3.3 6.  2.5]\n",
      " [5.4 3.9 1.7 0.4]\n",
      " [5.7 2.8 4.1 1.3]\n",
      " [6.  3.  4.8 1.8]\n",
      " [5.7 2.6 3.5 1. ]\n",
      " [4.8 3.4 1.9 0.2]\n",
      " [6.7 3.3 5.7 2.5]\n",
      " [6.3 2.3 4.4 1.3]\n",
      " [5.7 2.8 4.5 1.3]\n",
      " [5.4 3.9 1.3 0.4]\n",
      " [6.6 3.  4.4 1.4]\n",
      " [6.8 3.2 5.9 2.3]\n",
      " [7.7 2.8 6.7 2. ]\n",
      " [5.1 3.8 1.5 0.3]\n",
      " [5.6 2.8 4.9 2. ]\n",
      " [6.5 3.  5.5 1.8]\n",
      " [5.6 2.7 4.2 1.3]\n",
      " [6.1 2.8 4.7 1.2]\n",
      " [5.2 4.1 1.5 0.1]\n",
      " [4.6 3.4 1.4 0.3]\n",
      " [5.1 3.8 1.6 0.2]\n",
      " [5.1 3.4 1.5 0.2]\n",
      " [6.5 2.8 4.6 1.5]\n",
      " [5.8 2.7 5.1 1.9]\n",
      " [5.8 2.7 3.9 1.2]\n",
      " [7.7 2.6 6.9 2.3]\n",
      " [4.9 3.6 1.4 0.1]\n",
      " [6.2 2.8 4.8 1.8]\n",
      " [6.7 3.1 5.6 2.4]\n",
      " [5.5 3.5 1.3 0.2]\n",
      " [6.3 2.7 4.9 1.8]\n",
      " [4.4 3.  1.3 0.2]\n",
      " [4.7 3.2 1.3 0.2]\n",
      " [6.3 2.9 5.6 1.8]\n",
      " [5.  3.4 1.5 0.2]\n",
      " [5.6 2.9 3.6 1.3]\n",
      " [5.4 3.7 1.5 0.2]\n",
      " [4.6 3.2 1.4 0.2]\n",
      " [5.7 3.  4.2 1.2]\n",
      " [5.2 3.4 1.4 0.2]\n",
      " [5.8 2.8 5.1 2.4]\n",
      " [6.3 2.5 4.9 1.5]\n",
      " [5.1 3.7 1.5 0.4]\n",
      " [4.8 3.  1.4 0.3]\n",
      " [5.4 3.4 1.7 0.2]\n",
      " [5.4 3.4 1.5 0.4]\n",
      " [6.7 3.1 4.7 1.5]\n",
      " [6.1 2.9 4.7 1.4]\n",
      " [6.8 3.  5.5 2.1]\n",
      " [6.1 3.  4.6 1.4]\n",
      " [5.8 2.6 4.  1.2]\n",
      " [5.7 4.4 1.5 0.4]\n",
      " [7.3 2.9 6.3 1.8]\n",
      " [5.5 2.4 3.7 1. ]\n",
      " [6.5 3.2 5.1 2. ]\n",
      " [5.8 2.7 5.1 1.9]\n",
      " [6.4 2.8 5.6 2.1]\n",
      " [7.4 2.8 6.1 1.9]\n",
      " [5.6 3.  4.5 1.5]\n",
      " [5.  3.4 1.6 0.4]\n",
      " [6.2 3.4 5.4 2.3]\n",
      " [4.4 3.2 1.3 0.2]\n",
      " [6.5 3.  5.2 2. ]\n",
      " [6.1 2.8 4.  1.3]\n",
      " [7.2 3.2 6.  1.8]\n",
      " [5.5 2.3 4.  1.3]\n",
      " [6.2 2.2 4.5 1.5]\n",
      " [6.4 3.2 4.5 1.5]\n",
      " [4.9 3.1 1.5 0.1]\n",
      " [7.7 3.  6.1 2.3]\n",
      " [7.1 3.  5.9 2.1]\n",
      " [5.8 4.  1.2 0.2]\n",
      " [5.7 3.8 1.7 0.3]\n",
      " [5.2 2.7 3.9 1.4]\n",
      " [5.1 2.5 3.  1.1]\n",
      " [5.  2.3 3.3 1. ]\n",
      " [5.9 3.  4.2 1.5]\n",
      " [4.3 3.  1.1 0.1]\n",
      " [6.7 2.5 5.8 1.8]\n",
      " [6.4 3.2 5.3 2.3]\n",
      " [5.  2.  3.5 1. ]\n",
      " [6.  3.4 4.5 1.6]\n",
      " [7.2 3.6 6.1 2.5]\n",
      " [5.3 3.7 1.5 0.2]\n",
      " [6.5 3.  5.8 2.2]\n",
      " [6.  2.7 5.1 1.6]\n",
      " [6.3 3.4 5.6 2.4]\n",
      " [6.3 2.8 5.1 1.5]\n",
      " [7.6 3.  6.6 2.1]\n",
      " [5.4 3.  4.5 1.5]]\n"
     ]
    }
   ],
   "source": [
    "from sklearn.model_selection import train_test_split\n",
    "x_train,x_test = train_test_split(iris.data,test_size=0.2,random_state=8)\n",
    "print(len(x_test))\n",
    "print(x_train)"
   ]
  },
  {
   "cell_type": "code",
   "execution_count": 24,
   "metadata": {},
   "outputs": [
    {
     "name": "stdout",
     "output_type": "stream",
     "text": [
      "[[ 1.  0.  0. 41.]\n",
      " [ 0.  1.  0. 32.]\n",
      " [ 0.  0.  1. 38.]]\n",
      "特征名字：\n",
      " ['city=北京', 'city=武汉', 'city=重庆', 'temperature']\n"
     ]
    }
   ],
   "source": [
    "from sklearn.feature_extraction import DictVectorizer\n",
    "transer = DictVectorizer(sparse=False)\n",
    "data = [{\"city\":\"北京\",\"temperature\":41},{\"city\":\"武汉\",\"temperature\":32},{\"city\":\"重庆\",\"temperature\":38}]\n",
    "data_new = transer.fit_transform(data)\n",
    "print(data_new)\n",
    "print(\"特征名字：\\n\",transer.get_feature_names())"
   ]
  },
  {
   "cell_type": "code",
   "execution_count": 25,
   "metadata": {},
   "outputs": [
    {
     "name": "stdout",
     "output_type": "stream",
     "text": [
      "特征名字：\n",
      " ['can', 'do', 'easy', 'is', 'it', 'life', 'like', 'python', 'short', 'want', '我爱', '我爱中国']\n",
      "转换后数据：\n",
      " [[0 0 1 2 0 1 1 2 1 0 0 0]\n",
      " [0 1 0 0 1 0 0 0 0 1 0 0]\n",
      " [1 1 0 0 1 0 0 0 0 0 0 0]\n",
      " [0 0 0 0 0 0 0 1 0 0 1 1]]\n"
     ]
    },
    {
     "name": "stderr",
     "output_type": "stream",
     "text": [
      "e:\\python\\anaconda\\envs\\AI\\lib\\site-packages\\sklearn\\utils\\deprecation.py:87: FutureWarning: Function get_feature_names is deprecated; get_feature_names is deprecated in 1.0 and will be removed in 1.2. Please use get_feature_names_out instead.\n",
      "  warnings.warn(msg, category=FutureWarning)\n"
     ]
    }
   ],
   "source": [
    "from sklearn.feature_extraction.text import CountVectorizer\n",
    "data = [\"life is short,i like python,python is easy\",\"i want do it\",\"i can do it\",\"我爱中国,我爱 python\"]\n",
    "# 1. 创建实例化对象\n",
    "transer = CountVectorizer()  # 参数 stop_words=[\"is\",\"do\"]\n",
    "# 2. 调用fit_tranform()\n",
    "data_new = transer.fit_transform(data)\n",
    "\n",
    "print(\"特征名字：\\n\",transer.get_feature_names())\n",
    "print(\"转换后数据：\\n\",data_new.toarray())"
   ]
  },
  {
   "cell_type": "code",
   "execution_count": 29,
   "metadata": {},
   "outputs": [
    {
     "name": "stdout",
     "output_type": "stream",
     "text": [
      "见 扫能 吃 辣 说 出口 洒出\n",
      "武器 卡安吃 撒 你 哦\n",
      "哦 啊 市场 开始\n",
      "屏幕 上 查看\n"
     ]
    }
   ],
   "source": [
    "import jieba\n",
    "text = [\"见扫能吃辣说出口洒出\",\"武器卡安吃撒你哦\",\"哦啊市场开始\",\"屏幕上查看\"]\n",
    "\n",
    "for i in text:\n",
    "    split_word = \" \".join(jieba.cut(i))\n",
    "    print(split_word)"
   ]
  },
  {
   "cell_type": "code",
   "execution_count": 32,
   "metadata": {},
   "outputs": [
    {
     "name": "stdout",
     "output_type": "stream",
     "text": [
      "   milage    liters  consumtime\n",
      "0   12412  8.215278     0.12754\n",
      "1   12212  4.215742     0.18324\n",
      "2   13812  5.212328     0.14124\n",
      "3   62412  4.212428     0.25124\n",
      "4   12412  2.215278     0.12324\n",
      "5   52412  2.245278     0.23124\n",
      "6   42212  7.225278     0.13234\n",
      "[[0.00398406 1.         0.03359375]\n",
      " [0.         0.33341067 0.46875   ]\n",
      " [0.03187251 0.49950833 0.140625  ]\n",
      " [1.         0.33285833 1.        ]\n",
      " [0.00398406 0.         0.        ]\n",
      " [0.80079681 0.005      0.84375   ]\n",
      " [0.59760956 0.835      0.07109375]]\n"
     ]
    }
   ],
   "source": [
    "# 1. 获取数据\n",
    "import pandas as pd\n",
    "data = pd.read_csv(\"../../../datas/data.txt\")\n",
    "data = data.iloc[: , :3] # 取前三列\n",
    "    \n",
    "# 2. 实例化类\n",
    "from sklearn.preprocessing import MinMaxScaler\n",
    "transer = MinMaxScaler()    # 参数feature_range=[2,3] 默认0,1\n",
    "\n",
    "# 3。 调用fit_transform\n",
    "data_new = transer.fit_transform(data)\n",
    "print(data)\n",
    "print(data_new)"
   ]
  },
  {
   "cell_type": "code",
   "execution_count": 46,
   "metadata": {},
   "outputs": [
    {
     "name": "stdout",
     "output_type": "stream",
     "text": [
      "Index(['pe_ratio', 'pb_ratio', 'market_cap', 'return_on_asset_net_profit',\n",
      "       'du_return_on_equity', 'ev', 'earnings_per_share', 'revenue',\n",
      "       'total_expense'],\n",
      "      dtype='object')\n",
      "[[ 5.95720000e+00  8.52525509e+10  8.00800000e-01 ...  1.21144486e+12\n",
      "   2.07014010e+10  1.08825400e+10]\n",
      " [ 7.02890000e+00  8.41133582e+10  1.64630000e+00 ...  3.00252062e+11\n",
      "   2.93083692e+10  2.37834769e+10]\n",
      " [-2.62746100e+02  5.17045520e+08 -5.67800000e-01 ...  7.70517753e+08\n",
      "   1.16798290e+07  1.20300800e+07]\n",
      " ...\n",
      " [ 3.95523000e+01  1.70243430e+10  3.34400000e+00 ...  2.42081699e+10\n",
      "   1.78908166e+10  1.74929478e+10]\n",
      " [ 5.25408000e+01  3.28790988e+10  2.74440000e+00 ...  3.88380258e+10\n",
      "   6.46539204e+09  6.00900728e+09]\n",
      " [ 1.42203000e+01  5.91108572e+10  2.03830000e+00 ...  2.02066110e+11\n",
      "   4.50987171e+10  4.13284212e+10]]\n",
      "(2318, 9)\n",
      "(2318, 7)\n",
      "(-0.0043893227799362885, 0.8327205496564927)\n"
     ]
    }
   ],
   "source": [
    "import pandas as pd\n",
    "data = pd.read_csv(\"../../../datas/factor_returns.csv\")\n",
    "data = data.iloc[:,1:-2]\n",
    "\n",
    "# 2. 实例化类\n",
    "from sklearn.feature_selection import VarianceThreshold\n",
    "transer = VarianceThreshold(threshold=20)  # threshold=5 默认为0\n",
    "# 3。 调用fit_transform\n",
    "data_new = transer.fit_transform(data)\n",
    "print(data.columns)\n",
    "print(data_new)\n",
    "print(data.shape)\n",
    "print(data_new.shape)\n",
    "# 计算两个变量相关系数\n",
    "from scipy.stats import pearsonr\n",
    "r = pearsonr(data[\"pe_ratio\"],data[\"pb_ratio\"])\n",
    "print(r)"
   ]
  },
  {
   "cell_type": "code",
   "execution_count": 48,
   "metadata": {},
   "outputs": [
    {
     "name": "stdout",
     "output_type": "stream",
     "text": [
      "y_predict:\n",
      " [0 0 0 2 1 0 0 2 2 1 1 0 1 1 1 2 2 2 1 2 1 0 1 1 1 0 2 0 0 2 0 0 0 2 1 1 2\n",
      " 1]\n",
      "直接比对真实值和预测值：\n",
      " [ True  True  True  True  True  True  True  True  True  True  True  True\n",
      " False  True False  True  True  True  True  True  True  True  True  True\n",
      "  True  True  True  True  True  True  True  True  True  True  True  True\n",
      "  True  True]\n",
      "准确率：\n",
      " 0.9473684210526315\n"
     ]
    }
   ],
   "source": [
    "# 1. 获取数据\n",
    "from sklearn.datasets import load_iris\n",
    "iris = load_iris()\n",
    "# 2. 划分数据集\n",
    "from sklearn.model_selection import train_test_split\n",
    "x_train,x_test,y_train,y_test = train_test_split(iris.data,iris.target,random_state= 8)\n",
    "# 3. 特征工程 ： 标准化\n",
    "from sklearn.preprocessing import StandardScaler\n",
    "transer = StandardScaler()\n",
    "x_train = transer.fit_transform(x_train)\n",
    "x_test = transer.fit_transform(x_test)\n",
    "# 4. KNN算法预估器\n",
    "from sklearn.neighbors import KNeighborsClassifier\n",
    "estimator = KNeighborsClassifier(n_neighbors=9)\n",
    "estimator.fit(x_train,y_train)\n",
    "\n",
    "# 5. 模型评估\n",
    " # 法一 直接比对真实值和预测值\n",
    "y_predict =  estimator.predict(x_test)\n",
    "print(\"y_predict:\\n\",y_predict)\n",
    "print(\"直接比对真实值和预测值：\\n\",y_predict == y_test)\n",
    "    \n",
    "# 法二 计算准确率\n",
    "score = estimator.score(x_test,y_test)\n",
    "print(\"准确率：\\n\",score)"
   ]
  },
  {
   "cell_type": "markdown",
   "metadata": {},
   "source": [
    "## 用已有数据来对生医杯数据做个分类\n",
    "三分类(睁眼，闭眼，睡眠)"
   ]
  }
 ],
 "metadata": {
  "kernelspec": {
   "display_name": "Python 3.7.13 ('AI')",
   "language": "python",
   "name": "python3"
  },
  "language_info": {
   "codemirror_mode": {
    "name": "ipython",
    "version": 3
   },
   "file_extension": ".py",
   "mimetype": "text/x-python",
   "name": "python",
   "nbconvert_exporter": "python",
   "pygments_lexer": "ipython3",
   "version": "3.7.13"
  },
  "orig_nbformat": 4,
  "vscode": {
   "interpreter": {
    "hash": "2d8eeb8d4fe6795225a7d21d8dbeb5d66b72d0fbba0cbdd07f8a63fde4993f52"
   }
  }
 },
 "nbformat": 4,
 "nbformat_minor": 2
}
