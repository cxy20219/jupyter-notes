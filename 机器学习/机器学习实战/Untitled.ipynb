{
 "cells": [
  {
   "cell_type": "markdown",
   "id": "13e9641d",
   "metadata": {},
   "source": [
    "### 一个简单的线性模型"
   ]
  },
  {
   "cell_type": "code",
   "execution_count": null,
   "id": "5e68c1c8",
   "metadata": {},
   "outputs": [],
   "source": []
  }
 ],
 "metadata": {
  "kernelspec": {
   "display_name": "Python [conda env:AI]",
   "language": "python",
   "name": "conda-env-AI-py"
  },
  "language_info": {
   "codemirror_mode": {
    "name": "ipython",
    "version": 3
   },
   "file_extension": ".py",
   "mimetype": "text/x-python",
   "name": "python",
   "nbconvert_exporter": "python",
   "pygments_lexer": "ipython3",
   "version": "3.7.13"
  }
 },
 "nbformat": 4,
 "nbformat_minor": 5
}
