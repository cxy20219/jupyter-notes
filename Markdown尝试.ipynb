{
 "cells": [
  {
   "cell_type": "markdown",
   "id": "af8d8be4",
   "metadata": {},
   "source": [
    "# [Markdown官方教程](https://markdown.com.cn/basic-syntax)"
   ]
  },
  {
   "cell_type": "code",
   "execution_count": 4,
   "id": "70c24556",
   "metadata": {},
   "outputs": [
    {
     "name": "stdout",
     "output_type": "stream",
     "text": [
      "hello\n"
     ]
    }
   ],
   "source": [
    "print(\"hello\")"
   ]
  },
  {
   "cell_type": "code",
   "execution_count": 2,
   "id": "f4d2fd0d",
   "metadata": {},
   "outputs": [
    {
     "name": "stdout",
     "output_type": "stream",
     "text": [
      "3\n"
     ]
    }
   ],
   "source": [
    "a=1\n",
    "b=2\n",
    "print(a+b)"
   ]
  },
  {
   "cell_type": "markdown",
   "id": "4842ddf2",
   "metadata": {},
   "source": [
    "[hello](http://localhost:8890/tree)   \n",
    "__knmasl__  \n",
    "*kmasmd*\n",
    "1. 1231\n",
    "2. sadns\n",
    "3. ascksn\n",
    "- saldj\n",
    "- sadask\n",
    "- sjkamdcsp\n",
    "*sdknsa\n",
    "*snl\n",
    "*jpkasdkspa\n",
    "\n",
    "[link](https://www.example.com/my%20great%20page)\n",
    "\n",
    "\n",
    "[![沙漠中的岩石图片](1.webp \"Shiprock\")](https://markdown.com.cn)  \n",
    "`https://markdown.com.cn`\n",
    "\n",
    "\n",
    "\n",
    "\n"
   ]
  },
  {
   "cell_type": "markdown",
   "id": "068af12e",
   "metadata": {},
   "source": [
    "# wqv"
   ]
  }
 ],
 "metadata": {
  "kernelspec": {
   "display_name": "Python 3 (ipykernel)",
   "language": "python",
   "name": "python3"
  },
  "language_info": {
   "codemirror_mode": {
    "name": "ipython",
    "version": 3
   },
   "file_extension": ".py",
   "mimetype": "text/x-python",
   "name": "python",
   "nbconvert_exporter": "python",
   "pygments_lexer": "ipython3",
   "version": "3.9.7"
  }
 },
 "nbformat": 4,
 "nbformat_minor": 5
}
